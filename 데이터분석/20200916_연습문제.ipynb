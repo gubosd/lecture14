{
 "cells": [
  {
   "cell_type": "markdown",
   "metadata": {},
   "source": [
    "### 연습문제\n",
    "- V 자 모양의 함수를 그려보시오.\n",
    "- coin = np.random.randint(2, size=[100,10]) 에서 동전의 앞면이 5번 이상 나온 행번호를 출력하시오."
   ]
  },
  {
   "cell_type": "code",
   "execution_count": 1,
   "metadata": {},
   "outputs": [],
   "source": [
    "import numpy as np\n",
    "import matplotlib.pyplot as plt"
   ]
  },
  {
   "cell_type": "code",
   "execution_count": 2,
   "metadata": {},
   "outputs": [
    {
     "data": {
      "text/plain": [
       "[<matplotlib.lines.Line2D at 0x2b6bbb94f98>]"
      ]
     },
     "execution_count": 2,
     "metadata": {},
     "output_type": "execute_result"
    },
    {
     "data": {
      "image/png": "[encoded data removed]",
      "text/plain": [
       "<matplotlib.figure.Figure at 0x2b6bb82ecc0>"
      ]
     },
     "metadata": {},
     "output_type": "display_data"
    }
   ],
   "source": [
    "x = np.arange(-5,6)\n",
    "y = np.abs(x)\n",
    "plt.plot(x,y)"
   ]
  },
  {
   "cell_type": "code",
   "execution_count": 3,
   "metadata": {},
   "outputs": [
    {
     "data": {
      "text/plain": [
       "[<matplotlib.lines.Line2D at 0x2b6bbc28d30>]"
      ]
     },
     "execution_count": 3,
     "metadata": {},
     "output_type": "execute_result"
    },
    {
     "data": {
      "image/png": "[encoded data removed]",
      "text/plain": [
       "<matplotlib.figure.Figure at 0x2b6bb82e978>"
      ]
     },
     "metadata": {},
     "output_type": "display_data"
    }
   ],
   "source": [
    "x = np.arange(-5,6)\n",
    "y = np.where(x>0, x, -x)\n",
    "plt.plot(x,y)"
   ]
  },
  {
   "cell_type": "code",
   "execution_count": 7,
   "metadata": {},
   "outputs": [
    {
     "data": {
      "text/plain": [
       "array([ 0,  3,  4,  5,  6, 11, 13, 14, 16, 18, 19, 20, 21, 23, 24, 26, 29,\n",
       "       30, 32, 33, 34, 35, 37, 39, 40, 42, 43, 44, 47, 49, 50, 52, 53, 55,\n",
       "       56, 57, 58, 59, 62, 63, 64, 68, 69, 70, 71, 72, 73, 78, 79, 80, 81,\n",
       "       82, 83, 84, 85, 86, 87, 91, 94, 96, 97, 99], dtype=int64)"
      ]
     },
     "execution_count": 7,
     "metadata": {},
     "output_type": "execute_result"
    }
   ],
   "source": [
    "coin = np.random.randint(2, size=[100,10]) \n",
    "np.where(coin.sum(axis=1)>=5)[0]"
   ]
  },
  {
   "cell_type": "code",
   "execution_count": 8,
   "metadata": {},
   "outputs": [
    {
     "data": {
      "text/plain": [
       "array([[1, 0, 1, 0, 1, 0, 0, 1, 1, 0],\n",
       "       [0, 1, 0, 1, 0, 0, 1, 0, 1, 1],\n",
       "       [1, 0, 1, 1, 0, 1, 0, 0, 1, 1],\n",
       "       [1, 1, 1, 1, 1, 1, 0, 0, 0, 1],\n",
       "       [1, 1, 1, 0, 1, 0, 1, 0, 0, 0],\n",
       "       [1, 1, 0, 1, 0, 1, 1, 1, 0, 1],\n",
       "       [1, 1, 1, 0, 1, 1, 1, 1, 1, 1],\n",
       "       [1, 1, 0, 0, 0, 1, 0, 1, 1, 0],\n",
       "       [1, 1, 0, 1, 1, 1, 0, 1, 1, 0],\n",
       "       [0, 1, 1, 1, 0, 0, 1, 1, 1, 1],\n",
       "       [0, 1, 1, 1, 1, 1, 1, 0, 0, 1],\n",
       "       [0, 1, 0, 0, 1, 1, 0, 1, 1, 1],\n",
       "       [1, 1, 1, 0, 1, 0, 0, 0, 0, 1],\n",
       "       [0, 1, 0, 1, 1, 1, 0, 1, 0, 1],\n",
       "       [1, 1, 1, 0, 1, 0, 0, 1, 1, 0],\n",
       "       [1, 1, 1, 1, 1, 1, 0, 1, 0, 0],\n",
       "       [1, 0, 1, 1, 1, 0, 1, 0, 1, 0],\n",
       "       [1, 0, 1, 1, 1, 0, 1, 0, 1, 0],\n",
       "       [0, 0, 1, 1, 0, 1, 1, 0, 1, 1],\n",
       "       [1, 0, 1, 0, 0, 0, 1, 1, 0, 1],\n",
       "       [1, 1, 1, 1, 1, 1, 1, 1, 0, 0],\n",
       "       [0, 1, 1, 1, 1, 0, 0, 1, 1, 1],\n",
       "       [1, 0, 0, 0, 1, 1, 1, 1, 0, 1],\n",
       "       [0, 0, 1, 1, 1, 0, 0, 0, 1, 1],\n",
       "       [0, 1, 1, 0, 1, 0, 0, 1, 1, 0],\n",
       "       [1, 1, 0, 0, 1, 0, 1, 0, 1, 0],\n",
       "       [1, 0, 1, 0, 1, 1, 0, 0, 1, 0],\n",
       "       [0, 0, 0, 1, 1, 1, 1, 0, 1, 1],\n",
       "       [1, 0, 0, 1, 1, 0, 0, 0, 1, 1],\n",
       "       [1, 0, 1, 1, 1, 1, 0, 1, 1, 0],\n",
       "       [1, 0, 0, 1, 1, 1, 0, 0, 1, 1],\n",
       "       [0, 1, 1, 0, 1, 1, 0, 1, 0, 1],\n",
       "       [1, 1, 1, 1, 1, 1, 1, 0, 0, 1],\n",
       "       [1, 0, 1, 1, 1, 1, 1, 0, 1, 0],\n",
       "       [1, 1, 0, 1, 1, 1, 0, 0, 1, 0],\n",
       "       [0, 0, 1, 1, 1, 0, 1, 0, 1, 1],\n",
       "       [1, 1, 1, 0, 0, 0, 1, 1, 1, 0],\n",
       "       [1, 1, 0, 1, 0, 0, 1, 1, 0, 0],\n",
       "       [1, 1, 0, 1, 0, 1, 1, 0, 0, 0],\n",
       "       [0, 1, 0, 1, 1, 0, 0, 1, 0, 1],\n",
       "       [1, 1, 1, 1, 0, 0, 1, 1, 0, 0],\n",
       "       [0, 1, 1, 1, 0, 0, 0, 0, 1, 1],\n",
       "       [1, 0, 1, 0, 0, 1, 1, 1, 1, 0],\n",
       "       [1, 1, 1, 0, 0, 1, 1, 1, 0, 0],\n",
       "       [0, 1, 0, 1, 1, 1, 0, 1, 0, 0],\n",
       "       [1, 0, 1, 0, 0, 0, 1, 1, 0, 1],\n",
       "       [0, 1, 0, 1, 0, 1, 0, 1, 1, 1],\n",
       "       [1, 1, 0, 0, 0, 0, 1, 1, 1, 0],\n",
       "       [1, 0, 0, 1, 0, 1, 1, 1, 0, 0],\n",
       "       [1, 1, 0, 0, 1, 0, 1, 1, 1, 0],\n",
       "       [1, 0, 1, 1, 1, 0, 0, 0, 1, 0],\n",
       "       [1, 1, 1, 0, 1, 0, 0, 1, 1, 0],\n",
       "       [0, 1, 0, 0, 1, 1, 1, 1, 0, 1],\n",
       "       [1, 1, 1, 0, 1, 0, 0, 0, 0, 1],\n",
       "       [1, 0, 1, 1, 1, 1, 0, 0, 1, 1],\n",
       "       [0, 1, 0, 1, 1, 1, 0, 1, 0, 1],\n",
       "       [1, 1, 1, 0, 1, 1, 0, 1, 0, 1],\n",
       "       [1, 1, 1, 1, 1, 1, 1, 1, 0, 0],\n",
       "       [0, 1, 1, 0, 1, 1, 1, 0, 0, 0]])"
      ]
     },
     "execution_count": 8,
     "metadata": {},
     "output_type": "execute_result"
    }
   ],
   "source": [
    "coin = np.random.randint(2, size=[100,10]) \n",
    "coin[coin.sum(axis=1)>=5]"
   ]
  }
 ],
 "metadata": {
  "kernelspec": {
   "display_name": "Python 3",
   "language": "python",
   "name": "python3"
  },
  "language_info": {
   "codemirror_mode": {
    "name": "ipython",
    "version": 3
   },
   "file_extension": ".py",
   "mimetype": "text/x-python",
   "name": "python",
   "nbconvert_exporter": "python",
   "pygments_lexer": "ipython3",
   "version": "3.6.4"
  }
 },
 "nbformat": 4,
 "nbformat_minor": 2
}
