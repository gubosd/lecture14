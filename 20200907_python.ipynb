{
 "cells": [
  {
   "cell_type": "markdown",
   "metadata": {},
   "source": [
    "## 파이썬\n",
    "# 파이썬 기초"
   ]
  },
  {
   "cell_type": "markdown",
   "metadata": {},
   "source": [
    "### 파일 입출력"
   ]
  },
  {
   "cell_type": "code",
   "execution_count": 1,
   "metadata": {},
   "outputs": [
    {
     "name": "stdout",
     "output_type": "stream",
     "text": [
      "안녕하세요\n",
      "반가워요~\n"
     ]
    }
   ],
   "source": [
    "f = open('안녕.txt', encoding='cp949') # 'utf-8' (윈도우에서 기본은 'cp949')\n",
    "s = f.read() # 텍스트 파일의 모든 내용을 읽어온다\n",
    "f.close() # 파일 사용이 끝나면 항상 닫아준다\n",
    "\n",
    "print(s)"
   ]
  },
  {
   "cell_type": "code",
   "execution_count": 3,
   "metadata": {},
   "outputs": [
    {
     "name": "stdout",
     "output_type": "stream",
     "text": [
      "안녕하세요\n",
      "반가워요~\n"
     ]
    }
   ],
   "source": [
    "f = open('안녕.txt')\n",
    "for line in f: # 라인 단위로 처리한다 (개행문자가 포함됨)\n",
    "    print(line.strip())\n",
    "f.close()"
   ]
  },
  {
   "cell_type": "code",
   "execution_count": 5,
   "metadata": {},
   "outputs": [
    {
     "name": "stdout",
     "output_type": "stream",
     "text": [
      "안녕하세요\n",
      "\n",
      "반가워요~\n"
     ]
    }
   ],
   "source": [
    "f = open('안녕.txt')\n",
    "s1 = f.readline()\n",
    "s2 = f.readline()\n",
    "f.close()\n",
    "\n",
    "print(s1)\n",
    "print(s2)"
   ]
  },
  {
   "cell_type": "code",
   "execution_count": 6,
   "metadata": {},
   "outputs": [
    {
     "name": "stdout",
     "output_type": "stream",
     "text": [
      "안녕하세요\n",
      "\n",
      "반가워요~\n"
     ]
    }
   ],
   "source": [
    "f = open('안녕.txt') # encoding='cp949'\n",
    "s = f.readline() # 헤더 부분을 먼저 읽어온다\n",
    "print(s)\n",
    "\n",
    "for line in f:\n",
    "    print(line.strip())\n",
    "\n",
    "f.close()"
   ]
  },
  {
   "cell_type": "markdown",
   "metadata": {},
   "source": [
    "### 연습문제\n",
    "\n",
    "```\n",
    "이름,나이,지역\n",
    "홍길동,22,서울\n",
    "장길산,33,춘천\n",
    "둘리,5,우주\n",
    "```\n",
    "- 위의 데이터를 '인물.txt' 로 저장하고, 2차원 리스트로 불러와 보자\n",
    "- strip(), split() 함수 사용\n",
    "- encoding='cp949' 또는 encoding='utf-8'"
   ]
  },
  {
   "cell_type": "code",
   "execution_count": 11,
   "metadata": {},
   "outputs": [
    {
     "name": "stdout",
     "output_type": "stream",
     "text": [
      "이름,나이,지역\n",
      "\n",
      "[['홍길동', 22, '서울'], ['장길산', 33, '춘천'], ['둘리', 5, '우주']]\n"
     ]
    }
   ],
   "source": [
    "f = open('인물.txt', encoding='utf-8')\n",
    "s = f.readline()\n",
    "print(s)\n",
    "\n",
    "data = []\n",
    "\n",
    "for line in f:\n",
    "    l = line.strip().split(',') # 리스트로 변환\n",
    "    l[1] = int(l[1]) # 정수로 바꿔준다\n",
    "    data.append(l)\n",
    "\n",
    "f.close()\n",
    "\n",
    "print(data)"
   ]
  },
  {
   "cell_type": "markdown",
   "metadata": {},
   "source": [
    "### 연습문제\n",
    "\n",
    "```\n",
    "이름,나이,지역\n",
    "홍길동,22,서울\n",
    "장길산,33,춘천\n",
    "둘리,5,우주\n",
    "```\n",
    "- '인물2.txt' 로 저장 후, 다시 불러오기"
   ]
  },
  {
   "cell_type": "code",
   "execution_count": 13,
   "metadata": {},
   "outputs": [],
   "source": [
    "f = open('인물2.txt', 'w')\n",
    "f.write('이름,나이,지역\\n')\n",
    "f.write('홍길동,22,서울\\n')\n",
    "f.write('장길산,33,춘천\\n')\n",
    "f.write('둘리,5,우주\\n')\n",
    "f.close()"
   ]
  },
  {
   "cell_type": "code",
   "execution_count": 15,
   "metadata": {},
   "outputs": [
    {
     "name": "stdout",
     "output_type": "stream",
     "text": [
      "이름,나이,지역\n",
      "\n",
      "[['홍길동', 22, '서울'], ['장길산', 33, '춘천'], ['둘리', 5, '우주']]\n"
     ]
    }
   ],
   "source": [
    "f = open('인물2.txt')\n",
    "s = f.readline()\n",
    "print(s)\n",
    "\n",
    "data = []\n",
    "\n",
    "for line in f:\n",
    "    l = line.strip().split(',') # 리스트로 변환\n",
    "    l[1] = int(l[1]) # 정수로 바꿔준다\n",
    "    data.append(l)\n",
    "\n",
    "f.close()\n",
    "\n",
    "print(data)"
   ]
  },
  {
   "cell_type": "code",
   "execution_count": 17,
   "metadata": {},
   "outputs": [
    {
     "name": "stdout",
     "output_type": "stream",
     "text": [
      "이름,나이,지역\n",
      "\n",
      "[['홍길동', 22, '서울'], ['장길산', 33, '춘천'], ['둘리', 5, '우주']]\n"
     ]
    }
   ],
   "source": [
    "with open('인물2.txt') as f:\n",
    "    s = f.readline()\n",
    "    print(s)\n",
    "\n",
    "    data = []\n",
    "\n",
    "    for line in f:\n",
    "        l = line.strip().split(',') # 리스트로 변환\n",
    "        l[1] = int(l[1]) # 정수로 바꿔준다\n",
    "        data.append(l)\n",
    "\n",
    "print(data)"
   ]
  },
  {
   "cell_type": "markdown",
   "metadata": {},
   "source": [
    "### 파일과 디렉토리 관리"
   ]
  },
  {
   "cell_type": "code",
   "execution_count": 18,
   "metadata": {},
   "outputs": [],
   "source": [
    "import math # 라이브러리, 모듈"
   ]
  },
  {
   "cell_type": "code",
   "execution_count": 20,
   "metadata": {},
   "outputs": [
    {
     "data": {
      "text/plain": [
       "0.9092974268256817"
      ]
     },
     "execution_count": 20,
     "metadata": {},
     "output_type": "execute_result"
    }
   ],
   "source": [
    "math.sin(2)"
   ]
  },
  {
   "cell_type": "code",
   "execution_count": 21,
   "metadata": {},
   "outputs": [
    {
     "data": {
      "text/plain": [
       "5.0"
      ]
     },
     "execution_count": 21,
     "metadata": {},
     "output_type": "execute_result"
    }
   ],
   "source": [
    "math.sqrt(25)"
   ]
  },
  {
   "cell_type": "code",
   "execution_count": 22,
   "metadata": {},
   "outputs": [],
   "source": [
    "import os # sys, io"
   ]
  },
  {
   "cell_type": "code",
   "execution_count": 23,
   "metadata": {},
   "outputs": [
    {
     "data": {
      "text/plain": [
       "'D:\\\\python'"
      ]
     },
     "execution_count": 23,
     "metadata": {},
     "output_type": "execute_result"
    }
   ],
   "source": [
    "os.getcwd() # get current working directory"
   ]
  },
  {
   "cell_type": "code",
   "execution_count": 24,
   "metadata": {},
   "outputs": [
    {
     "data": {
      "text/plain": [
       "'D:\\\\'"
      ]
     },
     "execution_count": 24,
     "metadata": {},
     "output_type": "execute_result"
    }
   ],
   "source": [
    "os.chdir('..') # 앞 디렉토리로 이동\n",
    "os.getcwd()"
   ]
  },
  {
   "cell_type": "code",
   "execution_count": 28,
   "metadata": {},
   "outputs": [
    {
     "data": {
      "text/plain": [
       "'c:\\\\Temp'"
      ]
     },
     "execution_count": 28,
     "metadata": {},
     "output_type": "execute_result"
    }
   ],
   "source": [
    "os.chdir('c:\\\\Temp') # 절대경로 지정 (\\\\ 사용, / 도 가능함)\n",
    "os.getcwd()"
   ]
  },
  {
   "cell_type": "code",
   "execution_count": 29,
   "metadata": {},
   "outputs": [
    {
     "data": {
      "text/plain": [
       "'d:\\\\python'"
      ]
     },
     "execution_count": 29,
     "metadata": {},
     "output_type": "execute_result"
    }
   ],
   "source": [
    "os.chdir('d:\\\\python')\n",
    "os.getcwd()"
   ]
  },
  {
   "cell_type": "code",
   "execution_count": 27,
   "metadata": {},
   "outputs": [
    {
     "data": {
      "text/plain": [
       "['DirEntry',\n",
       " 'F_OK',\n",
       " 'MutableMapping',\n",
       " 'O_APPEND',\n",
       " 'O_BINARY',\n",
       " 'O_CREAT',\n",
       " 'O_EXCL',\n",
       " 'O_NOINHERIT',\n",
       " 'O_RANDOM',\n",
       " 'O_RDONLY',\n",
       " 'O_RDWR',\n",
       " 'O_SEQUENTIAL',\n",
       " 'O_SHORT_LIVED',\n",
       " 'O_TEMPORARY',\n",
       " 'O_TEXT',\n",
       " 'O_TRUNC',\n",
       " 'O_WRONLY',\n",
       " 'P_DETACH',\n",
       " 'P_NOWAIT',\n",
       " 'P_NOWAITO',\n",
       " 'P_OVERLAY',\n",
       " 'P_WAIT',\n",
       " 'PathLike',\n",
       " 'R_OK',\n",
       " 'SEEK_CUR',\n",
       " 'SEEK_END',\n",
       " 'SEEK_SET',\n",
       " 'TMP_MAX',\n",
       " 'W_OK',\n",
       " 'X_OK',\n",
       " '_Environ',\n",
       " '__all__',\n",
       " '__builtins__',\n",
       " '__cached__',\n",
       " '__doc__',\n",
       " '__file__',\n",
       " '__loader__',\n",
       " '__name__',\n",
       " '__package__',\n",
       " '__spec__',\n",
       " '_execvpe',\n",
       " '_exists',\n",
       " '_exit',\n",
       " '_fspath',\n",
       " '_get_exports_list',\n",
       " '_putenv',\n",
       " '_unsetenv',\n",
       " '_wrap_close',\n",
       " 'abc',\n",
       " 'abort',\n",
       " 'access',\n",
       " 'altsep',\n",
       " 'chdir',\n",
       " 'chmod',\n",
       " 'close',\n",
       " 'closerange',\n",
       " 'cpu_count',\n",
       " 'curdir',\n",
       " 'defpath',\n",
       " 'device_encoding',\n",
       " 'devnull',\n",
       " 'dup',\n",
       " 'dup2',\n",
       " 'environ',\n",
       " 'errno',\n",
       " 'error',\n",
       " 'execl',\n",
       " 'execle',\n",
       " 'execlp',\n",
       " 'execlpe',\n",
       " 'execv',\n",
       " 'execve',\n",
       " 'execvp',\n",
       " 'execvpe',\n",
       " 'extsep',\n",
       " 'fdopen',\n",
       " 'fsdecode',\n",
       " 'fsencode',\n",
       " 'fspath',\n",
       " 'fstat',\n",
       " 'fsync',\n",
       " 'ftruncate',\n",
       " 'get_exec_path',\n",
       " 'get_handle_inheritable',\n",
       " 'get_inheritable',\n",
       " 'get_terminal_size',\n",
       " 'getcwd',\n",
       " 'getcwdb',\n",
       " 'getenv',\n",
       " 'getlogin',\n",
       " 'getpid',\n",
       " 'getppid',\n",
       " 'isatty',\n",
       " 'kill',\n",
       " 'linesep',\n",
       " 'link',\n",
       " 'listdir',\n",
       " 'lseek',\n",
       " 'lstat',\n",
       " 'makedirs',\n",
       " 'mkdir',\n",
       " 'name',\n",
       " 'open',\n",
       " 'pardir',\n",
       " 'path',\n",
       " 'pathsep',\n",
       " 'pipe',\n",
       " 'popen',\n",
       " 'putenv',\n",
       " 'read',\n",
       " 'readlink',\n",
       " 'remove',\n",
       " 'removedirs',\n",
       " 'rename',\n",
       " 'renames',\n",
       " 'replace',\n",
       " 'rmdir',\n",
       " 'scandir',\n",
       " 'sep',\n",
       " 'set_handle_inheritable',\n",
       " 'set_inheritable',\n",
       " 'spawnl',\n",
       " 'spawnle',\n",
       " 'spawnv',\n",
       " 'spawnve',\n",
       " 'st',\n",
       " 'startfile',\n",
       " 'stat',\n",
       " 'stat_float_times',\n",
       " 'stat_result',\n",
       " 'statvfs_result',\n",
       " 'strerror',\n",
       " 'supports_bytes_environ',\n",
       " 'supports_dir_fd',\n",
       " 'supports_effective_ids',\n",
       " 'supports_fd',\n",
       " 'supports_follow_symlinks',\n",
       " 'symlink',\n",
       " 'sys',\n",
       " 'system',\n",
       " 'terminal_size',\n",
       " 'times',\n",
       " 'times_result',\n",
       " 'truncate',\n",
       " 'umask',\n",
       " 'uname_result',\n",
       " 'unlink',\n",
       " 'urandom',\n",
       " 'utime',\n",
       " 'waitpid',\n",
       " 'walk',\n",
       " 'write']"
      ]
     },
     "execution_count": 27,
     "metadata": {},
     "output_type": "execute_result"
    }
   ],
   "source": [
    "dir(os) # import 를 먼저 실행해야 한다"
   ]
  },
  {
   "cell_type": "markdown",
   "metadata": {},
   "source": [
    "### iris 데이터 불러오기\n",
    "- 2차원 리스트로 저장한다\n",
    "- https://archive.ics.uci.edu/ml/datasets/Iris\n",
    "- 숫자를 실수로 변환하자\n",
    "- 마지막 칼럼은 품종이다. 이것을 0,1,2 와 같이 코드로 바꾸어 보자"
   ]
  },
  {
   "cell_type": "code",
   "execution_count": 30,
   "metadata": {},
   "outputs": [
    {
     "data": {
      "text/plain": [
       "[1, 2, 1, 3, 2, 3]"
      ]
     },
     "execution_count": 30,
     "metadata": {},
     "output_type": "execute_result"
    }
   ],
   "source": [
    "s = ['one', 'two', 'one', 'three', 'two', 'three']\n",
    "l = []\n",
    "\n",
    "for i in s:\n",
    "    l.append(1 if i=='one' else (2 if i=='two' else 3))\n",
    "    \n",
    "l"
   ]
  },
  {
   "cell_type": "code",
   "execution_count": 32,
   "metadata": {
    "collapsed": true
   },
   "outputs": [
    {
     "data": {
      "text/plain": [
       "[[5.1, 3.5, 1.4, 0.2, 0],\n",
       " [4.9, 3.0, 1.4, 0.2, 0],\n",
       " [4.7, 3.2, 1.3, 0.2, 0],\n",
       " [4.6, 3.1, 1.5, 0.2, 0],\n",
       " [5.0, 3.6, 1.4, 0.2, 0],\n",
       " [5.4, 3.9, 1.7, 0.4, 0],\n",
       " [4.6, 3.4, 1.4, 0.3, 0],\n",
       " [5.0, 3.4, 1.5, 0.2, 0],\n",
       " [4.4, 2.9, 1.4, 0.2, 0],\n",
       " [4.9, 3.1, 1.5, 0.1, 0],\n",
       " [5.4, 3.7, 1.5, 0.2, 0],\n",
       " [4.8, 3.4, 1.6, 0.2, 0],\n",
       " [4.8, 3.0, 1.4, 0.1, 0],\n",
       " [4.3, 3.0, 1.1, 0.1, 0],\n",
       " [5.8, 4.0, 1.2, 0.2, 0],\n",
       " [5.7, 4.4, 1.5, 0.4, 0],\n",
       " [5.4, 3.9, 1.3, 0.4, 0],\n",
       " [5.1, 3.5, 1.4, 0.3, 0],\n",
       " [5.7, 3.8, 1.7, 0.3, 0],\n",
       " [5.1, 3.8, 1.5, 0.3, 0],\n",
       " [5.4, 3.4, 1.7, 0.2, 0],\n",
       " [5.1, 3.7, 1.5, 0.4, 0],\n",
       " [4.6, 3.6, 1.0, 0.2, 0],\n",
       " [5.1, 3.3, 1.7, 0.5, 0],\n",
       " [4.8, 3.4, 1.9, 0.2, 0],\n",
       " [5.0, 3.0, 1.6, 0.2, 0],\n",
       " [5.0, 3.4, 1.6, 0.4, 0],\n",
       " [5.2, 3.5, 1.5, 0.2, 0],\n",
       " [5.2, 3.4, 1.4, 0.2, 0],\n",
       " [4.7, 3.2, 1.6, 0.2, 0],\n",
       " [4.8, 3.1, 1.6, 0.2, 0],\n",
       " [5.4, 3.4, 1.5, 0.4, 0],\n",
       " [5.2, 4.1, 1.5, 0.1, 0],\n",
       " [5.5, 4.2, 1.4, 0.2, 0],\n",
       " [4.9, 3.1, 1.5, 0.1, 0],\n",
       " [5.0, 3.2, 1.2, 0.2, 0],\n",
       " [5.5, 3.5, 1.3, 0.2, 0],\n",
       " [4.9, 3.1, 1.5, 0.1, 0],\n",
       " [4.4, 3.0, 1.3, 0.2, 0],\n",
       " [5.1, 3.4, 1.5, 0.2, 0],\n",
       " [5.0, 3.5, 1.3, 0.3, 0],\n",
       " [4.5, 2.3, 1.3, 0.3, 0],\n",
       " [4.4, 3.2, 1.3, 0.2, 0],\n",
       " [5.0, 3.5, 1.6, 0.6, 0],\n",
       " [5.1, 3.8, 1.9, 0.4, 0],\n",
       " [4.8, 3.0, 1.4, 0.3, 0],\n",
       " [5.1, 3.8, 1.6, 0.2, 0],\n",
       " [4.6, 3.2, 1.4, 0.2, 0],\n",
       " [5.3, 3.7, 1.5, 0.2, 0],\n",
       " [5.0, 3.3, 1.4, 0.2, 0],\n",
       " [7.0, 3.2, 4.7, 1.4, 1],\n",
       " [6.4, 3.2, 4.5, 1.5, 1],\n",
       " [6.9, 3.1, 4.9, 1.5, 1],\n",
       " [5.5, 2.3, 4.0, 1.3, 1],\n",
       " [6.5, 2.8, 4.6, 1.5, 1],\n",
       " [5.7, 2.8, 4.5, 1.3, 1],\n",
       " [6.3, 3.3, 4.7, 1.6, 1],\n",
       " [4.9, 2.4, 3.3, 1.0, 1],\n",
       " [6.6, 2.9, 4.6, 1.3, 1],\n",
       " [5.2, 2.7, 3.9, 1.4, 1],\n",
       " [5.0, 2.0, 3.5, 1.0, 1],\n",
       " [5.9, 3.0, 4.2, 1.5, 1],\n",
       " [6.0, 2.2, 4.0, 1.0, 1],\n",
       " [6.1, 2.9, 4.7, 1.4, 1],\n",
       " [5.6, 2.9, 3.6, 1.3, 1],\n",
       " [6.7, 3.1, 4.4, 1.4, 1],\n",
       " [5.6, 3.0, 4.5, 1.5, 1],\n",
       " [5.8, 2.7, 4.1, 1.0, 1],\n",
       " [6.2, 2.2, 4.5, 1.5, 1],\n",
       " [5.6, 2.5, 3.9, 1.1, 1],\n",
       " [5.9, 3.2, 4.8, 1.8, 1],\n",
       " [6.1, 2.8, 4.0, 1.3, 1],\n",
       " [6.3, 2.5, 4.9, 1.5, 1],\n",
       " [6.1, 2.8, 4.7, 1.2, 1],\n",
       " [6.4, 2.9, 4.3, 1.3, 1],\n",
       " [6.6, 3.0, 4.4, 1.4, 1],\n",
       " [6.8, 2.8, 4.8, 1.4, 1],\n",
       " [6.7, 3.0, 5.0, 1.7, 1],\n",
       " [6.0, 2.9, 4.5, 1.5, 1],\n",
       " [5.7, 2.6, 3.5, 1.0, 1],\n",
       " [5.5, 2.4, 3.8, 1.1, 1],\n",
       " [5.5, 2.4, 3.7, 1.0, 1],\n",
       " [5.8, 2.7, 3.9, 1.2, 1],\n",
       " [6.0, 2.7, 5.1, 1.6, 1],\n",
       " [5.4, 3.0, 4.5, 1.5, 1],\n",
       " [6.0, 3.4, 4.5, 1.6, 1],\n",
       " [6.7, 3.1, 4.7, 1.5, 1],\n",
       " [6.3, 2.3, 4.4, 1.3, 1],\n",
       " [5.6, 3.0, 4.1, 1.3, 1],\n",
       " [5.5, 2.5, 4.0, 1.3, 1],\n",
       " [5.5, 2.6, 4.4, 1.2, 1],\n",
       " [6.1, 3.0, 4.6, 1.4, 1],\n",
       " [5.8, 2.6, 4.0, 1.2, 1],\n",
       " [5.0, 2.3, 3.3, 1.0, 1],\n",
       " [5.6, 2.7, 4.2, 1.3, 1],\n",
       " [5.7, 3.0, 4.2, 1.2, 1],\n",
       " [5.7, 2.9, 4.2, 1.3, 1],\n",
       " [6.2, 2.9, 4.3, 1.3, 1],\n",
       " [5.1, 2.5, 3.0, 1.1, 1],\n",
       " [5.7, 2.8, 4.1, 1.3, 1],\n",
       " [6.3, 3.3, 6.0, 2.5, 2],\n",
       " [5.8, 2.7, 5.1, 1.9, 2],\n",
       " [7.1, 3.0, 5.9, 2.1, 2],\n",
       " [6.3, 2.9, 5.6, 1.8, 2],\n",
       " [6.5, 3.0, 5.8, 2.2, 2],\n",
       " [7.6, 3.0, 6.6, 2.1, 2],\n",
       " [4.9, 2.5, 4.5, 1.7, 2],\n",
       " [7.3, 2.9, 6.3, 1.8, 2],\n",
       " [6.7, 2.5, 5.8, 1.8, 2],\n",
       " [7.2, 3.6, 6.1, 2.5, 2],\n",
       " [6.5, 3.2, 5.1, 2.0, 2],\n",
       " [6.4, 2.7, 5.3, 1.9, 2],\n",
       " [6.8, 3.0, 5.5, 2.1, 2],\n",
       " [5.7, 2.5, 5.0, 2.0, 2],\n",
       " [5.8, 2.8, 5.1, 2.4, 2],\n",
       " [6.4, 3.2, 5.3, 2.3, 2],\n",
       " [6.5, 3.0, 5.5, 1.8, 2],\n",
       " [7.7, 3.8, 6.7, 2.2, 2],\n",
       " [7.7, 2.6, 6.9, 2.3, 2],\n",
       " [6.0, 2.2, 5.0, 1.5, 2],\n",
       " [6.9, 3.2, 5.7, 2.3, 2],\n",
       " [5.6, 2.8, 4.9, 2.0, 2],\n",
       " [7.7, 2.8, 6.7, 2.0, 2],\n",
       " [6.3, 2.7, 4.9, 1.8, 2],\n",
       " [6.7, 3.3, 5.7, 2.1, 2],\n",
       " [7.2, 3.2, 6.0, 1.8, 2],\n",
       " [6.2, 2.8, 4.8, 1.8, 2],\n",
       " [6.1, 3.0, 4.9, 1.8, 2],\n",
       " [6.4, 2.8, 5.6, 2.1, 2],\n",
       " [7.2, 3.0, 5.8, 1.6, 2],\n",
       " [7.4, 2.8, 6.1, 1.9, 2],\n",
       " [7.9, 3.8, 6.4, 2.0, 2],\n",
       " [6.4, 2.8, 5.6, 2.2, 2],\n",
       " [6.3, 2.8, 5.1, 1.5, 2],\n",
       " [6.1, 2.6, 5.6, 1.4, 2],\n",
       " [7.7, 3.0, 6.1, 2.3, 2],\n",
       " [6.3, 3.4, 5.6, 2.4, 2],\n",
       " [6.4, 3.1, 5.5, 1.8, 2],\n",
       " [6.0, 3.0, 4.8, 1.8, 2],\n",
       " [6.9, 3.1, 5.4, 2.1, 2],\n",
       " [6.7, 3.1, 5.6, 2.4, 2],\n",
       " [6.9, 3.1, 5.1, 2.3, 2],\n",
       " [5.8, 2.7, 5.1, 1.9, 2],\n",
       " [6.8, 3.2, 5.9, 2.3, 2],\n",
       " [6.7, 3.3, 5.7, 2.5, 2],\n",
       " [6.7, 3.0, 5.2, 2.3, 2],\n",
       " [6.3, 2.5, 5.0, 1.9, 2],\n",
       " [6.5, 3.0, 5.2, 2.0, 2],\n",
       " [6.2, 3.4, 5.4, 2.3, 2],\n",
       " [5.9, 3.0, 5.1, 1.8, 2]]"
      ]
     },
     "execution_count": 32,
     "metadata": {},
     "output_type": "execute_result"
    }
   ],
   "source": [
    "f = open('iris.csv')\n",
    "\n",
    "s = f.readline()\n",
    "header = s.strip().split(',')\n",
    "\n",
    "labels = ['Iris-setosa', 'Iris-versicolor', 'Iris-virginica']\n",
    "iris = []\n",
    "\n",
    "for line in f:\n",
    "    l = line.strip().split(',')\n",
    "    # 리스트의 index() 함수\n",
    "    l = [float(l[0]), float(l[1]), float(l[2]), float(l[3]), labels.index(l[4])]\n",
    "    '''\n",
    "    l[0] = float(l[0])\n",
    "    l[1] = float(l[1])\n",
    "    l[2] = float(l[2])\n",
    "    l[3] = float(l[3])\n",
    "    l[4] = labels.index(l[4])\n",
    "    '''\n",
    "    iris.append(l)\n",
    "\n",
    "f.close()\n",
    "\n",
    "iris"
   ]
  },
  {
   "cell_type": "code",
   "execution_count": 38,
   "metadata": {},
   "outputs": [
    {
     "data": {
      "text/plain": [
       "[1, 4, 9, 16, 25]"
      ]
     },
     "execution_count": 38,
     "metadata": {},
     "output_type": "execute_result"
    }
   ],
   "source": [
    "l = [1,2,3,4,5]\n",
    "list(map(lambda x: x**2, l))"
   ]
  },
  {
   "cell_type": "code",
   "execution_count": 36,
   "metadata": {},
   "outputs": [
    {
     "data": {
      "text/plain": [
       "[1, 2, 3, 4, 5]"
      ]
     },
     "execution_count": 36,
     "metadata": {},
     "output_type": "execute_result"
    }
   ],
   "source": [
    "l = [-1,2,-3,4,-5]\n",
    "list(map(abs, l))"
   ]
  },
  {
   "cell_type": "code",
   "execution_count": 37,
   "metadata": {},
   "outputs": [
    {
     "data": {
      "text/plain": [
       "[[5.1, 3.5, 1.4, 0.2, 0],\n",
       " [4.9, 3.0, 1.4, 0.2, 0],\n",
       " [4.7, 3.2, 1.3, 0.2, 0],\n",
       " [4.6, 3.1, 1.5, 0.2, 0],\n",
       " [5.0, 3.6, 1.4, 0.2, 0],\n",
       " [5.4, 3.9, 1.7, 0.4, 0],\n",
       " [4.6, 3.4, 1.4, 0.3, 0],\n",
       " [5.0, 3.4, 1.5, 0.2, 0],\n",
       " [4.4, 2.9, 1.4, 0.2, 0],\n",
       " [4.9, 3.1, 1.5, 0.1, 0],\n",
       " [5.4, 3.7, 1.5, 0.2, 0],\n",
       " [4.8, 3.4, 1.6, 0.2, 0],\n",
       " [4.8, 3.0, 1.4, 0.1, 0],\n",
       " [4.3, 3.0, 1.1, 0.1, 0],\n",
       " [5.8, 4.0, 1.2, 0.2, 0],\n",
       " [5.7, 4.4, 1.5, 0.4, 0],\n",
       " [5.4, 3.9, 1.3, 0.4, 0],\n",
       " [5.1, 3.5, 1.4, 0.3, 0],\n",
       " [5.7, 3.8, 1.7, 0.3, 0],\n",
       " [5.1, 3.8, 1.5, 0.3, 0],\n",
       " [5.4, 3.4, 1.7, 0.2, 0],\n",
       " [5.1, 3.7, 1.5, 0.4, 0],\n",
       " [4.6, 3.6, 1.0, 0.2, 0],\n",
       " [5.1, 3.3, 1.7, 0.5, 0],\n",
       " [4.8, 3.4, 1.9, 0.2, 0],\n",
       " [5.0, 3.0, 1.6, 0.2, 0],\n",
       " [5.0, 3.4, 1.6, 0.4, 0],\n",
       " [5.2, 3.5, 1.5, 0.2, 0],\n",
       " [5.2, 3.4, 1.4, 0.2, 0],\n",
       " [4.7, 3.2, 1.6, 0.2, 0],\n",
       " [4.8, 3.1, 1.6, 0.2, 0],\n",
       " [5.4, 3.4, 1.5, 0.4, 0],\n",
       " [5.2, 4.1, 1.5, 0.1, 0],\n",
       " [5.5, 4.2, 1.4, 0.2, 0],\n",
       " [4.9, 3.1, 1.5, 0.1, 0],\n",
       " [5.0, 3.2, 1.2, 0.2, 0],\n",
       " [5.5, 3.5, 1.3, 0.2, 0],\n",
       " [4.9, 3.1, 1.5, 0.1, 0],\n",
       " [4.4, 3.0, 1.3, 0.2, 0],\n",
       " [5.1, 3.4, 1.5, 0.2, 0],\n",
       " [5.0, 3.5, 1.3, 0.3, 0],\n",
       " [4.5, 2.3, 1.3, 0.3, 0],\n",
       " [4.4, 3.2, 1.3, 0.2, 0],\n",
       " [5.0, 3.5, 1.6, 0.6, 0],\n",
       " [5.1, 3.8, 1.9, 0.4, 0],\n",
       " [4.8, 3.0, 1.4, 0.3, 0],\n",
       " [5.1, 3.8, 1.6, 0.2, 0],\n",
       " [4.6, 3.2, 1.4, 0.2, 0],\n",
       " [5.3, 3.7, 1.5, 0.2, 0],\n",
       " [5.0, 3.3, 1.4, 0.2, 0],\n",
       " [7.0, 3.2, 4.7, 1.4, 1],\n",
       " [6.4, 3.2, 4.5, 1.5, 1],\n",
       " [6.9, 3.1, 4.9, 1.5, 1],\n",
       " [5.5, 2.3, 4.0, 1.3, 1],\n",
       " [6.5, 2.8, 4.6, 1.5, 1],\n",
       " [5.7, 2.8, 4.5, 1.3, 1],\n",
       " [6.3, 3.3, 4.7, 1.6, 1],\n",
       " [4.9, 2.4, 3.3, 1.0, 1],\n",
       " [6.6, 2.9, 4.6, 1.3, 1],\n",
       " [5.2, 2.7, 3.9, 1.4, 1],\n",
       " [5.0, 2.0, 3.5, 1.0, 1],\n",
       " [5.9, 3.0, 4.2, 1.5, 1],\n",
       " [6.0, 2.2, 4.0, 1.0, 1],\n",
       " [6.1, 2.9, 4.7, 1.4, 1],\n",
       " [5.6, 2.9, 3.6, 1.3, 1],\n",
       " [6.7, 3.1, 4.4, 1.4, 1],\n",
       " [5.6, 3.0, 4.5, 1.5, 1],\n",
       " [5.8, 2.7, 4.1, 1.0, 1],\n",
       " [6.2, 2.2, 4.5, 1.5, 1],\n",
       " [5.6, 2.5, 3.9, 1.1, 1],\n",
       " [5.9, 3.2, 4.8, 1.8, 1],\n",
       " [6.1, 2.8, 4.0, 1.3, 1],\n",
       " [6.3, 2.5, 4.9, 1.5, 1],\n",
       " [6.1, 2.8, 4.7, 1.2, 1],\n",
       " [6.4, 2.9, 4.3, 1.3, 1],\n",
       " [6.6, 3.0, 4.4, 1.4, 1],\n",
       " [6.8, 2.8, 4.8, 1.4, 1],\n",
       " [6.7, 3.0, 5.0, 1.7, 1],\n",
       " [6.0, 2.9, 4.5, 1.5, 1],\n",
       " [5.7, 2.6, 3.5, 1.0, 1],\n",
       " [5.5, 2.4, 3.8, 1.1, 1],\n",
       " [5.5, 2.4, 3.7, 1.0, 1],\n",
       " [5.8, 2.7, 3.9, 1.2, 1],\n",
       " [6.0, 2.7, 5.1, 1.6, 1],\n",
       " [5.4, 3.0, 4.5, 1.5, 1],\n",
       " [6.0, 3.4, 4.5, 1.6, 1],\n",
       " [6.7, 3.1, 4.7, 1.5, 1],\n",
       " [6.3, 2.3, 4.4, 1.3, 1],\n",
       " [5.6, 3.0, 4.1, 1.3, 1],\n",
       " [5.5, 2.5, 4.0, 1.3, 1],\n",
       " [5.5, 2.6, 4.4, 1.2, 1],\n",
       " [6.1, 3.0, 4.6, 1.4, 1],\n",
       " [5.8, 2.6, 4.0, 1.2, 1],\n",
       " [5.0, 2.3, 3.3, 1.0, 1],\n",
       " [5.6, 2.7, 4.2, 1.3, 1],\n",
       " [5.7, 3.0, 4.2, 1.2, 1],\n",
       " [5.7, 2.9, 4.2, 1.3, 1],\n",
       " [6.2, 2.9, 4.3, 1.3, 1],\n",
       " [5.1, 2.5, 3.0, 1.1, 1],\n",
       " [5.7, 2.8, 4.1, 1.3, 1],\n",
       " [6.3, 3.3, 6.0, 2.5, 2],\n",
       " [5.8, 2.7, 5.1, 1.9, 2],\n",
       " [7.1, 3.0, 5.9, 2.1, 2],\n",
       " [6.3, 2.9, 5.6, 1.8, 2],\n",
       " [6.5, 3.0, 5.8, 2.2, 2],\n",
       " [7.6, 3.0, 6.6, 2.1, 2],\n",
       " [4.9, 2.5, 4.5, 1.7, 2],\n",
       " [7.3, 2.9, 6.3, 1.8, 2],\n",
       " [6.7, 2.5, 5.8, 1.8, 2],\n",
       " [7.2, 3.6, 6.1, 2.5, 2],\n",
       " [6.5, 3.2, 5.1, 2.0, 2],\n",
       " [6.4, 2.7, 5.3, 1.9, 2],\n",
       " [6.8, 3.0, 5.5, 2.1, 2],\n",
       " [5.7, 2.5, 5.0, 2.0, 2],\n",
       " [5.8, 2.8, 5.1, 2.4, 2],\n",
       " [6.4, 3.2, 5.3, 2.3, 2],\n",
       " [6.5, 3.0, 5.5, 1.8, 2],\n",
       " [7.7, 3.8, 6.7, 2.2, 2],\n",
       " [7.7, 2.6, 6.9, 2.3, 2],\n",
       " [6.0, 2.2, 5.0, 1.5, 2],\n",
       " [6.9, 3.2, 5.7, 2.3, 2],\n",
       " [5.6, 2.8, 4.9, 2.0, 2],\n",
       " [7.7, 2.8, 6.7, 2.0, 2],\n",
       " [6.3, 2.7, 4.9, 1.8, 2],\n",
       " [6.7, 3.3, 5.7, 2.1, 2],\n",
       " [7.2, 3.2, 6.0, 1.8, 2],\n",
       " [6.2, 2.8, 4.8, 1.8, 2],\n",
       " [6.1, 3.0, 4.9, 1.8, 2],\n",
       " [6.4, 2.8, 5.6, 2.1, 2],\n",
       " [7.2, 3.0, 5.8, 1.6, 2],\n",
       " [7.4, 2.8, 6.1, 1.9, 2],\n",
       " [7.9, 3.8, 6.4, 2.0, 2],\n",
       " [6.4, 2.8, 5.6, 2.2, 2],\n",
       " [6.3, 2.8, 5.1, 1.5, 2],\n",
       " [6.1, 2.6, 5.6, 1.4, 2],\n",
       " [7.7, 3.0, 6.1, 2.3, 2],\n",
       " [6.3, 3.4, 5.6, 2.4, 2],\n",
       " [6.4, 3.1, 5.5, 1.8, 2],\n",
       " [6.0, 3.0, 4.8, 1.8, 2],\n",
       " [6.9, 3.1, 5.4, 2.1, 2],\n",
       " [6.7, 3.1, 5.6, 2.4, 2],\n",
       " [6.9, 3.1, 5.1, 2.3, 2],\n",
       " [5.8, 2.7, 5.1, 1.9, 2],\n",
       " [6.8, 3.2, 5.9, 2.3, 2],\n",
       " [6.7, 3.3, 5.7, 2.5, 2],\n",
       " [6.7, 3.0, 5.2, 2.3, 2],\n",
       " [6.3, 2.5, 5.0, 1.9, 2],\n",
       " [6.5, 3.0, 5.2, 2.0, 2],\n",
       " [6.2, 3.4, 5.4, 2.3, 2],\n",
       " [5.9, 3.0, 5.1, 1.8, 2]]"
      ]
     },
     "execution_count": 37,
     "metadata": {},
     "output_type": "execute_result"
    }
   ],
   "source": [
    "f = open('iris.csv')\n",
    "\n",
    "s = f.readline()\n",
    "header = s.strip().split(',')\n",
    "\n",
    "labels = ['Iris-setosa', 'Iris-versicolor', 'Iris-virginica']\n",
    "iris = []\n",
    "\n",
    "for line in f:\n",
    "    l = line.strip().split(',')\n",
    "    l[:4] = list(map(float, l[:4]))\n",
    "    l[4] = labels.index(l[4])\n",
    "    iris.append(l)\n",
    "\n",
    "f.close()\n",
    "\n",
    "iris"
   ]
  },
  {
   "cell_type": "code",
   "execution_count": 40,
   "metadata": {},
   "outputs": [
    {
     "data": {
      "text/plain": [
       "(150, 5)"
      ]
     },
     "execution_count": 40,
     "metadata": {},
     "output_type": "execute_result"
    }
   ],
   "source": [
    "len(iris), len(iris[0])"
   ]
  },
  {
   "cell_type": "markdown",
   "metadata": {},
   "source": [
    "### 클래스\n",
    "- 클래스는 청사진을 만드는 것이다\n",
    "- 클래스를 만들려면 설계를 잘해야 한다. 하지만 설계는 아주 어려운 일이다.\n",
    "- 클래스가 현실화된 것이 **객체**(object)이다"
   ]
  },
  {
   "cell_type": "code",
   "execution_count": 46,
   "metadata": {},
   "outputs": [
    {
     "name": "stdout",
     "output_type": "stream",
     "text": [
      "I am ABC\n",
      "101\n",
      "The end...\n"
     ]
    }
   ],
   "source": [
    "class ABC:\n",
    "    def first(self): # 함수 정의시 첫번째 인자는 반드시 self\n",
    "        print('I am ABC')\n",
    "        \n",
    "    def secound(self, n):\n",
    "        return n+1\n",
    "        \n",
    "abc = ABC() # 객체 생성\n",
    "abc.first() # 함수를 호출할 때는 self 쓰지 않음\n",
    "print(abc.secound(100))"
   ]
  },
  {
   "cell_type": "code",
   "execution_count": 60,
   "metadata": {},
   "outputs": [
    {
     "name": "stdout",
     "output_type": "stream",
     "text": [
      "I am ABC\n",
      "103\n",
      "ABC 3\n",
      "None\n",
      "kkk\n"
     ]
    }
   ],
   "source": [
    "class ABC:\n",
    "    def __init__(self):\n",
    "        self.name = 'ABC' # 변수 선언\n",
    "        self.count = 3 # 변수 선언\n",
    "        \n",
    "    def first(self):\n",
    "        print('I am', self.name)\n",
    "        \n",
    "    def secound(self, n):\n",
    "        return n + self.count\n",
    "    \n",
    "    def third(self):\n",
    "        pass\n",
    "        #print('TEST: ')\n",
    "        #self.first()\n",
    "        \n",
    "abc = ABC() # 객체 생성\n",
    "abc.first() # 함수를 호출할 때는 self 쓰지 않음\n",
    "print(abc.secound(100))\n",
    "print(abc.name, abc.count)\n",
    "print(abc.third())\n",
    "print('kkk')"
   ]
  },
  {
   "cell_type": "code",
   "execution_count": 64,
   "metadata": {},
   "outputs": [
    {
     "name": "stdout",
     "output_type": "stream",
     "text": [
      "I am Hong Gil Dong\n",
      "113\n",
      "Hong Gil Dong 13\n",
      "TEST: I am Hong Gil Dong\n",
      "None\n"
     ]
    }
   ],
   "source": [
    "class ABC:\n",
    "    def __init__(self, name): # 초기화함수에 인자가 있을 때\n",
    "        self.name = name\n",
    "        self.count = len(name)\n",
    "        \n",
    "    def first(self):\n",
    "        print('I am', self.name)\n",
    "        \n",
    "    def secound(self, n):\n",
    "        return n + self.count\n",
    "    \n",
    "    def third(self):\n",
    "        print('TEST: ', end='')\n",
    "        self.first()\n",
    "        \n",
    "abc = ABC(\"Hong Gil Dong\") # 객체 생성\n",
    "abc.first() # 함수를 호출할 때는 self 쓰지 않음\n",
    "print(abc.secound(100))\n",
    "print(abc.name, abc.count)\n",
    "print(abc.third())"
   ]
  },
  {
   "cell_type": "code",
   "execution_count": 65,
   "metadata": {},
   "outputs": [],
   "source": [
    "#class MyClass(OtherClass): # OtherClass 를 상속"
   ]
  },
  {
   "cell_type": "markdown",
   "metadata": {},
   "source": [
    "### 모듈 (라이브러리)\n",
    "- 모듈은 함수들을 묶은 것이다"
   ]
  },
  {
   "cell_type": "code",
   "execution_count": 66,
   "metadata": {},
   "outputs": [],
   "source": [
    "import math"
   ]
  },
  {
   "cell_type": "code",
   "execution_count": 67,
   "metadata": {},
   "outputs": [
    {
     "data": {
      "text/plain": [
       "22026.465794806718"
      ]
     },
     "execution_count": 67,
     "metadata": {},
     "output_type": "execute_result"
    }
   ],
   "source": [
    "math.exp(10)"
   ]
  },
  {
   "cell_type": "code",
   "execution_count": 68,
   "metadata": {},
   "outputs": [
    {
     "data": {
      "text/plain": [
       "0.0"
      ]
     },
     "execution_count": 68,
     "metadata": {},
     "output_type": "execute_result"
    }
   ],
   "source": [
    "math.log(1)"
   ]
  },
  {
   "cell_type": "code",
   "execution_count": null,
   "metadata": {},
   "outputs": [],
   "source": []
  },
  {
   "cell_type": "code",
   "execution_count": 69,
   "metadata": {},
   "outputs": [],
   "source": [
    "from math import sin, cos"
   ]
  },
  {
   "cell_type": "code",
   "execution_count": 70,
   "metadata": {},
   "outputs": [
    {
     "data": {
      "text/plain": [
       "(0.0, 1.0)"
      ]
     },
     "execution_count": 70,
     "metadata": {},
     "output_type": "execute_result"
    }
   ],
   "source": [
    "sin(0), cos(0) # math 를 붙이지 않는다"
   ]
  },
  {
   "cell_type": "code",
   "execution_count": null,
   "metadata": {},
   "outputs": [],
   "source": []
  },
  {
   "cell_type": "code",
   "execution_count": 71,
   "metadata": {},
   "outputs": [],
   "source": [
    "import os as win # 이름 바꿔서 불러오기"
   ]
  },
  {
   "cell_type": "code",
   "execution_count": 72,
   "metadata": {},
   "outputs": [
    {
     "data": {
      "text/plain": [
       "'d:\\\\python'"
      ]
     },
     "execution_count": 72,
     "metadata": {},
     "output_type": "execute_result"
    }
   ],
   "source": [
    "win.getcwd()"
   ]
  },
  {
   "cell_type": "markdown",
   "metadata": {},
   "source": [
    "- 나의 모듈 만들기\n",
    "> 현재 디렉토리에 .py 파일을 만들고 import 로 불러온다\n",
    "\n",
    "```\n",
    "# my_source.py\n",
    "X = ['a','b','c']\n",
    "\n",
    "def my_first():\n",
    "\tprint('First')\n",
    "\t\n",
    "def my_secound(n):\n",
    "\tprint(n+1)\n",
    "```"
   ]
  },
  {
   "cell_type": "code",
   "execution_count": 78,
   "metadata": {},
   "outputs": [],
   "source": [
    "import my_source as ms"
   ]
  },
  {
   "cell_type": "code",
   "execution_count": 79,
   "metadata": {},
   "outputs": [
    {
     "data": {
      "text/plain": [
       "['a', 'b', 'c']"
      ]
     },
     "execution_count": 79,
     "metadata": {},
     "output_type": "execute_result"
    }
   ],
   "source": [
    "ms.X"
   ]
  },
  {
   "cell_type": "code",
   "execution_count": 80,
   "metadata": {},
   "outputs": [
    {
     "name": "stdout",
     "output_type": "stream",
     "text": [
      "First\n"
     ]
    }
   ],
   "source": [
    "ms.my_first()"
   ]
  },
  {
   "cell_type": "code",
   "execution_count": 81,
   "metadata": {},
   "outputs": [
    {
     "name": "stdout",
     "output_type": "stream",
     "text": [
      "101\n"
     ]
    }
   ],
   "source": [
    "ms.my_secound(100)"
   ]
  },
  {
   "cell_type": "markdown",
   "metadata": {},
   "source": [
    "### 예외처리"
   ]
  },
  {
   "cell_type": "code",
   "execution_count": 87,
   "metadata": {},
   "outputs": [
    {
     "data": {
      "text/plain": [
       "33"
      ]
     },
     "execution_count": 87,
     "metadata": {},
     "output_type": "execute_result"
    }
   ],
   "source": [
    "int('33')"
   ]
  },
  {
   "cell_type": "code",
   "execution_count": 88,
   "metadata": {},
   "outputs": [
    {
     "data": {
      "text/plain": [
       "33"
      ]
     },
     "execution_count": 88,
     "metadata": {},
     "output_type": "execute_result"
    }
   ],
   "source": [
    "int(33)"
   ]
  },
  {
   "cell_type": "code",
   "execution_count": 91,
   "metadata": {},
   "outputs": [
    {
     "data": {
      "text/plain": [
       "3"
      ]
     },
     "execution_count": 91,
     "metadata": {},
     "output_type": "execute_result"
    }
   ],
   "source": [
    "int(3.14)"
   ]
  },
  {
   "cell_type": "code",
   "execution_count": 90,
   "metadata": {},
   "outputs": [
    {
     "ename": "ValueError",
     "evalue": "invalid literal for int() with base 10: '3.14'",
     "output_type": "error",
     "traceback": [
      "\u001b[1;31m---------------------------------------------------------------------------\u001b[0m",
      "\u001b[1;31mValueError\u001b[0m                                Traceback (most recent call last)",
      "\u001b[1;32m<ipython-input-90-1456603af047>\u001b[0m in \u001b[0;36m<module>\u001b[1;34m()\u001b[0m\n\u001b[1;32m----> 1\u001b[1;33m \u001b[0mint\u001b[0m\u001b[1;33m(\u001b[0m\u001b[1;34m'3.14'\u001b[0m\u001b[1;33m)\u001b[0m\u001b[1;33m\u001b[0m\u001b[0m\n\u001b[0m",
      "\u001b[1;31mValueError\u001b[0m: invalid literal for int() with base 10: '3.14'"
     ]
    }
   ],
   "source": [
    "int('3.14')"
   ]
  },
  {
   "cell_type": "code",
   "execution_count": 92,
   "metadata": {},
   "outputs": [
    {
     "ename": "ValueError",
     "evalue": "invalid literal for int() with base 10: '3abc'",
     "output_type": "error",
     "traceback": [
      "\u001b[1;31m---------------------------------------------------------------------------\u001b[0m",
      "\u001b[1;31mValueError\u001b[0m                                Traceback (most recent call last)",
      "\u001b[1;32m<ipython-input-92-bf0082db3ca2>\u001b[0m in \u001b[0;36m<module>\u001b[1;34m()\u001b[0m\n\u001b[1;32m----> 1\u001b[1;33m \u001b[0mint\u001b[0m\u001b[1;33m(\u001b[0m\u001b[1;34m'3abc'\u001b[0m\u001b[1;33m)\u001b[0m\u001b[1;33m\u001b[0m\u001b[0m\n\u001b[0m",
      "\u001b[1;31mValueError\u001b[0m: invalid literal for int() with base 10: '3abc'"
     ]
    }
   ],
   "source": [
    "int('3abc')"
   ]
  },
  {
   "cell_type": "code",
   "execution_count": 97,
   "metadata": {},
   "outputs": [
    {
     "data": {
      "text/plain": [
       "0"
      ]
     },
     "execution_count": 97,
     "metadata": {},
     "output_type": "execute_result"
    }
   ],
   "source": [
    "s = '3.14'\n",
    "\n",
    "try:\n",
    "    n=int(s)\n",
    "except:\n",
    "    n=0\n",
    "    \n",
    "n"
   ]
  },
  {
   "cell_type": "code",
   "execution_count": 98,
   "metadata": {},
   "outputs": [
    {
     "name": "stdout",
     "output_type": "stream",
     "text": [
      "Help on built-in function index:\n",
      "\n",
      "index(...) method of builtins.list instance\n",
      "    L.index(value, [start, [stop]]) -> integer -- return first index of value.\n",
      "    Raises ValueError if the value is not present.\n",
      "\n"
     ]
    }
   ],
   "source": [
    "help(l.index) # ValueError 발생시킴"
   ]
  },
  {
   "cell_type": "code",
   "execution_count": 102,
   "metadata": {},
   "outputs": [
    {
     "data": {
      "text/plain": [
       "999"
      ]
     },
     "execution_count": 102,
     "metadata": {},
     "output_type": "execute_result"
    }
   ],
   "source": [
    "l = [1,2,3,4,100]\n",
    "n = 0\n",
    "\n",
    "try:\n",
    "    n = l.index(5)\n",
    "except:\n",
    "    n = 999\n",
    "    \n",
    "n"
   ]
  },
  {
   "cell_type": "markdown",
   "metadata": {},
   "source": [
    "### Built-In Functions"
   ]
  },
  {
   "cell_type": "code",
   "execution_count": 103,
   "metadata": {},
   "outputs": [
    {
     "name": "stdout",
     "output_type": "stream",
     "text": [
      "Help on built-in function all in module builtins:\n",
      "\n",
      "all(iterable, /)\n",
      "    Return True if bool(x) is True for all values x in the iterable.\n",
      "    \n",
      "    If the iterable is empty, return True.\n",
      "\n"
     ]
    }
   ],
   "source": [
    "help(all)"
   ]
  },
  {
   "cell_type": "code",
   "execution_count": 106,
   "metadata": {},
   "outputs": [
    {
     "data": {
      "text/plain": [
       "False"
      ]
     },
     "execution_count": 106,
     "metadata": {},
     "output_type": "execute_result"
    }
   ],
   "source": [
    "all([0,1,2,3,4,-5])"
   ]
  },
  {
   "cell_type": "code",
   "execution_count": 108,
   "metadata": {},
   "outputs": [
    {
     "data": {
      "text/plain": [
       "True"
      ]
     },
     "execution_count": 108,
     "metadata": {},
     "output_type": "execute_result"
    }
   ],
   "source": [
    "any([0,0,0.00001,0,0])"
   ]
  },
  {
   "cell_type": "code",
   "execution_count": 116,
   "metadata": {},
   "outputs": [
    {
     "data": {
      "text/plain": [
       "True"
      ]
     },
     "execution_count": 116,
     "metadata": {},
     "output_type": "execute_result"
    }
   ],
   "source": [
    "isinstance(3.14, float)"
   ]
  },
  {
   "cell_type": "code",
   "execution_count": 120,
   "metadata": {},
   "outputs": [
    {
     "name": "stdout",
     "output_type": "stream",
     "text": [
      "홍길동 => 1 5 -1\n",
      "장길산 => 2 4 -2\n",
      "둘리 => 3 3 -3\n",
      "유관순 => 4 2 -4\n",
      "이순신 => 5 1 -5\n"
     ]
    }
   ],
   "source": [
    "이름 = ['홍길동','장길산','둘리','유관순','이순신']\n",
    "수학 = [1,2,3,4,5]\n",
    "영어 = [5,4,3,2,1]\n",
    "국어 = [-1,-2,-3,-4,-5]\n",
    "\n",
    "for i,j,k,l in zip(이름,수학,영어,국어):\n",
    "    print(i,'=>',j,k,l)"
   ]
  },
  {
   "cell_type": "code",
   "execution_count": 122,
   "metadata": {},
   "outputs": [
    {
     "name": "stdout",
     "output_type": "stream",
     "text": [
      "0 => 3\n",
      "1 => 7\n",
      "2 => 2\n",
      "3 => 9\n",
      "4 => 8\n"
     ]
    }
   ],
   "source": [
    "l = [3,7,2,9,8]\n",
    "\n",
    "n = 0\n",
    "for i in l:\n",
    "    print(n,'=>',i)\n",
    "    n += 1"
   ]
  },
  {
   "cell_type": "code",
   "execution_count": 123,
   "metadata": {},
   "outputs": [
    {
     "name": "stdout",
     "output_type": "stream",
     "text": [
      "0 => 3\n",
      "1 => 7\n",
      "2 => 2\n",
      "3 => 9\n",
      "4 => 8\n"
     ]
    }
   ],
   "source": [
    "l = [3,7,2,9,8]\n",
    "\n",
    "for i in range(len(l)):\n",
    "    print(i,'=>',l[i])"
   ]
  },
  {
   "cell_type": "code",
   "execution_count": 125,
   "metadata": {},
   "outputs": [
    {
     "name": "stdout",
     "output_type": "stream",
     "text": [
      "0 => 3\n",
      "1 => 7\n",
      "2 => 2\n",
      "3 => 9\n",
      "4 => 8\n"
     ]
    }
   ],
   "source": [
    "l = [3,7,2,9,8]\n",
    "\n",
    "for i,n in enumerate(l):\n",
    "    print(i,'=>',n)"
   ]
  },
  {
   "cell_type": "markdown",
   "metadata": {},
   "source": [
    "### random 라이브러리"
   ]
  },
  {
   "cell_type": "code",
   "execution_count": 126,
   "metadata": {},
   "outputs": [],
   "source": [
    "import random"
   ]
  },
  {
   "cell_type": "code",
   "execution_count": 127,
   "metadata": {},
   "outputs": [
    {
     "data": {
      "text/plain": [
       "['BPF',\n",
       " 'LOG4',\n",
       " 'NV_MAGICCONST',\n",
       " 'RECIP_BPF',\n",
       " 'Random',\n",
       " 'SG_MAGICCONST',\n",
       " 'SystemRandom',\n",
       " 'TWOPI',\n",
       " '_BuiltinMethodType',\n",
       " '_MethodType',\n",
       " '_Sequence',\n",
       " '_Set',\n",
       " '__all__',\n",
       " '__builtins__',\n",
       " '__cached__',\n",
       " '__doc__',\n",
       " '__file__',\n",
       " '__loader__',\n",
       " '__name__',\n",
       " '__package__',\n",
       " '__spec__',\n",
       " '_acos',\n",
       " '_bisect',\n",
       " '_ceil',\n",
       " '_cos',\n",
       " '_e',\n",
       " '_exp',\n",
       " '_inst',\n",
       " '_itertools',\n",
       " '_log',\n",
       " '_pi',\n",
       " '_random',\n",
       " '_sha512',\n",
       " '_sin',\n",
       " '_sqrt',\n",
       " '_test',\n",
       " '_test_generator',\n",
       " '_urandom',\n",
       " '_warn',\n",
       " 'betavariate',\n",
       " 'choice',\n",
       " 'choices',\n",
       " 'expovariate',\n",
       " 'gammavariate',\n",
       " 'gauss',\n",
       " 'getrandbits',\n",
       " 'getstate',\n",
       " 'lognormvariate',\n",
       " 'normalvariate',\n",
       " 'paretovariate',\n",
       " 'randint',\n",
       " 'random',\n",
       " 'randrange',\n",
       " 'sample',\n",
       " 'seed',\n",
       " 'setstate',\n",
       " 'shuffle',\n",
       " 'triangular',\n",
       " 'uniform',\n",
       " 'vonmisesvariate',\n",
       " 'weibullvariate']"
      ]
     },
     "execution_count": 127,
     "metadata": {},
     "output_type": "execute_result"
    }
   ],
   "source": [
    "dir(random)"
   ]
  },
  {
   "cell_type": "code",
   "execution_count": 128,
   "metadata": {},
   "outputs": [
    {
     "name": "stdout",
     "output_type": "stream",
     "text": [
      "Help on method randint in module random:\n",
      "\n",
      "randint(a, b) method of random.Random instance\n",
      "    Return random integer in range [a, b], including both end points.\n",
      "\n"
     ]
    }
   ],
   "source": [
    "help(random.randint)"
   ]
  },
  {
   "cell_type": "code",
   "execution_count": 132,
   "metadata": {},
   "outputs": [
    {
     "name": "stdout",
     "output_type": "stream",
     "text": [
      "2\n",
      "3\n",
      "3\n",
      "2\n",
      "1\n",
      "5\n",
      "6\n",
      "6\n",
      "1\n",
      "6\n"
     ]
    }
   ],
   "source": [
    "for i in range(10):\n",
    "    print(random.randint(1,6))"
   ]
  },
  {
   "cell_type": "markdown",
   "metadata": {},
   "source": [
    "### 연습문제\n",
    "- 주사위 10번 던진 것을 한 게임이라고 하자.\n",
    "- 위의 게임을 100번 했을 때의 결과를 2차원 리스트로 만드시오.\n",
    "- (도전문제) 위 결과를 몽땅 리스트 컴프리헨션을 이용해 구해보시오.\n",
    "- (도전문제) 한 게임에서 평균이 4이상이면 이긴 것이다. 몇 번 이겼나요?"
   ]
  },
  {
   "cell_type": "code",
   "execution_count": 133,
   "metadata": {},
   "outputs": [
    {
     "data": {
      "text/plain": [
       "[3, 2, 3, 1, 1, 1, 2, 5, 2, 6]"
      ]
     },
     "execution_count": 133,
     "metadata": {},
     "output_type": "execute_result"
    }
   ],
   "source": [
    "import random\n",
    "\n",
    "game = []\n",
    "for i in range(10):\n",
    "    game.append(random.randint(1,6))\n",
    "    \n",
    "game"
   ]
  },
  {
   "cell_type": "code",
   "execution_count": 134,
   "metadata": {
    "collapsed": true
   },
   "outputs": [
    {
     "data": {
      "text/plain": [
       "[[2, 6, 1, 4, 6, 5, 2, 6, 2, 2],\n",
       " [1, 1, 6, 1, 3, 5, 6, 5, 4, 1],\n",
       " [1, 5, 5, 2, 4, 2, 3, 2, 5, 5],\n",
       " [6, 5, 1, 6, 4, 5, 6, 2, 1, 5],\n",
       " [4, 5, 5, 1, 6, 1, 6, 5, 6, 3],\n",
       " [1, 1, 5, 6, 4, 1, 2, 6, 5, 6],\n",
       " [2, 6, 1, 4, 4, 1, 6, 3, 4, 5],\n",
       " [1, 2, 3, 5, 6, 1, 3, 3, 4, 6],\n",
       " [2, 4, 4, 5, 4, 2, 4, 2, 2, 2],\n",
       " [3, 2, 6, 2, 2, 4, 1, 5, 2, 2],\n",
       " [5, 4, 1, 1, 1, 5, 3, 2, 1, 4],\n",
       " [1, 3, 4, 6, 3, 1, 6, 5, 2, 4],\n",
       " [3, 3, 5, 5, 6, 1, 2, 1, 2, 2],\n",
       " [6, 3, 4, 3, 2, 5, 3, 1, 5, 6],\n",
       " [6, 5, 2, 2, 6, 1, 2, 6, 6, 4],\n",
       " [5, 4, 6, 4, 4, 1, 5, 3, 5, 2],\n",
       " [6, 5, 6, 3, 6, 1, 2, 2, 6, 4],\n",
       " [4, 4, 4, 2, 6, 3, 1, 5, 2, 1],\n",
       " [3, 2, 2, 5, 2, 6, 6, 5, 4, 1],\n",
       " [4, 2, 5, 3, 4, 1, 6, 2, 5, 3],\n",
       " [2, 1, 3, 3, 5, 6, 6, 4, 6, 5],\n",
       " [1, 2, 2, 2, 4, 4, 6, 6, 1, 3],\n",
       " [5, 4, 4, 5, 1, 2, 3, 6, 1, 5],\n",
       " [1, 1, 3, 1, 5, 1, 6, 5, 4, 6],\n",
       " [2, 2, 4, 5, 4, 2, 1, 6, 2, 6],\n",
       " [6, 4, 4, 4, 1, 4, 4, 4, 2, 3],\n",
       " [6, 6, 1, 3, 3, 6, 2, 3, 1, 6],\n",
       " [1, 6, 3, 6, 4, 3, 5, 1, 1, 4],\n",
       " [6, 4, 1, 3, 2, 2, 3, 2, 1, 5],\n",
       " [5, 5, 3, 1, 2, 4, 1, 1, 4, 5],\n",
       " [1, 1, 6, 5, 6, 4, 1, 2, 5, 5],\n",
       " [6, 4, 4, 6, 3, 3, 1, 6, 2, 1],\n",
       " [5, 6, 3, 6, 3, 4, 1, 1, 6, 4],\n",
       " [3, 1, 3, 2, 4, 2, 5, 3, 4, 1],\n",
       " [1, 2, 3, 2, 3, 4, 5, 1, 1, 4],\n",
       " [3, 6, 4, 5, 1, 5, 2, 2, 1, 4],\n",
       " [2, 3, 1, 3, 3, 4, 2, 2, 2, 1],\n",
       " [5, 6, 4, 4, 2, 3, 5, 2, 6, 4],\n",
       " [4, 4, 1, 1, 3, 4, 6, 6, 6, 4],\n",
       " [2, 6, 6, 3, 3, 6, 1, 3, 5, 3],\n",
       " [2, 5, 2, 5, 4, 6, 5, 4, 1, 2],\n",
       " [3, 2, 5, 6, 6, 4, 3, 6, 6, 6],\n",
       " [1, 6, 4, 4, 3, 1, 6, 6, 2, 6],\n",
       " [2, 3, 3, 1, 5, 3, 4, 5, 4, 5],\n",
       " [2, 2, 4, 6, 4, 1, 5, 5, 5, 4],\n",
       " [1, 6, 1, 3, 2, 1, 2, 6, 4, 4],\n",
       " [2, 1, 5, 2, 3, 4, 5, 4, 3, 4],\n",
       " [5, 6, 2, 2, 1, 4, 4, 5, 1, 3],\n",
       " [2, 4, 5, 2, 5, 3, 2, 5, 5, 5],\n",
       " [5, 6, 1, 4, 5, 3, 1, 3, 4, 2],\n",
       " [6, 3, 2, 4, 3, 3, 6, 3, 6, 6],\n",
       " [4, 3, 1, 5, 4, 4, 2, 6, 1, 4],\n",
       " [6, 5, 1, 2, 3, 2, 4, 6, 1, 6],\n",
       " [5, 2, 5, 2, 5, 2, 6, 2, 5, 6],\n",
       " [2, 3, 1, 6, 2, 3, 4, 5, 2, 3],\n",
       " [1, 5, 6, 6, 5, 2, 2, 6, 6, 6],\n",
       " [4, 3, 5, 2, 6, 2, 4, 5, 3, 3],\n",
       " [4, 1, 2, 2, 4, 3, 5, 6, 2, 4],\n",
       " [6, 4, 6, 5, 3, 2, 2, 5, 6, 6],\n",
       " [2, 2, 4, 1, 6, 3, 6, 6, 4, 2],\n",
       " [4, 2, 4, 3, 4, 1, 6, 6, 4, 1],\n",
       " [5, 3, 5, 3, 2, 6, 6, 1, 4, 5],\n",
       " [5, 6, 4, 5, 3, 2, 6, 6, 4, 2],\n",
       " [1, 5, 1, 2, 1, 4, 5, 6, 4, 3],\n",
       " [5, 1, 6, 4, 2, 3, 1, 4, 1, 1],\n",
       " [3, 2, 2, 2, 2, 4, 2, 5, 4, 3],\n",
       " [3, 6, 1, 3, 5, 1, 2, 6, 3, 6],\n",
       " [3, 4, 6, 5, 1, 6, 3, 4, 2, 2],\n",
       " [1, 4, 5, 6, 2, 1, 4, 2, 1, 5],\n",
       " [5, 4, 1, 1, 3, 3, 6, 2, 5, 2],\n",
       " [1, 4, 6, 5, 3, 1, 2, 2, 5, 4],\n",
       " [4, 1, 4, 2, 3, 1, 2, 2, 3, 4],\n",
       " [4, 1, 1, 3, 6, 3, 1, 3, 5, 4],\n",
       " [6, 4, 6, 3, 2, 6, 3, 3, 3, 2],\n",
       " [3, 5, 2, 4, 2, 6, 5, 1, 1, 5],\n",
       " [1, 5, 5, 6, 6, 5, 6, 1, 5, 6],\n",
       " [5, 6, 5, 3, 3, 5, 2, 6, 5, 3],\n",
       " [3, 3, 2, 3, 6, 2, 4, 1, 6, 6],\n",
       " [2, 1, 4, 5, 2, 1, 4, 4, 4, 1],\n",
       " [3, 2, 2, 1, 5, 1, 4, 2, 3, 5],\n",
       " [5, 6, 5, 4, 2, 6, 2, 4, 6, 5],\n",
       " [3, 1, 2, 6, 3, 1, 1, 3, 2, 1],\n",
       " [3, 3, 4, 3, 5, 5, 6, 6, 4, 4],\n",
       " [4, 2, 1, 1, 1, 5, 4, 2, 3, 5],\n",
       " [4, 6, 1, 3, 5, 4, 4, 1, 1, 2],\n",
       " [2, 4, 3, 4, 3, 2, 2, 6, 6, 2],\n",
       " [6, 6, 2, 6, 1, 1, 6, 6, 5, 2],\n",
       " [5, 2, 2, 3, 3, 5, 3, 3, 3, 6],\n",
       " [3, 6, 5, 6, 2, 2, 1, 4, 2, 4],\n",
       " [4, 3, 3, 6, 4, 6, 5, 5, 4, 1],\n",
       " [1, 1, 3, 3, 2, 5, 1, 5, 1, 2],\n",
       " [6, 3, 3, 3, 5, 3, 1, 1, 6, 2],\n",
       " [3, 4, 3, 4, 6, 4, 5, 2, 5, 4],\n",
       " [6, 5, 1, 6, 6, 6, 2, 2, 5, 5],\n",
       " [5, 4, 2, 6, 5, 3, 5, 2, 2, 1],\n",
       " [1, 2, 1, 6, 2, 5, 2, 3, 2, 6],\n",
       " [2, 5, 3, 1, 3, 3, 2, 2, 3, 4],\n",
       " [4, 1, 4, 3, 4, 4, 3, 5, 3, 6],\n",
       " [1, 1, 5, 6, 6, 5, 5, 1, 4, 6],\n",
       " [2, 6, 2, 1, 3, 1, 5, 3, 3, 1]]"
      ]
     },
     "execution_count": 134,
     "metadata": {},
     "output_type": "execute_result"
    }
   ],
   "source": [
    "data = []\n",
    "\n",
    "for j in range(100):\n",
    "    game = []\n",
    "    for i in range(10):\n",
    "        game.append(random.randint(1,6))\n",
    "    data.append(game)\n",
    "    \n",
    "data"
   ]
  },
  {
   "cell_type": "code",
   "execution_count": 136,
   "metadata": {
    "collapsed": true
   },
   "outputs": [
    {
     "data": {
      "text/plain": [
       "[[3, 4, 3, 5, 5, 1, 5, 4, 2, 5],\n",
       " [2, 5, 4, 3, 4, 2, 3, 1, 5, 6],\n",
       " [5, 1, 1, 3, 5, 4, 2, 4, 1, 2],\n",
       " [2, 3, 4, 1, 3, 5, 3, 5, 5, 2],\n",
       " [2, 1, 5, 6, 3, 3, 2, 2, 3, 2],\n",
       " [2, 2, 6, 3, 1, 2, 3, 1, 5, 1],\n",
       " [4, 2, 1, 2, 2, 2, 4, 1, 3, 6],\n",
       " [4, 1, 3, 3, 3, 6, 4, 2, 3, 5],\n",
       " [3, 3, 4, 2, 4, 4, 5, 3, 1, 2],\n",
       " [5, 1, 2, 2, 3, 6, 4, 6, 2, 6],\n",
       " [3, 6, 3, 6, 4, 1, 6, 4, 3, 5],\n",
       " [1, 2, 1, 6, 4, 6, 3, 1, 1, 4],\n",
       " [3, 2, 4, 6, 6, 4, 4, 4, 6, 4],\n",
       " [3, 3, 2, 1, 6, 3, 2, 6, 5, 3],\n",
       " [6, 2, 3, 4, 1, 2, 5, 2, 4, 6],\n",
       " [2, 3, 6, 2, 4, 5, 4, 4, 1, 6],\n",
       " [6, 2, 6, 4, 2, 3, 3, 1, 1, 5],\n",
       " [1, 1, 4, 5, 4, 4, 2, 2, 4, 4],\n",
       " [1, 4, 3, 3, 6, 3, 5, 2, 5, 5],\n",
       " [4, 3, 2, 5, 3, 6, 2, 1, 6, 4],\n",
       " [4, 6, 5, 4, 1, 3, 5, 4, 3, 3],\n",
       " [1, 5, 1, 3, 3, 3, 1, 2, 6, 6],\n",
       " [2, 1, 2, 3, 5, 4, 3, 5, 4, 1],\n",
       " [1, 1, 2, 1, 6, 5, 5, 3, 6, 5],\n",
       " [1, 1, 5, 2, 4, 5, 6, 5, 1, 1],\n",
       " [3, 4, 4, 1, 1, 4, 1, 5, 3, 4],\n",
       " [5, 2, 2, 1, 6, 2, 3, 6, 6, 3],\n",
       " [1, 6, 3, 2, 2, 1, 1, 1, 3, 4],\n",
       " [4, 5, 5, 1, 1, 5, 2, 4, 3, 6],\n",
       " [6, 6, 6, 4, 1, 4, 6, 6, 2, 3],\n",
       " [5, 6, 1, 1, 3, 1, 4, 3, 4, 4],\n",
       " [3, 6, 4, 4, 4, 5, 2, 4, 2, 2],\n",
       " [3, 1, 4, 2, 1, 1, 1, 6, 1, 2],\n",
       " [1, 1, 4, 6, 2, 6, 5, 4, 6, 5],\n",
       " [1, 1, 4, 5, 5, 3, 4, 1, 2, 3],\n",
       " [6, 6, 3, 4, 3, 4, 5, 6, 1, 3],\n",
       " [4, 6, 6, 4, 1, 4, 1, 2, 1, 4],\n",
       " [4, 3, 6, 6, 3, 6, 6, 2, 6, 1],\n",
       " [4, 2, 2, 3, 1, 5, 5, 2, 2, 4],\n",
       " [3, 1, 3, 2, 4, 2, 5, 3, 2, 2],\n",
       " [1, 5, 2, 1, 5, 1, 3, 4, 6, 2],\n",
       " [4, 6, 2, 5, 1, 5, 5, 3, 5, 2],\n",
       " [4, 3, 6, 1, 4, 3, 6, 1, 1, 1],\n",
       " [2, 5, 2, 3, 4, 2, 6, 1, 2, 5],\n",
       " [5, 5, 3, 1, 3, 6, 3, 2, 5, 6],\n",
       " [4, 5, 2, 1, 3, 5, 6, 1, 1, 5],\n",
       " [5, 2, 3, 1, 3, 6, 4, 4, 4, 5],\n",
       " [1, 3, 4, 6, 5, 5, 4, 3, 1, 1],\n",
       " [2, 3, 4, 3, 2, 5, 4, 3, 5, 1],\n",
       " [3, 1, 4, 5, 2, 6, 1, 2, 2, 2],\n",
       " [5, 2, 4, 5, 5, 1, 6, 2, 2, 6],\n",
       " [5, 6, 6, 6, 1, 6, 2, 3, 6, 4],\n",
       " [4, 4, 3, 5, 1, 1, 3, 1, 1, 1],\n",
       " [1, 1, 1, 3, 2, 3, 4, 5, 1, 5],\n",
       " [2, 3, 6, 4, 2, 2, 5, 5, 5, 5],\n",
       " [5, 6, 6, 1, 3, 4, 4, 3, 5, 5],\n",
       " [3, 1, 3, 4, 3, 6, 6, 3, 4, 3],\n",
       " [2, 4, 5, 5, 5, 1, 6, 4, 1, 1],\n",
       " [5, 1, 2, 1, 3, 2, 4, 5, 1, 2],\n",
       " [3, 6, 4, 6, 3, 5, 4, 1, 6, 5],\n",
       " [2, 1, 4, 4, 3, 1, 5, 1, 1, 2],\n",
       " [5, 2, 2, 1, 5, 1, 5, 2, 4, 6],\n",
       " [4, 3, 3, 4, 4, 6, 3, 3, 1, 2],\n",
       " [1, 4, 1, 5, 1, 2, 2, 4, 2, 3],\n",
       " [2, 1, 6, 2, 2, 3, 6, 2, 2, 6],\n",
       " [2, 3, 5, 1, 5, 4, 2, 1, 4, 4],\n",
       " [4, 3, 6, 6, 6, 2, 2, 1, 4, 6],\n",
       " [6, 5, 2, 2, 1, 1, 4, 4, 4, 3],\n",
       " [3, 4, 5, 4, 4, 5, 5, 2, 4, 5],\n",
       " [1, 1, 5, 6, 1, 2, 4, 5, 4, 4],\n",
       " [2, 3, 1, 6, 5, 3, 1, 3, 3, 3],\n",
       " [5, 4, 6, 6, 5, 6, 3, 5, 2, 4],\n",
       " [6, 6, 6, 3, 2, 3, 3, 4, 3, 4],\n",
       " [3, 4, 1, 2, 4, 2, 1, 5, 1, 3],\n",
       " [2, 4, 2, 1, 1, 3, 6, 1, 6, 5],\n",
       " [6, 3, 4, 1, 5, 2, 5, 2, 6, 5],\n",
       " [3, 3, 5, 5, 4, 5, 2, 3, 2, 6],\n",
       " [3, 1, 5, 3, 1, 1, 4, 3, 3, 4],\n",
       " [6, 3, 2, 4, 3, 6, 2, 1, 5, 5],\n",
       " [6, 6, 1, 2, 6, 3, 2, 5, 5, 1],\n",
       " [6, 4, 3, 2, 4, 5, 4, 2, 2, 5],\n",
       " [1, 2, 6, 1, 3, 4, 5, 4, 4, 3],\n",
       " [6, 2, 6, 1, 1, 5, 6, 6, 3, 1],\n",
       " [1, 4, 4, 2, 6, 4, 1, 3, 1, 5],\n",
       " [4, 4, 3, 6, 4, 5, 6, 2, 3, 1],\n",
       " [2, 2, 3, 4, 4, 2, 1, 5, 5, 6],\n",
       " [3, 3, 4, 5, 4, 2, 4, 3, 6, 4],\n",
       " [2, 6, 6, 4, 2, 2, 5, 4, 4, 2],\n",
       " [2, 6, 3, 3, 3, 4, 6, 2, 3, 5],\n",
       " [3, 1, 3, 5, 3, 3, 4, 6, 3, 3],\n",
       " [5, 1, 4, 3, 5, 4, 1, 4, 1, 2],\n",
       " [2, 1, 5, 4, 3, 2, 3, 4, 2, 1],\n",
       " [4, 3, 2, 3, 3, 1, 6, 4, 1, 4],\n",
       " [1, 5, 5, 3, 5, 3, 2, 5, 4, 2],\n",
       " [4, 6, 1, 5, 3, 1, 5, 2, 4, 1],\n",
       " [5, 5, 6, 6, 5, 2, 3, 4, 2, 6],\n",
       " [4, 2, 5, 1, 4, 2, 4, 6, 3, 6],\n",
       " [6, 6, 6, 5, 3, 1, 1, 5, 3, 2],\n",
       " [4, 5, 2, 3, 6, 6, 5, 4, 4, 2],\n",
       " [5, 5, 2, 5, 3, 4, 5, 2, 5, 1]]"
      ]
     },
     "execution_count": 136,
     "metadata": {},
     "output_type": "execute_result"
    }
   ],
   "source": [
    "data = []\n",
    "\n",
    "for j in range(100):\n",
    "    data.append([random.randint(1,6) for i in range(10)])\n",
    "    \n",
    "data"
   ]
  },
  {
   "cell_type": "code",
   "execution_count": 135,
   "metadata": {
    "collapsed": true
   },
   "outputs": [
    {
     "data": {
      "text/plain": [
       "[[5, 1, 6, 3, 3, 3, 4, 5, 6, 4],\n",
       " [5, 4, 1, 1, 6, 6, 6, 1, 1, 1],\n",
       " [3, 3, 2, 4, 2, 5, 2, 6, 1, 3],\n",
       " [1, 2, 2, 4, 2, 5, 2, 2, 4, 6],\n",
       " [5, 2, 4, 5, 1, 1, 3, 6, 6, 4],\n",
       " [3, 4, 1, 1, 6, 1, 1, 6, 2, 6],\n",
       " [5, 4, 2, 3, 5, 5, 2, 3, 1, 4],\n",
       " [1, 6, 1, 1, 6, 4, 6, 6, 4, 2],\n",
       " [2, 2, 5, 5, 2, 6, 6, 2, 1, 3],\n",
       " [3, 2, 5, 1, 1, 6, 4, 2, 2, 1],\n",
       " [6, 6, 6, 2, 4, 3, 6, 4, 5, 2],\n",
       " [4, 4, 2, 6, 2, 6, 1, 3, 3, 4],\n",
       " [3, 5, 4, 5, 1, 1, 1, 1, 3, 2],\n",
       " [2, 5, 6, 4, 5, 6, 6, 4, 4, 6],\n",
       " [4, 2, 5, 3, 4, 2, 4, 6, 6, 1],\n",
       " [3, 6, 5, 2, 6, 1, 3, 2, 2, 5],\n",
       " [4, 6, 2, 3, 3, 3, 2, 6, 5, 2],\n",
       " [1, 4, 5, 1, 2, 1, 4, 3, 1, 3],\n",
       " [5, 4, 6, 6, 3, 3, 2, 2, 1, 6],\n",
       " [1, 1, 3, 3, 3, 2, 2, 4, 3, 4],\n",
       " [2, 5, 2, 4, 6, 2, 1, 3, 2, 2],\n",
       " [3, 2, 5, 6, 6, 1, 4, 2, 4, 5],\n",
       " [4, 5, 1, 2, 2, 6, 6, 4, 4, 1],\n",
       " [1, 2, 4, 6, 1, 5, 3, 3, 5, 3],\n",
       " [1, 2, 2, 4, 1, 1, 4, 4, 3, 2],\n",
       " [3, 5, 4, 5, 2, 6, 3, 5, 1, 6],\n",
       " [2, 6, 6, 6, 4, 3, 5, 1, 2, 1],\n",
       " [4, 6, 2, 2, 1, 3, 6, 2, 2, 3],\n",
       " [6, 6, 3, 4, 1, 1, 6, 3, 1, 2],\n",
       " [2, 3, 2, 5, 2, 6, 4, 2, 4, 1],\n",
       " [2, 5, 2, 1, 1, 3, 4, 4, 6, 3],\n",
       " [6, 6, 2, 2, 4, 2, 3, 1, 4, 5],\n",
       " [3, 1, 1, 4, 4, 4, 4, 5, 5, 6],\n",
       " [4, 6, 1, 3, 6, 6, 3, 4, 3, 4],\n",
       " [5, 4, 1, 2, 5, 1, 4, 1, 4, 3],\n",
       " [1, 3, 5, 2, 2, 1, 4, 4, 4, 3],\n",
       " [1, 1, 2, 3, 6, 4, 6, 1, 2, 1],\n",
       " [1, 6, 5, 1, 3, 2, 6, 2, 5, 3],\n",
       " [1, 1, 5, 5, 5, 4, 1, 3, 2, 4],\n",
       " [4, 6, 1, 6, 2, 2, 1, 2, 5, 5],\n",
       " [3, 1, 2, 6, 5, 3, 2, 5, 6, 1],\n",
       " [6, 5, 4, 4, 2, 1, 1, 4, 6, 5],\n",
       " [6, 5, 5, 1, 1, 3, 6, 5, 6, 6],\n",
       " [4, 2, 3, 4, 5, 4, 2, 1, 4, 4],\n",
       " [6, 3, 2, 1, 1, 6, 3, 4, 2, 4],\n",
       " [6, 6, 2, 4, 5, 1, 1, 1, 6, 1],\n",
       " [2, 3, 6, 6, 4, 6, 2, 6, 3, 2],\n",
       " [5, 5, 3, 3, 2, 4, 6, 6, 2, 6],\n",
       " [6, 3, 3, 5, 6, 1, 1, 1, 2, 4],\n",
       " [1, 2, 3, 4, 2, 5, 3, 1, 6, 1],\n",
       " [4, 5, 6, 2, 4, 1, 2, 1, 1, 5],\n",
       " [3, 5, 2, 6, 4, 2, 1, 6, 2, 6],\n",
       " [6, 6, 4, 5, 5, 1, 2, 1, 6, 4],\n",
       " [1, 5, 4, 4, 3, 2, 3, 2, 5, 3],\n",
       " [2, 3, 4, 6, 2, 3, 4, 5, 6, 1],\n",
       " [3, 5, 6, 2, 2, 4, 3, 2, 2, 2],\n",
       " [4, 2, 5, 3, 4, 6, 4, 5, 6, 2],\n",
       " [5, 6, 4, 1, 5, 5, 1, 6, 4, 4],\n",
       " [6, 2, 2, 6, 2, 2, 3, 4, 3, 1],\n",
       " [4, 4, 4, 4, 5, 1, 5, 6, 5, 6],\n",
       " [6, 3, 3, 6, 6, 5, 3, 3, 4, 2],\n",
       " [4, 2, 2, 5, 2, 6, 3, 4, 3, 6],\n",
       " [4, 1, 3, 2, 5, 6, 3, 2, 2, 4],\n",
       " [6, 3, 5, 5, 5, 2, 4, 6, 5, 6],\n",
       " [2, 3, 4, 6, 3, 4, 2, 2, 1, 4],\n",
       " [3, 1, 6, 4, 2, 6, 4, 1, 6, 1],\n",
       " [6, 2, 5, 5, 4, 6, 6, 3, 3, 5],\n",
       " [2, 6, 5, 6, 2, 5, 4, 1, 2, 1],\n",
       " [5, 6, 3, 2, 2, 6, 6, 2, 4, 5],\n",
       " [2, 2, 5, 5, 2, 2, 1, 4, 2, 3],\n",
       " [3, 6, 1, 6, 3, 1, 1, 1, 2, 6],\n",
       " [1, 3, 2, 3, 6, 4, 3, 1, 2, 2],\n",
       " [3, 6, 2, 4, 4, 6, 6, 5, 6, 6],\n",
       " [2, 4, 1, 4, 2, 1, 2, 2, 5, 2],\n",
       " [5, 3, 4, 2, 4, 6, 2, 3, 4, 6],\n",
       " [1, 3, 3, 1, 1, 5, 6, 1, 6, 1],\n",
       " [2, 2, 4, 1, 2, 5, 6, 3, 1, 2],\n",
       " [3, 4, 3, 1, 2, 6, 1, 1, 4, 5],\n",
       " [2, 3, 1, 6, 3, 2, 2, 6, 2, 6],\n",
       " [2, 6, 5, 5, 5, 3, 2, 5, 3, 5],\n",
       " [1, 4, 5, 1, 1, 1, 4, 5, 3, 3],\n",
       " [3, 1, 2, 6, 5, 5, 2, 1, 1, 4],\n",
       " [6, 2, 2, 5, 5, 4, 1, 5, 6, 6],\n",
       " [6, 2, 3, 6, 4, 2, 6, 6, 2, 5],\n",
       " [1, 2, 2, 5, 1, 4, 6, 3, 1, 6],\n",
       " [6, 2, 6, 3, 6, 4, 6, 3, 2, 6],\n",
       " [4, 2, 3, 5, 2, 4, 2, 4, 2, 3],\n",
       " [3, 6, 3, 6, 3, 2, 6, 3, 1, 5],\n",
       " [5, 4, 2, 4, 3, 3, 5, 3, 3, 6],\n",
       " [4, 1, 6, 2, 5, 5, 3, 5, 1, 2],\n",
       " [6, 6, 5, 5, 4, 2, 6, 3, 5, 1],\n",
       " [6, 1, 6, 6, 5, 3, 6, 5, 1, 5],\n",
       " [2, 3, 6, 4, 2, 4, 2, 6, 3, 3],\n",
       " [6, 6, 4, 2, 6, 2, 6, 2, 2, 5],\n",
       " [2, 5, 1, 3, 6, 2, 6, 4, 2, 6],\n",
       " [1, 5, 4, 1, 2, 2, 6, 5, 3, 4],\n",
       " [6, 1, 4, 2, 5, 1, 4, 5, 3, 2],\n",
       " [1, 3, 4, 3, 3, 3, 2, 2, 1, 6],\n",
       " [6, 4, 3, 6, 6, 2, 3, 3, 6, 4],\n",
       " [4, 4, 5, 5, 3, 3, 5, 5, 5, 1]]"
      ]
     },
     "execution_count": 135,
     "metadata": {},
     "output_type": "execute_result"
    }
   ],
   "source": [
    "data = [[random.randint(1,6) for i in range(10)] for j in range(100)]\n",
    "    \n",
    "data"
   ]
  },
  {
   "cell_type": "code",
   "execution_count": 138,
   "metadata": {},
   "outputs": [
    {
     "name": "stdout",
     "output_type": "stream",
     "text": [
      "15\n"
     ]
    }
   ],
   "source": [
    "n = 0\n",
    "for game in data:\n",
    "    if sum(game)/10 >= 4: n += 1\n",
    "        \n",
    "print(n)"
   ]
  },
  {
   "cell_type": "code",
   "execution_count": 139,
   "metadata": {},
   "outputs": [
    {
     "name": "stdout",
     "output_type": "stream",
     "text": [
      "15\n"
     ]
    }
   ],
   "source": [
    "result = []\n",
    "for game in data:\n",
    "    if sum(game)/10 >= 4: result.append(1)\n",
    "    else: result.append(0)\n",
    "        \n",
    "print(sum(result))"
   ]
  },
  {
   "cell_type": "markdown",
   "metadata": {},
   "source": [
    "### re 모듈 (정규표현식)\n",
    "- regular expression"
   ]
  },
  {
   "cell_type": "code",
   "execution_count": 140,
   "metadata": {},
   "outputs": [],
   "source": [
    "import re"
   ]
  },
  {
   "cell_type": "code",
   "execution_count": 155,
   "metadata": {},
   "outputs": [],
   "source": [
    "p = re.compile('0[0-9]{2}-[0-9]{3,4}-[0-9]{4}')"
   ]
  },
  {
   "cell_type": "code",
   "execution_count": 159,
   "metadata": {},
   "outputs": [
    {
     "name": "stdout",
     "output_type": "stream",
     "text": [
      "['010-1234-5678']\n"
     ]
    }
   ],
   "source": [
    "print(p.findall('010-1234-5678'))"
   ]
  },
  {
   "cell_type": "markdown",
   "metadata": {},
   "source": [
    "### datetime 모듈"
   ]
  },
  {
   "cell_type": "code",
   "execution_count": 160,
   "metadata": {},
   "outputs": [],
   "source": [
    "import datetime"
   ]
  },
  {
   "cell_type": "code",
   "execution_count": 161,
   "metadata": {},
   "outputs": [
    {
     "data": {
      "text/plain": [
       "['MAXYEAR',\n",
       " 'MINYEAR',\n",
       " '__builtins__',\n",
       " '__cached__',\n",
       " '__doc__',\n",
       " '__file__',\n",
       " '__loader__',\n",
       " '__name__',\n",
       " '__package__',\n",
       " '__spec__',\n",
       " 'date',\n",
       " 'datetime',\n",
       " 'datetime_CAPI',\n",
       " 'time',\n",
       " 'timedelta',\n",
       " 'timezone',\n",
       " 'tzinfo']"
      ]
     },
     "execution_count": 161,
     "metadata": {},
     "output_type": "execute_result"
    }
   ],
   "source": [
    "dir(datetime)"
   ]
  },
  {
   "cell_type": "code",
   "execution_count": 162,
   "metadata": {},
   "outputs": [
    {
     "name": "stdout",
     "output_type": "stream",
     "text": [
      "2020-09-07\n"
     ]
    }
   ],
   "source": [
    "d = datetime.date(2020,9,7)\n",
    "print(d)"
   ]
  },
  {
   "cell_type": "code",
   "execution_count": 166,
   "metadata": {},
   "outputs": [
    {
     "data": {
      "text/plain": [
       "'월'"
      ]
     },
     "execution_count": 166,
     "metadata": {},
     "output_type": "execute_result"
    }
   ],
   "source": [
    "wday = ['월','화','수','목','금','토','일']\n",
    "wday[d.weekday()]"
   ]
  },
  {
   "cell_type": "code",
   "execution_count": 165,
   "metadata": {},
   "outputs": [
    {
     "name": "stdout",
     "output_type": "stream",
     "text": [
      "Help on built-in function weekday:\n",
      "\n",
      "weekday(...) method of datetime.date instance\n",
      "    Return the day of the week represented by the date.\n",
      "    Monday == 0 ... Sunday == 6\n",
      "\n"
     ]
    }
   ],
   "source": [
    "help(d.weekday)"
   ]
  },
  {
   "cell_type": "markdown",
   "metadata": {},
   "source": [
    "### 연습문제\n",
    "- iris 데이터를 2차원 리스트로 불러오시오.\n",
    "- 앞 10개의 샘플(행)을 뽑아내시오.\n",
    "- 뒷 10개의 샘플(행)을 뽑아내시오.\n",
    "- 앞의 속성(열) 4개를 X 로 뽑아내시오.\n",
    "- 마지막 속성(열)을 y 로 뽑아내시오.\n",
    "- (도전) X 에서 가장 중앙의 2x2 형태를 뽑아내시오"
   ]
  },
  {
   "cell_type": "code",
   "execution_count": 169,
   "metadata": {},
   "outputs": [
    {
     "data": {
      "text/plain": [
       "[[5.1, 3.5, 1.4, 0.2, 0],\n",
       " [4.9, 3.0, 1.4, 0.2, 0],\n",
       " [4.7, 3.2, 1.3, 0.2, 0],\n",
       " [4.6, 3.1, 1.5, 0.2, 0],\n",
       " [5.0, 3.6, 1.4, 0.2, 0],\n",
       " [5.4, 3.9, 1.7, 0.4, 0],\n",
       " [4.6, 3.4, 1.4, 0.3, 0],\n",
       " [5.0, 3.4, 1.5, 0.2, 0],\n",
       " [4.4, 2.9, 1.4, 0.2, 0],\n",
       " [4.9, 3.1, 1.5, 0.1, 0],\n",
       " [5.4, 3.7, 1.5, 0.2, 0],\n",
       " [4.8, 3.4, 1.6, 0.2, 0],\n",
       " [4.8, 3.0, 1.4, 0.1, 0],\n",
       " [4.3, 3.0, 1.1, 0.1, 0],\n",
       " [5.8, 4.0, 1.2, 0.2, 0],\n",
       " [5.7, 4.4, 1.5, 0.4, 0],\n",
       " [5.4, 3.9, 1.3, 0.4, 0],\n",
       " [5.1, 3.5, 1.4, 0.3, 0],\n",
       " [5.7, 3.8, 1.7, 0.3, 0],\n",
       " [5.1, 3.8, 1.5, 0.3, 0],\n",
       " [5.4, 3.4, 1.7, 0.2, 0],\n",
       " [5.1, 3.7, 1.5, 0.4, 0],\n",
       " [4.6, 3.6, 1.0, 0.2, 0],\n",
       " [5.1, 3.3, 1.7, 0.5, 0],\n",
       " [4.8, 3.4, 1.9, 0.2, 0],\n",
       " [5.0, 3.0, 1.6, 0.2, 0],\n",
       " [5.0, 3.4, 1.6, 0.4, 0],\n",
       " [5.2, 3.5, 1.5, 0.2, 0],\n",
       " [5.2, 3.4, 1.4, 0.2, 0],\n",
       " [4.7, 3.2, 1.6, 0.2, 0],\n",
       " [4.8, 3.1, 1.6, 0.2, 0],\n",
       " [5.4, 3.4, 1.5, 0.4, 0],\n",
       " [5.2, 4.1, 1.5, 0.1, 0],\n",
       " [5.5, 4.2, 1.4, 0.2, 0],\n",
       " [4.9, 3.1, 1.5, 0.1, 0],\n",
       " [5.0, 3.2, 1.2, 0.2, 0],\n",
       " [5.5, 3.5, 1.3, 0.2, 0],\n",
       " [4.9, 3.1, 1.5, 0.1, 0],\n",
       " [4.4, 3.0, 1.3, 0.2, 0],\n",
       " [5.1, 3.4, 1.5, 0.2, 0],\n",
       " [5.0, 3.5, 1.3, 0.3, 0],\n",
       " [4.5, 2.3, 1.3, 0.3, 0],\n",
       " [4.4, 3.2, 1.3, 0.2, 0],\n",
       " [5.0, 3.5, 1.6, 0.6, 0],\n",
       " [5.1, 3.8, 1.9, 0.4, 0],\n",
       " [4.8, 3.0, 1.4, 0.3, 0],\n",
       " [5.1, 3.8, 1.6, 0.2, 0],\n",
       " [4.6, 3.2, 1.4, 0.2, 0],\n",
       " [5.3, 3.7, 1.5, 0.2, 0],\n",
       " [5.0, 3.3, 1.4, 0.2, 0],\n",
       " [7.0, 3.2, 4.7, 1.4, 1],\n",
       " [6.4, 3.2, 4.5, 1.5, 1],\n",
       " [6.9, 3.1, 4.9, 1.5, 1],\n",
       " [5.5, 2.3, 4.0, 1.3, 1],\n",
       " [6.5, 2.8, 4.6, 1.5, 1],\n",
       " [5.7, 2.8, 4.5, 1.3, 1],\n",
       " [6.3, 3.3, 4.7, 1.6, 1],\n",
       " [4.9, 2.4, 3.3, 1.0, 1],\n",
       " [6.6, 2.9, 4.6, 1.3, 1],\n",
       " [5.2, 2.7, 3.9, 1.4, 1],\n",
       " [5.0, 2.0, 3.5, 1.0, 1],\n",
       " [5.9, 3.0, 4.2, 1.5, 1],\n",
       " [6.0, 2.2, 4.0, 1.0, 1],\n",
       " [6.1, 2.9, 4.7, 1.4, 1],\n",
       " [5.6, 2.9, 3.6, 1.3, 1],\n",
       " [6.7, 3.1, 4.4, 1.4, 1],\n",
       " [5.6, 3.0, 4.5, 1.5, 1],\n",
       " [5.8, 2.7, 4.1, 1.0, 1],\n",
       " [6.2, 2.2, 4.5, 1.5, 1],\n",
       " [5.6, 2.5, 3.9, 1.1, 1],\n",
       " [5.9, 3.2, 4.8, 1.8, 1],\n",
       " [6.1, 2.8, 4.0, 1.3, 1],\n",
       " [6.3, 2.5, 4.9, 1.5, 1],\n",
       " [6.1, 2.8, 4.7, 1.2, 1],\n",
       " [6.4, 2.9, 4.3, 1.3, 1],\n",
       " [6.6, 3.0, 4.4, 1.4, 1],\n",
       " [6.8, 2.8, 4.8, 1.4, 1],\n",
       " [6.7, 3.0, 5.0, 1.7, 1],\n",
       " [6.0, 2.9, 4.5, 1.5, 1],\n",
       " [5.7, 2.6, 3.5, 1.0, 1],\n",
       " [5.5, 2.4, 3.8, 1.1, 1],\n",
       " [5.5, 2.4, 3.7, 1.0, 1],\n",
       " [5.8, 2.7, 3.9, 1.2, 1],\n",
       " [6.0, 2.7, 5.1, 1.6, 1],\n",
       " [5.4, 3.0, 4.5, 1.5, 1],\n",
       " [6.0, 3.4, 4.5, 1.6, 1],\n",
       " [6.7, 3.1, 4.7, 1.5, 1],\n",
       " [6.3, 2.3, 4.4, 1.3, 1],\n",
       " [5.6, 3.0, 4.1, 1.3, 1],\n",
       " [5.5, 2.5, 4.0, 1.3, 1],\n",
       " [5.5, 2.6, 4.4, 1.2, 1],\n",
       " [6.1, 3.0, 4.6, 1.4, 1],\n",
       " [5.8, 2.6, 4.0, 1.2, 1],\n",
       " [5.0, 2.3, 3.3, 1.0, 1],\n",
       " [5.6, 2.7, 4.2, 1.3, 1],\n",
       " [5.7, 3.0, 4.2, 1.2, 1],\n",
       " [5.7, 2.9, 4.2, 1.3, 1],\n",
       " [6.2, 2.9, 4.3, 1.3, 1],\n",
       " [5.1, 2.5, 3.0, 1.1, 1],\n",
       " [5.7, 2.8, 4.1, 1.3, 1],\n",
       " [6.3, 3.3, 6.0, 2.5, 2],\n",
       " [5.8, 2.7, 5.1, 1.9, 2],\n",
       " [7.1, 3.0, 5.9, 2.1, 2],\n",
       " [6.3, 2.9, 5.6, 1.8, 2],\n",
       " [6.5, 3.0, 5.8, 2.2, 2],\n",
       " [7.6, 3.0, 6.6, 2.1, 2],\n",
       " [4.9, 2.5, 4.5, 1.7, 2],\n",
       " [7.3, 2.9, 6.3, 1.8, 2],\n",
       " [6.7, 2.5, 5.8, 1.8, 2],\n",
       " [7.2, 3.6, 6.1, 2.5, 2],\n",
       " [6.5, 3.2, 5.1, 2.0, 2],\n",
       " [6.4, 2.7, 5.3, 1.9, 2],\n",
       " [6.8, 3.0, 5.5, 2.1, 2],\n",
       " [5.7, 2.5, 5.0, 2.0, 2],\n",
       " [5.8, 2.8, 5.1, 2.4, 2],\n",
       " [6.4, 3.2, 5.3, 2.3, 2],\n",
       " [6.5, 3.0, 5.5, 1.8, 2],\n",
       " [7.7, 3.8, 6.7, 2.2, 2],\n",
       " [7.7, 2.6, 6.9, 2.3, 2],\n",
       " [6.0, 2.2, 5.0, 1.5, 2],\n",
       " [6.9, 3.2, 5.7, 2.3, 2],\n",
       " [5.6, 2.8, 4.9, 2.0, 2],\n",
       " [7.7, 2.8, 6.7, 2.0, 2],\n",
       " [6.3, 2.7, 4.9, 1.8, 2],\n",
       " [6.7, 3.3, 5.7, 2.1, 2],\n",
       " [7.2, 3.2, 6.0, 1.8, 2],\n",
       " [6.2, 2.8, 4.8, 1.8, 2],\n",
       " [6.1, 3.0, 4.9, 1.8, 2],\n",
       " [6.4, 2.8, 5.6, 2.1, 2],\n",
       " [7.2, 3.0, 5.8, 1.6, 2],\n",
       " [7.4, 2.8, 6.1, 1.9, 2],\n",
       " [7.9, 3.8, 6.4, 2.0, 2],\n",
       " [6.4, 2.8, 5.6, 2.2, 2],\n",
       " [6.3, 2.8, 5.1, 1.5, 2],\n",
       " [6.1, 2.6, 5.6, 1.4, 2],\n",
       " [7.7, 3.0, 6.1, 2.3, 2],\n",
       " [6.3, 3.4, 5.6, 2.4, 2],\n",
       " [6.4, 3.1, 5.5, 1.8, 2],\n",
       " [6.0, 3.0, 4.8, 1.8, 2],\n",
       " [6.9, 3.1, 5.4, 2.1, 2],\n",
       " [6.7, 3.1, 5.6, 2.4, 2],\n",
       " [6.9, 3.1, 5.1, 2.3, 2],\n",
       " [5.8, 2.7, 5.1, 1.9, 2],\n",
       " [6.8, 3.2, 5.9, 2.3, 2],\n",
       " [6.7, 3.3, 5.7, 2.5, 2],\n",
       " [6.7, 3.0, 5.2, 2.3, 2],\n",
       " [6.3, 2.5, 5.0, 1.9, 2],\n",
       " [6.5, 3.0, 5.2, 2.0, 2],\n",
       " [6.2, 3.4, 5.4, 2.3, 2],\n",
       " [5.9, 3.0, 5.1, 1.8, 2]]"
      ]
     },
     "execution_count": 169,
     "metadata": {},
     "output_type": "execute_result"
    }
   ],
   "source": [
    "f = open('iris.csv')\n",
    "\n",
    "s = f.readline()\n",
    "header = s.strip().split(',')\n",
    "\n",
    "labels = ['Iris-setosa', 'Iris-versicolor', 'Iris-virginica']\n",
    "iris = []\n",
    "\n",
    "for line in f:\n",
    "    l = line.strip().split(',')\n",
    "    l[0] = float(l[0])\n",
    "    l[1] = float(l[1])\n",
    "    l[2] = float(l[2])\n",
    "    l[3] = float(l[3])\n",
    "    l[4] = labels.index(l[4])\n",
    "    iris.append(l)\n",
    "\n",
    "f.close()\n",
    "\n",
    "iris"
   ]
  },
  {
   "cell_type": "code",
   "execution_count": 172,
   "metadata": {},
   "outputs": [
    {
     "data": {
      "text/plain": [
       "[[5.1, 3.5, 1.4, 0.2, 0],\n",
       " [4.9, 3.0, 1.4, 0.2, 0],\n",
       " [4.7, 3.2, 1.3, 0.2, 0],\n",
       " [4.6, 3.1, 1.5, 0.2, 0],\n",
       " [5.0, 3.6, 1.4, 0.2, 0],\n",
       " [5.4, 3.9, 1.7, 0.4, 0],\n",
       " [4.6, 3.4, 1.4, 0.3, 0],\n",
       " [5.0, 3.4, 1.5, 0.2, 0],\n",
       " [4.4, 2.9, 1.4, 0.2, 0],\n",
       " [4.9, 3.1, 1.5, 0.1, 0]]"
      ]
     },
     "execution_count": 172,
     "metadata": {},
     "output_type": "execute_result"
    }
   ],
   "source": [
    "iris[:10]"
   ]
  },
  {
   "cell_type": "code",
   "execution_count": 173,
   "metadata": {},
   "outputs": [
    {
     "data": {
      "text/plain": [
       "[[6.7, 3.1, 5.6, 2.4, 2],\n",
       " [6.9, 3.1, 5.1, 2.3, 2],\n",
       " [5.8, 2.7, 5.1, 1.9, 2],\n",
       " [6.8, 3.2, 5.9, 2.3, 2],\n",
       " [6.7, 3.3, 5.7, 2.5, 2],\n",
       " [6.7, 3.0, 5.2, 2.3, 2],\n",
       " [6.3, 2.5, 5.0, 1.9, 2],\n",
       " [6.5, 3.0, 5.2, 2.0, 2],\n",
       " [6.2, 3.4, 5.4, 2.3, 2],\n",
       " [5.9, 3.0, 5.1, 1.8, 2]]"
      ]
     },
     "execution_count": 173,
     "metadata": {},
     "output_type": "execute_result"
    }
   ],
   "source": [
    "iris[-10:]"
   ]
  },
  {
   "cell_type": "code",
   "execution_count": 174,
   "metadata": {},
   "outputs": [
    {
     "data": {
      "text/plain": [
       "[[5.1, 3.5, 1.4, 0.2],\n",
       " [4.9, 3.0, 1.4, 0.2],\n",
       " [4.7, 3.2, 1.3, 0.2],\n",
       " [4.6, 3.1, 1.5, 0.2],\n",
       " [5.0, 3.6, 1.4, 0.2],\n",
       " [5.4, 3.9, 1.7, 0.4],\n",
       " [4.6, 3.4, 1.4, 0.3],\n",
       " [5.0, 3.4, 1.5, 0.2],\n",
       " [4.4, 2.9, 1.4, 0.2],\n",
       " [4.9, 3.1, 1.5, 0.1],\n",
       " [5.4, 3.7, 1.5, 0.2],\n",
       " [4.8, 3.4, 1.6, 0.2],\n",
       " [4.8, 3.0, 1.4, 0.1],\n",
       " [4.3, 3.0, 1.1, 0.1],\n",
       " [5.8, 4.0, 1.2, 0.2],\n",
       " [5.7, 4.4, 1.5, 0.4],\n",
       " [5.4, 3.9, 1.3, 0.4],\n",
       " [5.1, 3.5, 1.4, 0.3],\n",
       " [5.7, 3.8, 1.7, 0.3],\n",
       " [5.1, 3.8, 1.5, 0.3],\n",
       " [5.4, 3.4, 1.7, 0.2],\n",
       " [5.1, 3.7, 1.5, 0.4],\n",
       " [4.6, 3.6, 1.0, 0.2],\n",
       " [5.1, 3.3, 1.7, 0.5],\n",
       " [4.8, 3.4, 1.9, 0.2],\n",
       " [5.0, 3.0, 1.6, 0.2],\n",
       " [5.0, 3.4, 1.6, 0.4],\n",
       " [5.2, 3.5, 1.5, 0.2],\n",
       " [5.2, 3.4, 1.4, 0.2],\n",
       " [4.7, 3.2, 1.6, 0.2],\n",
       " [4.8, 3.1, 1.6, 0.2],\n",
       " [5.4, 3.4, 1.5, 0.4],\n",
       " [5.2, 4.1, 1.5, 0.1],\n",
       " [5.5, 4.2, 1.4, 0.2],\n",
       " [4.9, 3.1, 1.5, 0.1],\n",
       " [5.0, 3.2, 1.2, 0.2],\n",
       " [5.5, 3.5, 1.3, 0.2],\n",
       " [4.9, 3.1, 1.5, 0.1],\n",
       " [4.4, 3.0, 1.3, 0.2],\n",
       " [5.1, 3.4, 1.5, 0.2],\n",
       " [5.0, 3.5, 1.3, 0.3],\n",
       " [4.5, 2.3, 1.3, 0.3],\n",
       " [4.4, 3.2, 1.3, 0.2],\n",
       " [5.0, 3.5, 1.6, 0.6],\n",
       " [5.1, 3.8, 1.9, 0.4],\n",
       " [4.8, 3.0, 1.4, 0.3],\n",
       " [5.1, 3.8, 1.6, 0.2],\n",
       " [4.6, 3.2, 1.4, 0.2],\n",
       " [5.3, 3.7, 1.5, 0.2],\n",
       " [5.0, 3.3, 1.4, 0.2],\n",
       " [7.0, 3.2, 4.7, 1.4],\n",
       " [6.4, 3.2, 4.5, 1.5],\n",
       " [6.9, 3.1, 4.9, 1.5],\n",
       " [5.5, 2.3, 4.0, 1.3],\n",
       " [6.5, 2.8, 4.6, 1.5],\n",
       " [5.7, 2.8, 4.5, 1.3],\n",
       " [6.3, 3.3, 4.7, 1.6],\n",
       " [4.9, 2.4, 3.3, 1.0],\n",
       " [6.6, 2.9, 4.6, 1.3],\n",
       " [5.2, 2.7, 3.9, 1.4],\n",
       " [5.0, 2.0, 3.5, 1.0],\n",
       " [5.9, 3.0, 4.2, 1.5],\n",
       " [6.0, 2.2, 4.0, 1.0],\n",
       " [6.1, 2.9, 4.7, 1.4],\n",
       " [5.6, 2.9, 3.6, 1.3],\n",
       " [6.7, 3.1, 4.4, 1.4],\n",
       " [5.6, 3.0, 4.5, 1.5],\n",
       " [5.8, 2.7, 4.1, 1.0],\n",
       " [6.2, 2.2, 4.5, 1.5],\n",
       " [5.6, 2.5, 3.9, 1.1],\n",
       " [5.9, 3.2, 4.8, 1.8],\n",
       " [6.1, 2.8, 4.0, 1.3],\n",
       " [6.3, 2.5, 4.9, 1.5],\n",
       " [6.1, 2.8, 4.7, 1.2],\n",
       " [6.4, 2.9, 4.3, 1.3],\n",
       " [6.6, 3.0, 4.4, 1.4],\n",
       " [6.8, 2.8, 4.8, 1.4],\n",
       " [6.7, 3.0, 5.0, 1.7],\n",
       " [6.0, 2.9, 4.5, 1.5],\n",
       " [5.7, 2.6, 3.5, 1.0],\n",
       " [5.5, 2.4, 3.8, 1.1],\n",
       " [5.5, 2.4, 3.7, 1.0],\n",
       " [5.8, 2.7, 3.9, 1.2],\n",
       " [6.0, 2.7, 5.1, 1.6],\n",
       " [5.4, 3.0, 4.5, 1.5],\n",
       " [6.0, 3.4, 4.5, 1.6],\n",
       " [6.7, 3.1, 4.7, 1.5],\n",
       " [6.3, 2.3, 4.4, 1.3],\n",
       " [5.6, 3.0, 4.1, 1.3],\n",
       " [5.5, 2.5, 4.0, 1.3],\n",
       " [5.5, 2.6, 4.4, 1.2],\n",
       " [6.1, 3.0, 4.6, 1.4],\n",
       " [5.8, 2.6, 4.0, 1.2],\n",
       " [5.0, 2.3, 3.3, 1.0],\n",
       " [5.6, 2.7, 4.2, 1.3],\n",
       " [5.7, 3.0, 4.2, 1.2],\n",
       " [5.7, 2.9, 4.2, 1.3],\n",
       " [6.2, 2.9, 4.3, 1.3],\n",
       " [5.1, 2.5, 3.0, 1.1],\n",
       " [5.7, 2.8, 4.1, 1.3],\n",
       " [6.3, 3.3, 6.0, 2.5],\n",
       " [5.8, 2.7, 5.1, 1.9],\n",
       " [7.1, 3.0, 5.9, 2.1],\n",
       " [6.3, 2.9, 5.6, 1.8],\n",
       " [6.5, 3.0, 5.8, 2.2],\n",
       " [7.6, 3.0, 6.6, 2.1],\n",
       " [4.9, 2.5, 4.5, 1.7],\n",
       " [7.3, 2.9, 6.3, 1.8],\n",
       " [6.7, 2.5, 5.8, 1.8],\n",
       " [7.2, 3.6, 6.1, 2.5],\n",
       " [6.5, 3.2, 5.1, 2.0],\n",
       " [6.4, 2.7, 5.3, 1.9],\n",
       " [6.8, 3.0, 5.5, 2.1],\n",
       " [5.7, 2.5, 5.0, 2.0],\n",
       " [5.8, 2.8, 5.1, 2.4],\n",
       " [6.4, 3.2, 5.3, 2.3],\n",
       " [6.5, 3.0, 5.5, 1.8],\n",
       " [7.7, 3.8, 6.7, 2.2],\n",
       " [7.7, 2.6, 6.9, 2.3],\n",
       " [6.0, 2.2, 5.0, 1.5],\n",
       " [6.9, 3.2, 5.7, 2.3],\n",
       " [5.6, 2.8, 4.9, 2.0],\n",
       " [7.7, 2.8, 6.7, 2.0],\n",
       " [6.3, 2.7, 4.9, 1.8],\n",
       " [6.7, 3.3, 5.7, 2.1],\n",
       " [7.2, 3.2, 6.0, 1.8],\n",
       " [6.2, 2.8, 4.8, 1.8],\n",
       " [6.1, 3.0, 4.9, 1.8],\n",
       " [6.4, 2.8, 5.6, 2.1],\n",
       " [7.2, 3.0, 5.8, 1.6],\n",
       " [7.4, 2.8, 6.1, 1.9],\n",
       " [7.9, 3.8, 6.4, 2.0],\n",
       " [6.4, 2.8, 5.6, 2.2],\n",
       " [6.3, 2.8, 5.1, 1.5],\n",
       " [6.1, 2.6, 5.6, 1.4],\n",
       " [7.7, 3.0, 6.1, 2.3],\n",
       " [6.3, 3.4, 5.6, 2.4],\n",
       " [6.4, 3.1, 5.5, 1.8],\n",
       " [6.0, 3.0, 4.8, 1.8],\n",
       " [6.9, 3.1, 5.4, 2.1],\n",
       " [6.7, 3.1, 5.6, 2.4],\n",
       " [6.9, 3.1, 5.1, 2.3],\n",
       " [5.8, 2.7, 5.1, 1.9],\n",
       " [6.8, 3.2, 5.9, 2.3],\n",
       " [6.7, 3.3, 5.7, 2.5],\n",
       " [6.7, 3.0, 5.2, 2.3],\n",
       " [6.3, 2.5, 5.0, 1.9],\n",
       " [6.5, 3.0, 5.2, 2.0],\n",
       " [6.2, 3.4, 5.4, 2.3],\n",
       " [5.9, 3.0, 5.1, 1.8]]"
      ]
     },
     "execution_count": 174,
     "metadata": {},
     "output_type": "execute_result"
    }
   ],
   "source": [
    "X = []\n",
    "for i in iris:\n",
    "    X.append(i[:4]) # 슬라이싱을 적용하면 데이터가 copy 된다\n",
    "    \n",
    "X\n",
    "# X = [i[:4] for i in iris]"
   ]
  },
  {
   "cell_type": "code",
   "execution_count": 176,
   "metadata": {},
   "outputs": [
    {
     "data": {
      "text/plain": [
       "[0,\n",
       " 0,\n",
       " 0,\n",
       " 0,\n",
       " 0,\n",
       " 0,\n",
       " 0,\n",
       " 0,\n",
       " 0,\n",
       " 0,\n",
       " 0,\n",
       " 0,\n",
       " 0,\n",
       " 0,\n",
       " 0,\n",
       " 0,\n",
       " 0,\n",
       " 0,\n",
       " 0,\n",
       " 0,\n",
       " 0,\n",
       " 0,\n",
       " 0,\n",
       " 0,\n",
       " 0,\n",
       " 0,\n",
       " 0,\n",
       " 0,\n",
       " 0,\n",
       " 0,\n",
       " 0,\n",
       " 0,\n",
       " 0,\n",
       " 0,\n",
       " 0,\n",
       " 0,\n",
       " 0,\n",
       " 0,\n",
       " 0,\n",
       " 0,\n",
       " 0,\n",
       " 0,\n",
       " 0,\n",
       " 0,\n",
       " 0,\n",
       " 0,\n",
       " 0,\n",
       " 0,\n",
       " 0,\n",
       " 0,\n",
       " 1,\n",
       " 1,\n",
       " 1,\n",
       " 1,\n",
       " 1,\n",
       " 1,\n",
       " 1,\n",
       " 1,\n",
       " 1,\n",
       " 1,\n",
       " 1,\n",
       " 1,\n",
       " 1,\n",
       " 1,\n",
       " 1,\n",
       " 1,\n",
       " 1,\n",
       " 1,\n",
       " 1,\n",
       " 1,\n",
       " 1,\n",
       " 1,\n",
       " 1,\n",
       " 1,\n",
       " 1,\n",
       " 1,\n",
       " 1,\n",
       " 1,\n",
       " 1,\n",
       " 1,\n",
       " 1,\n",
       " 1,\n",
       " 1,\n",
       " 1,\n",
       " 1,\n",
       " 1,\n",
       " 1,\n",
       " 1,\n",
       " 1,\n",
       " 1,\n",
       " 1,\n",
       " 1,\n",
       " 1,\n",
       " 1,\n",
       " 1,\n",
       " 1,\n",
       " 1,\n",
       " 1,\n",
       " 1,\n",
       " 1,\n",
       " 2,\n",
       " 2,\n",
       " 2,\n",
       " 2,\n",
       " 2,\n",
       " 2,\n",
       " 2,\n",
       " 2,\n",
       " 2,\n",
       " 2,\n",
       " 2,\n",
       " 2,\n",
       " 2,\n",
       " 2,\n",
       " 2,\n",
       " 2,\n",
       " 2,\n",
       " 2,\n",
       " 2,\n",
       " 2,\n",
       " 2,\n",
       " 2,\n",
       " 2,\n",
       " 2,\n",
       " 2,\n",
       " 2,\n",
       " 2,\n",
       " 2,\n",
       " 2,\n",
       " 2,\n",
       " 2,\n",
       " 2,\n",
       " 2,\n",
       " 2,\n",
       " 2,\n",
       " 2,\n",
       " 2,\n",
       " 2,\n",
       " 2,\n",
       " 2,\n",
       " 2,\n",
       " 2,\n",
       " 2,\n",
       " 2,\n",
       " 2,\n",
       " 2,\n",
       " 2,\n",
       " 2,\n",
       " 2,\n",
       " 2]"
      ]
     },
     "execution_count": 176,
     "metadata": {},
     "output_type": "execute_result"
    }
   ],
   "source": [
    "y = []\n",
    "\n",
    "for i in iris:\n",
    "    y.append(i[-1])\n",
    "    \n",
    "y"
   ]
  },
  {
   "cell_type": "code",
   "execution_count": 181,
   "metadata": {},
   "outputs": [
    {
     "data": {
      "text/plain": [
       "[[2.9, 4.3], [3.0, 4.4]]"
      ]
     },
     "execution_count": 181,
     "metadata": {},
     "output_type": "execute_result"
    }
   ],
   "source": [
    "data = []\n",
    "for i in X[74:76]:\n",
    "    data.append(i[1:3])\n",
    "    \n",
    "data"
   ]
  },
  {
   "cell_type": "code",
   "execution_count": 182,
   "metadata": {},
   "outputs": [
    {
     "data": {
      "text/plain": [
       "[[2.9, 4.3], [3.0, 4.4]]"
      ]
     },
     "execution_count": 182,
     "metadata": {},
     "output_type": "execute_result"
    }
   ],
   "source": [
    "data = [i[1:3] for i in X[74:76]]\n",
    "    \n",
    "data"
   ]
  },
  {
   "cell_type": "code",
   "execution_count": 183,
   "metadata": {},
   "outputs": [],
   "source": [
    "import numpy as np"
   ]
  },
  {
   "cell_type": "code",
   "execution_count": 184,
   "metadata": {},
   "outputs": [
    {
     "data": {
      "text/plain": [
       "array([[2.9, 4.3],\n",
       "       [3. , 4.4]])"
      ]
     },
     "execution_count": 184,
     "metadata": {},
     "output_type": "execute_result"
    }
   ],
   "source": [
    "X = np.array(X)\n",
    "X[74:76, 1:3]"
   ]
  },
  {
   "cell_type": "markdown",
   "metadata": {},
   "source": [
    "### 연습문제\n",
    "- http://search.danawa.com/dsearch.php?k1=%EB%85%B8%ED%8A%B8%EB%B6%81&module=goods&act=dispMain\n",
    "```\n",
    "43.1cm(17인치) / 인텔 / 코어i7-10세대 / 아이스레이크 / i7-1065G7 / 1.3GHz(3.9GHz) / 쿼드코어 / 2560x1600(WQXGA) / 광시야각(IPS) / 슬림형 베젤 / DDR4 / 8GB / M.2(NVMe) / 256GB / Iris Plus Graphics / 802.11ax(Wi-Fi 6) / 블루투스 / HDMI / 웹캠(HD) / 썬더볼트3 : 1개 / USB 3.1 Type-C / USB 3.1 / UFS / MicroSD카드 / 숫자 키패드 / 키보드 라이트 / MIL-STD / 지문 인식 / USB-PD / 배터리 : 80Wh / 운영체제 : 미포함(프리도스) / 두께 : 17.4mm / 무게 : 1.35kg / 일반유통상품 / 용도 : 사무/인강용 , 휴대용 / 색상: 화이트\n",
    "```\n",
    "- 리스트로 데이터를 분해하시오."
   ]
  },
  {
   "cell_type": "code",
   "execution_count": 187,
   "metadata": {},
   "outputs": [],
   "source": [
    "s = '''43.1cm(17인치) / 인텔 / 코어i7-10세대 / 아이스레이크 / i7-1065G7 / 1.3GHz(3.9GHz) / 쿼드코어 / 2560x1600(WQXGA) / 광시야각(IPS) / 슬림형 베젤 / DDR4 / 8GB / M.2(NVMe) / 256GB / Iris Plus Graphics / 802.11ax(Wi-Fi 6) / 블루투스 / HDMI / 웹캠(HD) / 썬더볼트3 : 1개 / USB 3.1 Type-C / USB 3.1 / UFS / MicroSD카드 / 숫자 키패드 / 키보드 라이트 / MIL-STD / 지문 인식 / USB-PD / 배터리 : 80Wh / 운영체제 : 미포함(프리도스) / 두께 : 17.4mm / 무게 : 1.35kg / 일반유통상품 / 용도 : 사무/인강용 , 휴대용 / 색상: 화이트'''"
   ]
  },
  {
   "cell_type": "code",
   "execution_count": 188,
   "metadata": {},
   "outputs": [
    {
     "data": {
      "text/plain": [
       "'43.1cm(17인치) / 인텔 / 코어i7-10세대 / 아이스레이크 / i7-1065G7 / 1.3GHz(3.9GHz) / 쿼드코어 / 2560x1600(WQXGA) / 광시야각(IPS) / 슬림형 베젤 / DDR4 / 8GB / M.2(NVMe) / 256GB / Iris Plus Graphics / 802.11ax(Wi-Fi 6) / 블루투스 / HDMI / 웹캠(HD) / 썬더볼트3 : 1개 / USB 3.1 Type-C / USB 3.1 / UFS / MicroSD카드 / 숫자 키패드 / 키보드 라이트 / MIL-STD / 지문 인식 / USB-PD / 배터리 : 80Wh / 운영체제 : 미포함(프리도스) / 두께 : 17.4mm / 무게 : 1.35kg / 일반유통상품 / 용도 : 사무/인강용 , 휴대용 / 색상: 화이트'"
      ]
     },
     "execution_count": 188,
     "metadata": {},
     "output_type": "execute_result"
    }
   ],
   "source": [
    "s"
   ]
  },
  {
   "cell_type": "code",
   "execution_count": 190,
   "metadata": {},
   "outputs": [
    {
     "data": {
      "text/plain": [
       "36"
      ]
     },
     "execution_count": 190,
     "metadata": {},
     "output_type": "execute_result"
    }
   ],
   "source": [
    "s.strip().split(' / ')"
   ]
  },
  {
   "cell_type": "code",
   "execution_count": 191,
   "metadata": {
    "scrolled": true
   },
   "outputs": [
    {
     "data": {
      "text/plain": [
       "['43.1cm(17인치)',\n",
       " '인텔',\n",
       " '코어i7-10세대',\n",
       " '아이스레이크',\n",
       " 'i7-1065G7',\n",
       " '1.3GHz(3.9GHz)',\n",
       " '쿼드코어',\n",
       " '2560x1600(WQXGA)',\n",
       " '광시야각(IPS)',\n",
       " '슬림형 베젤',\n",
       " 'DDR4',\n",
       " '8GB',\n",
       " 'M.2(NVMe)',\n",
       " '256GB',\n",
       " 'Iris Plus Graphics',\n",
       " '802.11ax(Wi-Fi 6)',\n",
       " '블루투스',\n",
       " 'HDMI',\n",
       " '웹캠(HD)',\n",
       " '썬더볼트3 : 1개',\n",
       " 'USB 3.1 Type-C',\n",
       " 'USB 3.1',\n",
       " 'UFS',\n",
       " 'MicroSD카드',\n",
       " '숫자 키패드',\n",
       " '키보드 라이트',\n",
       " 'MIL-STD',\n",
       " '지문 인식',\n",
       " 'USB-PD',\n",
       " '배터리 : 80Wh',\n",
       " '운영체제 : 미포함(프리도스)',\n",
       " '두께 : 17.4mm',\n",
       " '무게 : 1.35kg',\n",
       " '일반유통상품',\n",
       " '용도 : 사무/인강용 , 휴대용',\n",
       " '색상: 화이트']"
      ]
     },
     "execution_count": 191,
     "metadata": {},
     "output_type": "execute_result"
    }
   ],
   "source": [
    "[i.strip() for i in s.strip().split(' / ')]"
   ]
  },
  {
   "cell_type": "markdown",
   "metadata": {},
   "source": [
    "### 연습문제\n",
    "- iris 데이터(X)에서 각 속성(열)의 평균을 구하시오\n",
    "- X 에서 첫번째 열의 값이 7 이상인 샘플을 골라내시오\n",
    "- y 값이 1인 샘플을 골라내시오\n",
    "- (도전) iris 데이터 에서 랜덤하게 샘플 10개를 뽑으시오 (중복 허용, random.randint() 함수 사용)"
   ]
  },
  {
   "cell_type": "code",
   "execution_count": 193,
   "metadata": {},
   "outputs": [
    {
     "data": {
      "text/plain": [
       "5.843333333333335"
      ]
     },
     "execution_count": 193,
     "metadata": {},
     "output_type": "execute_result"
    }
   ],
   "source": [
    "m = 0\n",
    "\n",
    "for i in X:\n",
    "    m += i[0]\n",
    "    \n",
    "m = m/150\n",
    "m"
   ]
  },
  {
   "cell_type": "code",
   "execution_count": 194,
   "metadata": {},
   "outputs": [
    {
     "data": {
      "text/plain": [
       "[5.843333333333335, 3.0540000000000007, 3.7586666666666693, 1.1986666666666672]"
      ]
     },
     "execution_count": 194,
     "metadata": {},
     "output_type": "execute_result"
    }
   ],
   "source": [
    "m = [0,0,0,0]\n",
    "\n",
    "for i in X:\n",
    "    m[0] += i[0]\n",
    "    m[1] += i[1]\n",
    "    m[2] += i[2]\n",
    "    m[3] += i[3]\n",
    "    \n",
    "m = [i/150 for i in m]\n",
    "m"
   ]
  },
  {
   "cell_type": "code",
   "execution_count": 195,
   "metadata": {},
   "outputs": [
    {
     "data": {
      "text/plain": [
       "[5.843333333333335, 3.0540000000000007, 3.7586666666666693, 1.1986666666666672]"
      ]
     },
     "execution_count": 195,
     "metadata": {},
     "output_type": "execute_result"
    }
   ],
   "source": [
    "m = [0,0,0,0]\n",
    "\n",
    "for i in X:\n",
    "    for j in range(4):\n",
    "        m[j] += i[j]\n",
    "    \n",
    "m = [i/150 for i in m]\n",
    "m"
   ]
  },
  {
   "cell_type": "code",
   "execution_count": 198,
   "metadata": {},
   "outputs": [
    {
     "data": {
      "text/plain": [
       "[[7.0, 3.2, 4.7, 1.4, 1],\n",
       " [7.1, 3.0, 5.9, 2.1, 2],\n",
       " [7.6, 3.0, 6.6, 2.1, 2],\n",
       " [7.3, 2.9, 6.3, 1.8, 2],\n",
       " [7.2, 3.6, 6.1, 2.5, 2],\n",
       " [7.7, 3.8, 6.7, 2.2, 2],\n",
       " [7.7, 2.6, 6.9, 2.3, 2],\n",
       " [7.7, 2.8, 6.7, 2.0, 2],\n",
       " [7.2, 3.2, 6.0, 1.8, 2],\n",
       " [7.2, 3.0, 5.8, 1.6, 2],\n",
       " [7.4, 2.8, 6.1, 1.9, 2],\n",
       " [7.9, 3.8, 6.4, 2.0, 2],\n",
       " [7.7, 3.0, 6.1, 2.3, 2]]"
      ]
     },
     "execution_count": 198,
     "metadata": {},
     "output_type": "execute_result"
    }
   ],
   "source": [
    "result = []\n",
    "\n",
    "for i in iris:\n",
    "    if i[0]>=7: result.append(i)\n",
    "        \n",
    "result"
   ]
  },
  {
   "cell_type": "code",
   "execution_count": 199,
   "metadata": {},
   "outputs": [
    {
     "data": {
      "text/plain": [
       "[[7.0, 3.2, 4.7, 1.4, 1],\n",
       " [7.1, 3.0, 5.9, 2.1, 2],\n",
       " [7.6, 3.0, 6.6, 2.1, 2],\n",
       " [7.3, 2.9, 6.3, 1.8, 2],\n",
       " [7.2, 3.6, 6.1, 2.5, 2],\n",
       " [7.7, 3.8, 6.7, 2.2, 2],\n",
       " [7.7, 2.6, 6.9, 2.3, 2],\n",
       " [7.7, 2.8, 6.7, 2.0, 2],\n",
       " [7.2, 3.2, 6.0, 1.8, 2],\n",
       " [7.2, 3.0, 5.8, 1.6, 2],\n",
       " [7.4, 2.8, 6.1, 1.9, 2],\n",
       " [7.9, 3.8, 6.4, 2.0, 2],\n",
       " [7.7, 3.0, 6.1, 2.3, 2]]"
      ]
     },
     "execution_count": 199,
     "metadata": {},
     "output_type": "execute_result"
    }
   ],
   "source": [
    "[i for i in iris if i[0]>=7]"
   ]
  },
  {
   "cell_type": "code",
   "execution_count": 200,
   "metadata": {},
   "outputs": [
    {
     "data": {
      "text/plain": [
       "array([[5.1, 3.5, 1.4, 0.2],\n",
       "       [4.9, 3. , 1.4, 0.2],\n",
       "       [4.7, 3.2, 1.3, 0.2],\n",
       "       [4.6, 3.1, 1.5, 0.2],\n",
       "       [5. , 3.6, 1.4, 0.2],\n",
       "       [5.4, 3.9, 1.7, 0.4],\n",
       "       [4.6, 3.4, 1.4, 0.3],\n",
       "       [5. , 3.4, 1.5, 0.2],\n",
       "       [4.4, 2.9, 1.4, 0.2],\n",
       "       [4.9, 3.1, 1.5, 0.1],\n",
       "       [5.4, 3.7, 1.5, 0.2],\n",
       "       [4.8, 3.4, 1.6, 0.2],\n",
       "       [4.8, 3. , 1.4, 0.1],\n",
       "       [4.3, 3. , 1.1, 0.1],\n",
       "       [5.8, 4. , 1.2, 0.2],\n",
       "       [5.7, 4.4, 1.5, 0.4],\n",
       "       [5.4, 3.9, 1.3, 0.4],\n",
       "       [5.1, 3.5, 1.4, 0.3],\n",
       "       [5.7, 3.8, 1.7, 0.3],\n",
       "       [5.1, 3.8, 1.5, 0.3],\n",
       "       [5.4, 3.4, 1.7, 0.2],\n",
       "       [5.1, 3.7, 1.5, 0.4],\n",
       "       [4.6, 3.6, 1. , 0.2],\n",
       "       [5.1, 3.3, 1.7, 0.5],\n",
       "       [4.8, 3.4, 1.9, 0.2],\n",
       "       [5. , 3. , 1.6, 0.2],\n",
       "       [5. , 3.4, 1.6, 0.4],\n",
       "       [5.2, 3.5, 1.5, 0.2],\n",
       "       [5.2, 3.4, 1.4, 0.2],\n",
       "       [4.7, 3.2, 1.6, 0.2],\n",
       "       [4.8, 3.1, 1.6, 0.2],\n",
       "       [5.4, 3.4, 1.5, 0.4],\n",
       "       [5.2, 4.1, 1.5, 0.1],\n",
       "       [5.5, 4.2, 1.4, 0.2],\n",
       "       [4.9, 3.1, 1.5, 0.1],\n",
       "       [5. , 3.2, 1.2, 0.2],\n",
       "       [5.5, 3.5, 1.3, 0.2],\n",
       "       [4.9, 3.1, 1.5, 0.1],\n",
       "       [4.4, 3. , 1.3, 0.2],\n",
       "       [5.1, 3.4, 1.5, 0.2],\n",
       "       [5. , 3.5, 1.3, 0.3],\n",
       "       [4.5, 2.3, 1.3, 0.3],\n",
       "       [4.4, 3.2, 1.3, 0.2],\n",
       "       [5. , 3.5, 1.6, 0.6],\n",
       "       [5.1, 3.8, 1.9, 0.4],\n",
       "       [4.8, 3. , 1.4, 0.3],\n",
       "       [5.1, 3.8, 1.6, 0.2],\n",
       "       [4.6, 3.2, 1.4, 0.2],\n",
       "       [5.3, 3.7, 1.5, 0.2],\n",
       "       [5. , 3.3, 1.4, 0.2],\n",
       "       [7. , 3.2, 4.7, 1.4],\n",
       "       [6.4, 3.2, 4.5, 1.5],\n",
       "       [6.9, 3.1, 4.9, 1.5],\n",
       "       [5.5, 2.3, 4. , 1.3],\n",
       "       [6.5, 2.8, 4.6, 1.5],\n",
       "       [5.7, 2.8, 4.5, 1.3],\n",
       "       [6.3, 3.3, 4.7, 1.6],\n",
       "       [4.9, 2.4, 3.3, 1. ],\n",
       "       [6.6, 2.9, 4.6, 1.3],\n",
       "       [5.2, 2.7, 3.9, 1.4],\n",
       "       [5. , 2. , 3.5, 1. ],\n",
       "       [5.9, 3. , 4.2, 1.5],\n",
       "       [6. , 2.2, 4. , 1. ],\n",
       "       [6.1, 2.9, 4.7, 1.4],\n",
       "       [5.6, 2.9, 3.6, 1.3],\n",
       "       [6.7, 3.1, 4.4, 1.4],\n",
       "       [5.6, 3. , 4.5, 1.5],\n",
       "       [5.8, 2.7, 4.1, 1. ],\n",
       "       [6.2, 2.2, 4.5, 1.5],\n",
       "       [5.6, 2.5, 3.9, 1.1],\n",
       "       [5.9, 3.2, 4.8, 1.8],\n",
       "       [6.1, 2.8, 4. , 1.3],\n",
       "       [6.3, 2.5, 4.9, 1.5],\n",
       "       [6.1, 2.8, 4.7, 1.2],\n",
       "       [6.4, 2.9, 4.3, 1.3],\n",
       "       [6.6, 3. , 4.4, 1.4],\n",
       "       [6.8, 2.8, 4.8, 1.4],\n",
       "       [6.7, 3. , 5. , 1.7],\n",
       "       [6. , 2.9, 4.5, 1.5],\n",
       "       [5.7, 2.6, 3.5, 1. ],\n",
       "       [5.5, 2.4, 3.8, 1.1],\n",
       "       [5.5, 2.4, 3.7, 1. ],\n",
       "       [5.8, 2.7, 3.9, 1.2],\n",
       "       [6. , 2.7, 5.1, 1.6],\n",
       "       [5.4, 3. , 4.5, 1.5],\n",
       "       [6. , 3.4, 4.5, 1.6],\n",
       "       [6.7, 3.1, 4.7, 1.5],\n",
       "       [6.3, 2.3, 4.4, 1.3],\n",
       "       [5.6, 3. , 4.1, 1.3],\n",
       "       [5.5, 2.5, 4. , 1.3],\n",
       "       [5.5, 2.6, 4.4, 1.2],\n",
       "       [6.1, 3. , 4.6, 1.4],\n",
       "       [5.8, 2.6, 4. , 1.2],\n",
       "       [5. , 2.3, 3.3, 1. ],\n",
       "       [5.6, 2.7, 4.2, 1.3],\n",
       "       [5.7, 3. , 4.2, 1.2],\n",
       "       [5.7, 2.9, 4.2, 1.3],\n",
       "       [6.2, 2.9, 4.3, 1.3],\n",
       "       [5.1, 2.5, 3. , 1.1],\n",
       "       [5.7, 2.8, 4.1, 1.3],\n",
       "       [6.3, 3.3, 6. , 2.5],\n",
       "       [5.8, 2.7, 5.1, 1.9],\n",
       "       [7.1, 3. , 5.9, 2.1],\n",
       "       [6.3, 2.9, 5.6, 1.8],\n",
       "       [6.5, 3. , 5.8, 2.2],\n",
       "       [7.6, 3. , 6.6, 2.1],\n",
       "       [4.9, 2.5, 4.5, 1.7],\n",
       "       [7.3, 2.9, 6.3, 1.8],\n",
       "       [6.7, 2.5, 5.8, 1.8],\n",
       "       [7.2, 3.6, 6.1, 2.5],\n",
       "       [6.5, 3.2, 5.1, 2. ],\n",
       "       [6.4, 2.7, 5.3, 1.9],\n",
       "       [6.8, 3. , 5.5, 2.1],\n",
       "       [5.7, 2.5, 5. , 2. ],\n",
       "       [5.8, 2.8, 5.1, 2.4],\n",
       "       [6.4, 3.2, 5.3, 2.3],\n",
       "       [6.5, 3. , 5.5, 1.8],\n",
       "       [7.7, 3.8, 6.7, 2.2],\n",
       "       [7.7, 2.6, 6.9, 2.3],\n",
       "       [6. , 2.2, 5. , 1.5],\n",
       "       [6.9, 3.2, 5.7, 2.3],\n",
       "       [5.6, 2.8, 4.9, 2. ],\n",
       "       [7.7, 2.8, 6.7, 2. ],\n",
       "       [6.3, 2.7, 4.9, 1.8],\n",
       "       [6.7, 3.3, 5.7, 2.1],\n",
       "       [7.2, 3.2, 6. , 1.8],\n",
       "       [6.2, 2.8, 4.8, 1.8],\n",
       "       [6.1, 3. , 4.9, 1.8],\n",
       "       [6.4, 2.8, 5.6, 2.1],\n",
       "       [7.2, 3. , 5.8, 1.6],\n",
       "       [7.4, 2.8, 6.1, 1.9],\n",
       "       [7.9, 3.8, 6.4, 2. ],\n",
       "       [6.4, 2.8, 5.6, 2.2],\n",
       "       [6.3, 2.8, 5.1, 1.5],\n",
       "       [6.1, 2.6, 5.6, 1.4],\n",
       "       [7.7, 3. , 6.1, 2.3],\n",
       "       [6.3, 3.4, 5.6, 2.4],\n",
       "       [6.4, 3.1, 5.5, 1.8],\n",
       "       [6. , 3. , 4.8, 1.8],\n",
       "       [6.9, 3.1, 5.4, 2.1],\n",
       "       [6.7, 3.1, 5.6, 2.4],\n",
       "       [6.9, 3.1, 5.1, 2.3],\n",
       "       [5.8, 2.7, 5.1, 1.9],\n",
       "       [6.8, 3.2, 5.9, 2.3],\n",
       "       [6.7, 3.3, 5.7, 2.5],\n",
       "       [6.7, 3. , 5.2, 2.3],\n",
       "       [6.3, 2.5, 5. , 1.9],\n",
       "       [6.5, 3. , 5.2, 2. ],\n",
       "       [6.2, 3.4, 5.4, 2.3],\n",
       "       [5.9, 3. , 5.1, 1.8]])"
      ]
     },
     "execution_count": 200,
     "metadata": {},
     "output_type": "execute_result"
    }
   ],
   "source": [
    "X"
   ]
  },
  {
   "cell_type": "code",
   "execution_count": 201,
   "metadata": {},
   "outputs": [
    {
     "data": {
      "text/plain": [
       "[0,\n",
       " 0,\n",
       " 0,\n",
       " 0,\n",
       " 0,\n",
       " 0,\n",
       " 0,\n",
       " 0,\n",
       " 0,\n",
       " 0,\n",
       " 0,\n",
       " 0,\n",
       " 0,\n",
       " 0,\n",
       " 0,\n",
       " 0,\n",
       " 0,\n",
       " 0,\n",
       " 0,\n",
       " 0,\n",
       " 0,\n",
       " 0,\n",
       " 0,\n",
       " 0,\n",
       " 0,\n",
       " 0,\n",
       " 0,\n",
       " 0,\n",
       " 0,\n",
       " 0,\n",
       " 0,\n",
       " 0,\n",
       " 0,\n",
       " 0,\n",
       " 0,\n",
       " 0,\n",
       " 0,\n",
       " 0,\n",
       " 0,\n",
       " 0,\n",
       " 0,\n",
       " 0,\n",
       " 0,\n",
       " 0,\n",
       " 0,\n",
       " 0,\n",
       " 0,\n",
       " 0,\n",
       " 0,\n",
       " 0,\n",
       " 1,\n",
       " 1,\n",
       " 1,\n",
       " 1,\n",
       " 1,\n",
       " 1,\n",
       " 1,\n",
       " 1,\n",
       " 1,\n",
       " 1,\n",
       " 1,\n",
       " 1,\n",
       " 1,\n",
       " 1,\n",
       " 1,\n",
       " 1,\n",
       " 1,\n",
       " 1,\n",
       " 1,\n",
       " 1,\n",
       " 1,\n",
       " 1,\n",
       " 1,\n",
       " 1,\n",
       " 1,\n",
       " 1,\n",
       " 1,\n",
       " 1,\n",
       " 1,\n",
       " 1,\n",
       " 1,\n",
       " 1,\n",
       " 1,\n",
       " 1,\n",
       " 1,\n",
       " 1,\n",
       " 1,\n",
       " 1,\n",
       " 1,\n",
       " 1,\n",
       " 1,\n",
       " 1,\n",
       " 1,\n",
       " 1,\n",
       " 1,\n",
       " 1,\n",
       " 1,\n",
       " 1,\n",
       " 1,\n",
       " 1,\n",
       " 2,\n",
       " 2,\n",
       " 2,\n",
       " 2,\n",
       " 2,\n",
       " 2,\n",
       " 2,\n",
       " 2,\n",
       " 2,\n",
       " 2,\n",
       " 2,\n",
       " 2,\n",
       " 2,\n",
       " 2,\n",
       " 2,\n",
       " 2,\n",
       " 2,\n",
       " 2,\n",
       " 2,\n",
       " 2,\n",
       " 2,\n",
       " 2,\n",
       " 2,\n",
       " 2,\n",
       " 2,\n",
       " 2,\n",
       " 2,\n",
       " 2,\n",
       " 2,\n",
       " 2,\n",
       " 2,\n",
       " 2,\n",
       " 2,\n",
       " 2,\n",
       " 2,\n",
       " 2,\n",
       " 2,\n",
       " 2,\n",
       " 2,\n",
       " 2,\n",
       " 2,\n",
       " 2,\n",
       " 2,\n",
       " 2,\n",
       " 2,\n",
       " 2,\n",
       " 2,\n",
       " 2,\n",
       " 2,\n",
       " 2]"
      ]
     },
     "execution_count": 201,
     "metadata": {},
     "output_type": "execute_result"
    }
   ],
   "source": [
    "y"
   ]
  },
  {
   "cell_type": "code",
   "execution_count": 202,
   "metadata": {},
   "outputs": [
    {
     "name": "stdout",
     "output_type": "stream",
     "text": [
      "[7.  3.2 4.7 1.4]\n",
      "[6.4 3.2 4.5 1.5]\n",
      "[6.9 3.1 4.9 1.5]\n",
      "[5.5 2.3 4.  1.3]\n",
      "[6.5 2.8 4.6 1.5]\n",
      "[5.7 2.8 4.5 1.3]\n",
      "[6.3 3.3 4.7 1.6]\n",
      "[4.9 2.4 3.3 1. ]\n",
      "[6.6 2.9 4.6 1.3]\n",
      "[5.2 2.7 3.9 1.4]\n",
      "[5.  2.  3.5 1. ]\n",
      "[5.9 3.  4.2 1.5]\n",
      "[6.  2.2 4.  1. ]\n",
      "[6.1 2.9 4.7 1.4]\n",
      "[5.6 2.9 3.6 1.3]\n",
      "[6.7 3.1 4.4 1.4]\n",
      "[5.6 3.  4.5 1.5]\n",
      "[5.8 2.7 4.1 1. ]\n",
      "[6.2 2.2 4.5 1.5]\n",
      "[5.6 2.5 3.9 1.1]\n",
      "[5.9 3.2 4.8 1.8]\n",
      "[6.1 2.8 4.  1.3]\n",
      "[6.3 2.5 4.9 1.5]\n",
      "[6.1 2.8 4.7 1.2]\n",
      "[6.4 2.9 4.3 1.3]\n",
      "[6.6 3.  4.4 1.4]\n",
      "[6.8 2.8 4.8 1.4]\n",
      "[6.7 3.  5.  1.7]\n",
      "[6.  2.9 4.5 1.5]\n",
      "[5.7 2.6 3.5 1. ]\n",
      "[5.5 2.4 3.8 1.1]\n",
      "[5.5 2.4 3.7 1. ]\n",
      "[5.8 2.7 3.9 1.2]\n",
      "[6.  2.7 5.1 1.6]\n",
      "[5.4 3.  4.5 1.5]\n",
      "[6.  3.4 4.5 1.6]\n",
      "[6.7 3.1 4.7 1.5]\n",
      "[6.3 2.3 4.4 1.3]\n",
      "[5.6 3.  4.1 1.3]\n",
      "[5.5 2.5 4.  1.3]\n",
      "[5.5 2.6 4.4 1.2]\n",
      "[6.1 3.  4.6 1.4]\n",
      "[5.8 2.6 4.  1.2]\n",
      "[5.  2.3 3.3 1. ]\n",
      "[5.6 2.7 4.2 1.3]\n",
      "[5.7 3.  4.2 1.2]\n",
      "[5.7 2.9 4.2 1.3]\n",
      "[6.2 2.9 4.3 1.3]\n",
      "[5.1 2.5 3.  1.1]\n",
      "[5.7 2.8 4.1 1.3]\n"
     ]
    }
   ],
   "source": [
    "for i in range(150):\n",
    "    if y[i]==1: print(X[i])"
   ]
  },
  {
   "cell_type": "code",
   "execution_count": null,
   "metadata": {},
   "outputs": [],
   "source": []
  }
 ],
 "metadata": {
  "kernelspec": {
   "display_name": "Python 3",
   "language": "python",
   "name": "python3"
  },
  "language_info": {
   "codemirror_mode": {
    "name": "ipython",
    "version": 3
   },
   "file_extension": ".py",
   "mimetype": "text/x-python",
   "name": "python",
   "nbconvert_exporter": "python",
   "pygments_lexer": "ipython3",
   "version": "3.6.4"
  }
 },
 "nbformat": 4,
 "nbformat_minor": 2
}
