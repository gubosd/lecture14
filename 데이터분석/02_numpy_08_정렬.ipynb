{
 "cells": [
  {
   "cell_type": "markdown",
   "metadata": {},
   "source": [
    "## 파이썬 데이터분석\n",
    "# Numpy 정렬"
   ]
  },
  {
   "cell_type": "markdown",
   "metadata": {},
   "source": [
    "- 데이터를 섞기 <---> 데이터를 정렬하기\n",
    "- np.sort() : 정렬 함수\n",
    "- np.argsort(), np.lexsort() : 결과로 정렬한 데이터의 위치값들을 넘긴다\n",
    "- np.argmin(), np.argmax() : 최소 최대값의 위치값을 넘긴다\n",
    "- np.where() : 조건에 맞는 데이터의 위치 정보를 넘긴다. 또는 조건에 맞게 데이터를 수정한다."
   ]
  },
  {
   "cell_type": "code",
   "execution_count": 1,
   "metadata": {},
   "outputs": [],
   "source": [
    "import numpy as np\n",
    "import matplotlib.pyplot as plt"
   ]
  },
  {
   "cell_type": "markdown",
   "metadata": {},
   "source": [
    "### 정렬 기초"
   ]
  },
  {
   "cell_type": "code",
   "execution_count": 2,
   "metadata": {},
   "outputs": [],
   "source": [
    "l = [3,4,2,1,5]"
   ]
  },
  {
   "cell_type": "code",
   "execution_count": 3,
   "metadata": {},
   "outputs": [],
   "source": [
    "l.sort()"
   ]
  },
  {
   "cell_type": "code",
   "execution_count": 4,
   "metadata": {},
   "outputs": [
    {
     "data": {
      "text/plain": [
       "[1, 2, 3, 4, 5]"
      ]
     },
     "execution_count": 4,
     "metadata": {},
     "output_type": "execute_result"
    }
   ],
   "source": [
    "l"
   ]
  },
  {
   "cell_type": "code",
   "execution_count": 5,
   "metadata": {},
   "outputs": [
    {
     "name": "stdout",
     "output_type": "stream",
     "text": [
      "Help on built-in function sort:\n",
      "\n",
      "sort(...) method of builtins.list instance\n",
      "    L.sort(key=None, reverse=False) -> None -- stable sort *IN PLACE*\n",
      "\n"
     ]
    }
   ],
   "source": [
    "help(l.sort)"
   ]
  },
  {
   "cell_type": "code",
   "execution_count": null,
   "metadata": {},
   "outputs": [],
   "source": []
  },
  {
   "cell_type": "code",
   "execution_count": 6,
   "metadata": {},
   "outputs": [],
   "source": [
    "l = [3,4,2,1,5]"
   ]
  },
  {
   "cell_type": "code",
   "execution_count": 7,
   "metadata": {},
   "outputs": [
    {
     "data": {
      "text/plain": [
       "[1, 2, 3, 4, 5]"
      ]
     },
     "execution_count": 7,
     "metadata": {},
     "output_type": "execute_result"
    }
   ],
   "source": [
    "sorted(l)"
   ]
  },
  {
   "cell_type": "code",
   "execution_count": 8,
   "metadata": {},
   "outputs": [
    {
     "data": {
      "text/plain": [
       "[3, 4, 2, 1, 5]"
      ]
     },
     "execution_count": 8,
     "metadata": {},
     "output_type": "execute_result"
    }
   ],
   "source": [
    "l"
   ]
  },
  {
   "cell_type": "code",
   "execution_count": 10,
   "metadata": {},
   "outputs": [
    {
     "data": {
      "text/plain": [
       "[3, 4, 2, 5, 1]"
      ]
     },
     "execution_count": 10,
     "metadata": {},
     "output_type": "execute_result"
    }
   ],
   "source": [
    "sorted(l, key=lambda x: abs(3.1-x))"
   ]
  },
  {
   "cell_type": "code",
   "execution_count": null,
   "metadata": {},
   "outputs": [],
   "source": []
  },
  {
   "cell_type": "code",
   "execution_count": 13,
   "metadata": {},
   "outputs": [],
   "source": [
    "l = list(range(15))"
   ]
  },
  {
   "cell_type": "code",
   "execution_count": 11,
   "metadata": {},
   "outputs": [
    {
     "data": {
      "text/plain": [
       "(-0.9999902065507035, -0.9589242746631385, 0.9906073556948704)"
      ]
     },
     "execution_count": 11,
     "metadata": {},
     "output_type": "execute_result"
    }
   ],
   "source": [
    "np.sin(11), np.sin(5), np.sin(14)"
   ]
  },
  {
   "cell_type": "code",
   "execution_count": 14,
   "metadata": {},
   "outputs": [
    {
     "data": {
      "text/plain": [
       "[11, 5, 4, 10, 12, 6, 0, 3, 9, 13, 7, 1, 2, 8, 14]"
      ]
     },
     "execution_count": 14,
     "metadata": {},
     "output_type": "execute_result"
    }
   ],
   "source": [
    "sorted(l, key=np.sin) # sorted(l, key=lambda x: np.sin(x))"
   ]
  },
  {
   "cell_type": "code",
   "execution_count": 15,
   "metadata": {},
   "outputs": [
    {
     "data": {
      "text/plain": [
       "[11, 5, 4, 10, 12, 6, 0, 3, 9, 13, 7, 1, 2, 8, 14]"
      ]
     },
     "execution_count": 15,
     "metadata": {},
     "output_type": "execute_result"
    }
   ],
   "source": [
    "import math\n",
    "sorted(l, key=math.sin)"
   ]
  },
  {
   "cell_type": "code",
   "execution_count": null,
   "metadata": {},
   "outputs": [],
   "source": []
  },
  {
   "cell_type": "code",
   "execution_count": 13,
   "metadata": {},
   "outputs": [],
   "source": [
    "l = [[3,1,2],[2,3,7],[4,5,6]]"
   ]
  },
  {
   "cell_type": "code",
   "execution_count": 14,
   "metadata": {},
   "outputs": [
    {
     "data": {
      "text/plain": [
       "[[2, 3, 7], [3, 1, 2], [4, 5, 6]]"
      ]
     },
     "execution_count": 14,
     "metadata": {},
     "output_type": "execute_result"
    }
   ],
   "source": [
    "sorted(l, key=lambda x: x[0])"
   ]
  },
  {
   "cell_type": "code",
   "execution_count": null,
   "metadata": {},
   "outputs": [],
   "source": []
  },
  {
   "cell_type": "markdown",
   "metadata": {},
   "source": [
    "### sort() 함수\n",
    "- 기본은 옆으로 정렬한다"
   ]
  },
  {
   "cell_type": "code",
   "execution_count": 2,
   "metadata": {},
   "outputs": [
    {
     "data": {
      "text/plain": [
       "array([9, 7, 8, 0, 1, 6, 0, 1, 5, 9])"
      ]
     },
     "execution_count": 2,
     "metadata": {},
     "output_type": "execute_result"
    }
   ],
   "source": [
    "a = np.random.randint(10,size=10)\n",
    "a"
   ]
  },
  {
   "cell_type": "code",
   "execution_count": 3,
   "metadata": {},
   "outputs": [],
   "source": [
    "a.sort() # a 가 수정된다"
   ]
  },
  {
   "cell_type": "code",
   "execution_count": 4,
   "metadata": {},
   "outputs": [
    {
     "data": {
      "text/plain": [
       "array([0, 0, 1, 1, 5, 6, 7, 8, 9, 9])"
      ]
     },
     "execution_count": 4,
     "metadata": {},
     "output_type": "execute_result"
    }
   ],
   "source": [
    "a"
   ]
  },
  {
   "cell_type": "code",
   "execution_count": 20,
   "metadata": {},
   "outputs": [
    {
     "data": {
      "text/plain": [
       "array([9, 7, 7, 6, 5, 4, 4, 3, 3, 1])"
      ]
     },
     "execution_count": 20,
     "metadata": {},
     "output_type": "execute_result"
    }
   ],
   "source": [
    "a[::-1] # 내림차순"
   ]
  },
  {
   "cell_type": "code",
   "execution_count": null,
   "metadata": {},
   "outputs": [],
   "source": []
  },
  {
   "cell_type": "code",
   "execution_count": 7,
   "metadata": {},
   "outputs": [
    {
     "data": {
      "text/plain": [
       "array([6, 3, 9, 1, 1, 7, 3, 5, 5, 9])"
      ]
     },
     "execution_count": 7,
     "metadata": {},
     "output_type": "execute_result"
    }
   ],
   "source": [
    "a = np.random.randint(10,size=10)\n",
    "a"
   ]
  },
  {
   "cell_type": "code",
   "execution_count": 8,
   "metadata": {},
   "outputs": [
    {
     "data": {
      "text/plain": [
       "array([1, 1, 3, 3, 5, 5, 6, 7, 9, 9])"
      ]
     },
     "execution_count": 8,
     "metadata": {},
     "output_type": "execute_result"
    }
   ],
   "source": [
    "a2 = np.sort(a) # a 는 변하지 않는다\n",
    "a2"
   ]
  },
  {
   "cell_type": "code",
   "execution_count": 9,
   "metadata": {},
   "outputs": [
    {
     "data": {
      "text/plain": [
       "array([6, 3, 9, 1, 1, 7, 3, 5, 5, 9])"
      ]
     },
     "execution_count": 9,
     "metadata": {},
     "output_type": "execute_result"
    }
   ],
   "source": [
    "a"
   ]
  },
  {
   "cell_type": "code",
   "execution_count": 10,
   "metadata": {},
   "outputs": [
    {
     "name": "stdout",
     "output_type": "stream",
     "text": [
      "Help on function sort in module numpy.core.fromnumeric:\n",
      "\n",
      "sort(a, axis=-1, kind='quicksort', order=None)\n",
      "    Return a sorted copy of an array.\n",
      "    \n",
      "    Parameters\n",
      "    ----------\n",
      "    a : array_like\n",
      "        Array to be sorted.\n",
      "    axis : int or None, optional\n",
      "        Axis along which to sort. If None, the array is flattened before\n",
      "        sorting. The default is -1, which sorts along the last axis.\n",
      "    kind : {'quicksort', 'mergesort', 'heapsort'}, optional\n",
      "        Sorting algorithm. Default is 'quicksort'.\n",
      "    order : str or list of str, optional\n",
      "        When `a` is an array with fields defined, this argument specifies\n",
      "        which fields to compare first, second, etc.  A single field can\n",
      "        be specified as a string, and not all fields need be specified,\n",
      "        but unspecified fields will still be used, in the order in which\n",
      "        they come up in the dtype, to break ties.\n",
      "    \n",
      "    Returns\n",
      "    -------\n",
      "    sorted_array : ndarray\n",
      "        Array of the same type and shape as `a`.\n",
      "    \n",
      "    See Also\n",
      "    --------\n",
      "    ndarray.sort : Method to sort an array in-place.\n",
      "    argsort : Indirect sort.\n",
      "    lexsort : Indirect stable sort on multiple keys.\n",
      "    searchsorted : Find elements in a sorted array.\n",
      "    partition : Partial sort.\n",
      "    \n",
      "    Notes\n",
      "    -----\n",
      "    The various sorting algorithms are characterized by their average speed,\n",
      "    worst case performance, work space size, and whether they are stable. A\n",
      "    stable sort keeps items with the same key in the same relative\n",
      "    order. The three available algorithms have the following\n",
      "    properties:\n",
      "    \n",
      "    =========== ======= ============= ============ =======\n",
      "       kind      speed   worst case    work space  stable\n",
      "    =========== ======= ============= ============ =======\n",
      "    'quicksort'    1     O(n^2)            0          no\n",
      "    'mergesort'    2     O(n*log(n))      ~n/2        yes\n",
      "    'heapsort'     3     O(n*log(n))       0          no\n",
      "    =========== ======= ============= ============ =======\n",
      "    \n",
      "    All the sort algorithms make temporary copies of the data when\n",
      "    sorting along any but the last axis.  Consequently, sorting along\n",
      "    the last axis is faster and uses less space than sorting along\n",
      "    any other axis.\n",
      "    \n",
      "    The sort order for complex numbers is lexicographic. If both the real\n",
      "    and imaginary parts are non-nan then the order is determined by the\n",
      "    real parts except when they are equal, in which case the order is\n",
      "    determined by the imaginary parts.\n",
      "    \n",
      "    Previous to numpy 1.4.0 sorting real and complex arrays containing nan\n",
      "    values led to undefined behaviour. In numpy versions >= 1.4.0 nan\n",
      "    values are sorted to the end. The extended sort order is:\n",
      "    \n",
      "      * Real: [R, nan]\n",
      "      * Complex: [R + Rj, R + nanj, nan + Rj, nan + nanj]\n",
      "    \n",
      "    where R is a non-nan real value. Complex values with the same nan\n",
      "    placements are sorted according to the non-nan part if it exists.\n",
      "    Non-nan values are sorted as before.\n",
      "    \n",
      "    .. versionadded:: 1.12.0\n",
      "    \n",
      "    quicksort has been changed to an introsort which will switch\n",
      "    heapsort when it does not make enough progress. This makes its\n",
      "    worst case O(n*log(n)).\n",
      "    \n",
      "    Examples\n",
      "    --------\n",
      "    >>> a = np.array([[1,4],[3,1]])\n",
      "    >>> np.sort(a)                # sort along the last axis\n",
      "    array([[1, 4],\n",
      "           [1, 3]])\n",
      "    >>> np.sort(a, axis=None)     # sort the flattened array\n",
      "    array([1, 1, 3, 4])\n",
      "    >>> np.sort(a, axis=0)        # sort along the first axis\n",
      "    array([[1, 1],\n",
      "           [3, 4]])\n",
      "    \n",
      "    Use the `order` keyword to specify a field to use when sorting a\n",
      "    structured array:\n",
      "    \n",
      "    >>> dtype = [('name', 'S10'), ('height', float), ('age', int)]\n",
      "    >>> values = [('Arthur', 1.8, 41), ('Lancelot', 1.9, 38),\n",
      "    ...           ('Galahad', 1.7, 38)]\n",
      "    >>> a = np.array(values, dtype=dtype)       # create a structured array\n",
      "    >>> np.sort(a, order='height')                        # doctest: +SKIP\n",
      "    array([('Galahad', 1.7, 38), ('Arthur', 1.8, 41),\n",
      "           ('Lancelot', 1.8999999999999999, 38)],\n",
      "          dtype=[('name', '|S10'), ('height', '<f8'), ('age', '<i4')])\n",
      "    \n",
      "    Sort by age, then height if ages are equal:\n",
      "    \n",
      "    >>> np.sort(a, order=['age', 'height'])               # doctest: +SKIP\n",
      "    array([('Galahad', 1.7, 38), ('Lancelot', 1.8999999999999999, 38),\n",
      "           ('Arthur', 1.8, 41)],\n",
      "          dtype=[('name', '|S10'), ('height', '<f8'), ('age', '<i4')])\n",
      "\n"
     ]
    }
   ],
   "source": [
    "help(np.sort)"
   ]
  },
  {
   "cell_type": "code",
   "execution_count": 11,
   "metadata": {},
   "outputs": [
    {
     "data": {
      "text/plain": [
       "array([9, 9, 7, 6, 5, 5, 3, 3, 1, 1])"
      ]
     },
     "execution_count": 11,
     "metadata": {},
     "output_type": "execute_result"
    }
   ],
   "source": [
    "np.sort(a)[::-1] # 역순 정렬"
   ]
  },
  {
   "cell_type": "code",
   "execution_count": null,
   "metadata": {},
   "outputs": [],
   "source": []
  },
  {
   "cell_type": "code",
   "execution_count": 12,
   "metadata": {},
   "outputs": [
    {
     "data": {
      "text/plain": [
       "array([[ 9, 18, 13,  6,  1],\n",
       "       [18, 12, 12,  8, 24],\n",
       "       [21,  7, 16,  8,  4],\n",
       "       [11,  5, 20, 12,  8],\n",
       "       [23, 15,  4,  0, 13]])"
      ]
     },
     "execution_count": 12,
     "metadata": {},
     "output_type": "execute_result"
    }
   ],
   "source": [
    "a = np.random.randint(25, size=[5,5])\n",
    "a"
   ]
  },
  {
   "cell_type": "code",
   "execution_count": 13,
   "metadata": {},
   "outputs": [
    {
     "data": {
      "text/plain": [
       "array([[ 1,  6,  9, 13, 18],\n",
       "       [ 8, 12, 12, 18, 24],\n",
       "       [ 4,  7,  8, 16, 21],\n",
       "       [ 5,  8, 11, 12, 20],\n",
       "       [ 0,  4, 13, 15, 23]])"
      ]
     },
     "execution_count": 13,
     "metadata": {},
     "output_type": "execute_result"
    }
   ],
   "source": [
    "np.sort(a) # axis=1 (마지막 차원)"
   ]
  },
  {
   "cell_type": "code",
   "execution_count": 21,
   "metadata": {},
   "outputs": [
    {
     "data": {
      "text/plain": [
       "array([[ 7,  7,  1,  1,  3],\n",
       "       [ 7, 10,  3,  3, 14],\n",
       "       [12, 11,  6,  6, 18],\n",
       "       [17, 13,  7, 14, 22],\n",
       "       [20, 21, 17, 16, 24]])"
      ]
     },
     "execution_count": 21,
     "metadata": {},
     "output_type": "execute_result"
    }
   ],
   "source": [
    "np.sort(a, axis=0)"
   ]
  },
  {
   "cell_type": "code",
   "execution_count": null,
   "metadata": {},
   "outputs": [],
   "source": []
  },
  {
   "cell_type": "code",
   "execution_count": 30,
   "metadata": {},
   "outputs": [
    {
     "data": {
      "text/plain": [
       "array([[ 5,  8,  8, 19, 23],\n",
       "       [ 5,  8, 10, 16, 21],\n",
       "       [ 8, 11, 12, 15, 23],\n",
       "       [ 4,  8, 13, 14, 15],\n",
       "       [ 2,  5,  6, 13, 17]])"
      ]
     },
     "execution_count": 30,
     "metadata": {},
     "output_type": "execute_result"
    }
   ],
   "source": [
    "np.sort(a) # 옆으로 정렬 (axis=1)"
   ]
  },
  {
   "cell_type": "code",
   "execution_count": 31,
   "metadata": {},
   "outputs": [
    {
     "data": {
      "text/plain": [
       "array([[ 5,  8,  5,  6,  2],\n",
       "       [ 5, 15,  8,  8,  4],\n",
       "       [10, 17,  8, 11,  8],\n",
       "       [12, 21, 13, 14, 16],\n",
       "       [13, 23, 15, 19, 23]])"
      ]
     },
     "execution_count": 31,
     "metadata": {},
     "output_type": "execute_result"
    }
   ],
   "source": [
    "np.sort(a, axis=0) # 아래로 정렬 (axis=0)"
   ]
  },
  {
   "cell_type": "code",
   "execution_count": null,
   "metadata": {},
   "outputs": [],
   "source": []
  },
  {
   "cell_type": "code",
   "execution_count": 14,
   "metadata": {},
   "outputs": [
    {
     "data": {
      "text/plain": [
       "array([[ 4,  2,  4, 11,  9],\n",
       "       [ 0,  4,  2,  8,  9],\n",
       "       [ 7, 13,  1,  3, 20],\n",
       "       [20, 13,  2, 24, 18],\n",
       "       [12, 20, 20, 19,  0]])"
      ]
     },
     "execution_count": 14,
     "metadata": {},
     "output_type": "execute_result"
    }
   ],
   "source": [
    "a = np.random.randint(25, size=[5,5])\n",
    "a"
   ]
  },
  {
   "cell_type": "code",
   "execution_count": 21,
   "metadata": {},
   "outputs": [
    {
     "data": {
      "text/plain": [
       "[array([0, 4, 2, 8, 9]),\n",
       " array([ 4,  2,  4, 11,  9]),\n",
       " array([ 7, 13,  1,  3, 20]),\n",
       " array([12, 20, 20, 19,  0]),\n",
       " array([20, 13,  2, 24, 18])]"
      ]
     },
     "execution_count": 21,
     "metadata": {},
     "output_type": "execute_result"
    }
   ],
   "source": [
    "# 첫번째 열을 기준으로 행들을 정렬해 보자\n",
    "sorted(a, key=lambda a: a[0])"
   ]
  },
  {
   "cell_type": "code",
   "execution_count": null,
   "metadata": {},
   "outputs": [],
   "source": []
  },
  {
   "cell_type": "markdown",
   "metadata": {},
   "source": [
    "### 하나의 칼럼(속성)을 기준으로 정렬하기\n",
    "- np.argsort()\n",
    "- np.lexsort()\n",
    "\n",
    "줄단위로 먼저 줄번호를 정렬한 다음, 도출된 인덱스를 기반으로 원본 데이터를 인덱싱한다"
   ]
  },
  {
   "cell_type": "markdown",
   "metadata": {},
   "source": [
    "- 인덱스와 관련된 기능들\n",
    "> - 팬시색인\n",
    "> - np.where() 함수\n",
    "> - np.argsort() 함수"
   ]
  },
  {
   "cell_type": "code",
   "execution_count": 22,
   "metadata": {},
   "outputs": [
    {
     "data": {
      "text/plain": [
       "array([[ 0,  1,  2],\n",
       "       [ 3,  4,  5],\n",
       "       [ 6,  7,  8],\n",
       "       [ 9, 10, 11]])"
      ]
     },
     "execution_count": 22,
     "metadata": {},
     "output_type": "execute_result"
    }
   ],
   "source": [
    "a = np.arange(12).reshape(4,3)\n",
    "a"
   ]
  },
  {
   "cell_type": "code",
   "execution_count": 24,
   "metadata": {},
   "outputs": [
    {
     "data": {
      "text/plain": [
       "array([[ 0,  1,  2],\n",
       "       [ 9, 10, 11]])"
      ]
     },
     "execution_count": 24,
     "metadata": {},
     "output_type": "execute_result"
    }
   ],
   "source": [
    "a[[0,3]]"
   ]
  },
  {
   "cell_type": "code",
   "execution_count": 25,
   "metadata": {},
   "outputs": [
    {
     "data": {
      "text/plain": [
       "array([[ 0,  2],\n",
       "       [ 3,  5],\n",
       "       [ 6,  8],\n",
       "       [ 9, 11]])"
      ]
     },
     "execution_count": 25,
     "metadata": {},
     "output_type": "execute_result"
    }
   ],
   "source": [
    "a[:,[0,2]]"
   ]
  },
  {
   "cell_type": "code",
   "execution_count": 27,
   "metadata": {},
   "outputs": [
    {
     "data": {
      "text/plain": [
       "(array([0, 1, 2], dtype=int64), array([0, 1, 2], dtype=int64))"
      ]
     },
     "execution_count": 27,
     "metadata": {},
     "output_type": "execute_result"
    }
   ],
   "source": [
    "np.where(a%4==0)"
   ]
  },
  {
   "cell_type": "code",
   "execution_count": null,
   "metadata": {},
   "outputs": [],
   "source": []
  },
  {
   "cell_type": "code",
   "execution_count": 25,
   "metadata": {},
   "outputs": [],
   "source": [
    "a = np.array([3,4,1,5,2])"
   ]
  },
  {
   "cell_type": "code",
   "execution_count": 26,
   "metadata": {},
   "outputs": [
    {
     "data": {
      "text/plain": [
       "array([2, 4, 0, 1, 3], dtype=int64)"
      ]
     },
     "execution_count": 26,
     "metadata": {},
     "output_type": "execute_result"
    }
   ],
   "source": [
    "np.argsort(a) # 정렬한 번호를 알려준다"
   ]
  },
  {
   "cell_type": "code",
   "execution_count": 29,
   "metadata": {},
   "outputs": [
    {
     "data": {
      "text/plain": [
       "array([4, 5])"
      ]
     },
     "execution_count": 29,
     "metadata": {},
     "output_type": "execute_result"
    }
   ],
   "source": [
    "a[np.argsort(a)[-2:]]"
   ]
  },
  {
   "cell_type": "code",
   "execution_count": 36,
   "metadata": {},
   "outputs": [
    {
     "data": {
      "text/plain": [
       "1"
      ]
     },
     "execution_count": 36,
     "metadata": {},
     "output_type": "execute_result"
    }
   ],
   "source": [
    "a[2]"
   ]
  },
  {
   "cell_type": "code",
   "execution_count": 38,
   "metadata": {},
   "outputs": [
    {
     "data": {
      "text/plain": [
       "array([4, 5])"
      ]
     },
     "execution_count": 38,
     "metadata": {},
     "output_type": "execute_result"
    }
   ],
   "source": [
    "a[[1,3]]"
   ]
  },
  {
   "cell_type": "code",
   "execution_count": 39,
   "metadata": {},
   "outputs": [
    {
     "data": {
      "text/plain": [
       "array([1, 2, 3, 4, 5])"
      ]
     },
     "execution_count": 39,
     "metadata": {},
     "output_type": "execute_result"
    }
   ],
   "source": [
    "a[np.argsort(a)] # 팬시 색인"
   ]
  },
  {
   "cell_type": "code",
   "execution_count": null,
   "metadata": {},
   "outputs": [],
   "source": []
  },
  {
   "cell_type": "code",
   "execution_count": 28,
   "metadata": {},
   "outputs": [
    {
     "data": {
      "text/plain": [
       "array([53,  1, 78,  9, 83, 46, 50, 63,  7, 57])"
      ]
     },
     "execution_count": 28,
     "metadata": {},
     "output_type": "execute_result"
    }
   ],
   "source": [
    "a = np.random.randint(100,size=10)\n",
    "a"
   ]
  },
  {
   "cell_type": "code",
   "execution_count": 29,
   "metadata": {},
   "outputs": [
    {
     "data": {
      "text/plain": [
       "array([1, 8, 3, 5, 6, 0, 9, 7, 2, 4], dtype=int64)"
      ]
     },
     "execution_count": 29,
     "metadata": {},
     "output_type": "execute_result"
    }
   ],
   "source": [
    "a.argsort()"
   ]
  },
  {
   "cell_type": "code",
   "execution_count": 30,
   "metadata": {},
   "outputs": [
    {
     "data": {
      "text/plain": [
       "array([ 1,  7,  9, 46, 50, 53, 57, 63, 78, 83])"
      ]
     },
     "execution_count": 30,
     "metadata": {},
     "output_type": "execute_result"
    }
   ],
   "source": [
    "a[a.argsort()]"
   ]
  },
  {
   "cell_type": "code",
   "execution_count": null,
   "metadata": {},
   "outputs": [],
   "source": []
  },
  {
   "cell_type": "code",
   "execution_count": 31,
   "metadata": {},
   "outputs": [
    {
     "data": {
      "text/plain": [
       "array([[11,  0, 24, 24, 14],\n",
       "       [ 4, 15,  9,  4, 14],\n",
       "       [19,  9, 20, 12,  3],\n",
       "       [ 2,  5, 13,  2,  1],\n",
       "       [12, 18, 23,  4,  7]])"
      ]
     },
     "execution_count": 31,
     "metadata": {},
     "output_type": "execute_result"
    }
   ],
   "source": [
    "a = np.random.randint(25, size=[5,5])\n",
    "a"
   ]
  },
  {
   "cell_type": "code",
   "execution_count": 33,
   "metadata": {},
   "outputs": [
    {
     "data": {
      "text/plain": [
       "array([[3, 4, 0, 1, 2],\n",
       "       [2, 0, 3, 1, 4],\n",
       "       [3, 2, 4, 0, 1],\n",
       "       [1, 2, 4, 0, 3],\n",
       "       [0, 3, 4, 1, 2]], dtype=int64)"
      ]
     },
     "execution_count": 33,
     "metadata": {},
     "output_type": "execute_result"
    }
   ],
   "source": [
    "np.argsort(a)"
   ]
  },
  {
   "cell_type": "code",
   "execution_count": null,
   "metadata": {},
   "outputs": [],
   "source": []
  },
  {
   "cell_type": "code",
   "execution_count": 32,
   "metadata": {},
   "outputs": [
    {
     "data": {
      "text/plain": [
       "array([3, 1, 0, 4, 2], dtype=int64)"
      ]
     },
     "execution_count": 32,
     "metadata": {},
     "output_type": "execute_result"
    }
   ],
   "source": [
    "np.argsort(a[:,0])"
   ]
  },
  {
   "cell_type": "code",
   "execution_count": 33,
   "metadata": {},
   "outputs": [
    {
     "data": {
      "text/plain": [
       "array([[ 2,  5, 13,  2,  1],\n",
       "       [ 4, 15,  9,  4, 14],\n",
       "       [11,  0, 24, 24, 14],\n",
       "       [12, 18, 23,  4,  7],\n",
       "       [19,  9, 20, 12,  3]])"
      ]
     },
     "execution_count": 33,
     "metadata": {},
     "output_type": "execute_result"
    }
   ],
   "source": [
    "a[np.argsort(a[:,0])] # a[[3,1,0,4,2]]"
   ]
  },
  {
   "cell_type": "code",
   "execution_count": 34,
   "metadata": {},
   "outputs": [
    {
     "data": {
      "text/plain": [
       "array([[ 2,  5, 13,  2,  1],\n",
       "       [ 4, 15,  9,  4, 14],\n",
       "       [11,  0, 24, 24, 14],\n",
       "       [12, 18, 23,  4,  7],\n",
       "       [19,  9, 20, 12,  3]])"
      ]
     },
     "execution_count": 34,
     "metadata": {},
     "output_type": "execute_result"
    }
   ],
   "source": [
    "a[a[:,0].argsort()]"
   ]
  },
  {
   "cell_type": "code",
   "execution_count": 39,
   "metadata": {},
   "outputs": [
    {
     "data": {
      "text/plain": [
       "array([[ 9, 11, 22,  1,  3],\n",
       "       [20, 12, 17, 24, 17],\n",
       "       [ 4, 13, 22,  4,  7],\n",
       "       [10, 18,  1,  0,  7],\n",
       "       [13, 24,  5, 17, 24]])"
      ]
     },
     "execution_count": 39,
     "metadata": {},
     "output_type": "execute_result"
    }
   ],
   "source": [
    "a[np.argsort(a[:,1])] # a[[2,4,0,1,3]]"
   ]
  },
  {
   "cell_type": "code",
   "execution_count": 40,
   "metadata": {},
   "outputs": [
    {
     "data": {
      "text/plain": [
       "array([[ 9, 11, 22,  1,  3],\n",
       "       [10, 18,  1,  0,  7],\n",
       "       [ 4, 13, 22,  4,  7],\n",
       "       [20, 12, 17, 24, 17],\n",
       "       [13, 24,  5, 17, 24]])"
      ]
     },
     "execution_count": 40,
     "metadata": {},
     "output_type": "execute_result"
    }
   ],
   "source": [
    "a[np.argsort(a[:,-1])]"
   ]
  },
  {
   "cell_type": "code",
   "execution_count": 36,
   "metadata": {},
   "outputs": [
    {
     "data": {
      "text/plain": [
       "array([[4.3, 3. , 1.1, 0.1],\n",
       "       [4.4, 3.2, 1.3, 0.2],\n",
       "       [4.4, 3. , 1.3, 0.2],\n",
       "       [4.4, 2.9, 1.4, 0.2],\n",
       "       [4.5, 2.3, 1.3, 0.3],\n",
       "       [4.6, 3.6, 1. , 0.2],\n",
       "       [4.6, 3.1, 1.5, 0.2],\n",
       "       [4.6, 3.4, 1.4, 0.3],\n",
       "       [4.6, 3.2, 1.4, 0.2],\n",
       "       [4.7, 3.2, 1.3, 0.2],\n",
       "       [4.7, 3.2, 1.6, 0.2],\n",
       "       [4.8, 3. , 1.4, 0.1],\n",
       "       [4.8, 3. , 1.4, 0.3],\n",
       "       [4.8, 3.4, 1.9, 0.2],\n",
       "       [4.8, 3.4, 1.6, 0.2],\n",
       "       [4.8, 3.1, 1.6, 0.2],\n",
       "       [4.9, 2.4, 3.3, 1. ],\n",
       "       [4.9, 2.5, 4.5, 1.7],\n",
       "       [4.9, 3.1, 1.5, 0.1],\n",
       "       [4.9, 3.1, 1.5, 0.1],\n",
       "       [4.9, 3.1, 1.5, 0.1],\n",
       "       [4.9, 3. , 1.4, 0.2],\n",
       "       [5. , 3.5, 1.3, 0.3],\n",
       "       [5. , 3.4, 1.6, 0.4],\n",
       "       [5. , 3.3, 1.4, 0.2],\n",
       "       [5. , 3.2, 1.2, 0.2],\n",
       "       [5. , 3.5, 1.6, 0.6],\n",
       "       [5. , 2. , 3.5, 1. ],\n",
       "       [5. , 3.4, 1.5, 0.2],\n",
       "       [5. , 2.3, 3.3, 1. ],\n",
       "       [5. , 3.6, 1.4, 0.2],\n",
       "       [5. , 3. , 1.6, 0.2],\n",
       "       [5.1, 3.8, 1.9, 0.4],\n",
       "       [5.1, 3.8, 1.6, 0.2],\n",
       "       [5.1, 2.5, 3. , 1.1],\n",
       "       [5.1, 3.5, 1.4, 0.2],\n",
       "       [5.1, 3.4, 1.5, 0.2],\n",
       "       [5.1, 3.5, 1.4, 0.3],\n",
       "       [5.1, 3.3, 1.7, 0.5],\n",
       "       [5.1, 3.7, 1.5, 0.4],\n",
       "       [5.1, 3.8, 1.5, 0.3],\n",
       "       [5.2, 4.1, 1.5, 0.1],\n",
       "       [5.2, 3.4, 1.4, 0.2],\n",
       "       [5.2, 3.5, 1.5, 0.2],\n",
       "       [5.2, 2.7, 3.9, 1.4],\n",
       "       [5.3, 3.7, 1.5, 0.2],\n",
       "       [5.4, 3. , 4.5, 1.5],\n",
       "       [5.4, 3.9, 1.7, 0.4],\n",
       "       [5.4, 3.4, 1.7, 0.2],\n",
       "       [5.4, 3.4, 1.5, 0.4],\n",
       "       [5.4, 3.7, 1.5, 0.2],\n",
       "       [5.4, 3.9, 1.3, 0.4],\n",
       "       [5.5, 3.5, 1.3, 0.2],\n",
       "       [5.5, 2.6, 4.4, 1.2],\n",
       "       [5.5, 4.2, 1.4, 0.2],\n",
       "       [5.5, 2.3, 4. , 1.3],\n",
       "       [5.5, 2.4, 3.7, 1. ],\n",
       "       [5.5, 2.4, 3.8, 1.1],\n",
       "       [5.5, 2.5, 4. , 1.3],\n",
       "       [5.6, 3. , 4.1, 1.3],\n",
       "       [5.6, 2.8, 4.9, 2. ],\n",
       "       [5.6, 3. , 4.5, 1.5],\n",
       "       [5.6, 2.5, 3.9, 1.1],\n",
       "       [5.6, 2.7, 4.2, 1.3],\n",
       "       [5.6, 2.9, 3.6, 1.3],\n",
       "       [5.7, 2.6, 3.5, 1. ],\n",
       "       [5.7, 2.9, 4.2, 1.3],\n",
       "       [5.7, 2.8, 4.1, 1.3],\n",
       "       [5.7, 4.4, 1.5, 0.4],\n",
       "       [5.7, 2.8, 4.5, 1.3],\n",
       "       [5.7, 2.5, 5. , 2. ],\n",
       "       [5.7, 3.8, 1.7, 0.3],\n",
       "       [5.7, 3. , 4.2, 1.2],\n",
       "       [5.8, 2.7, 4.1, 1. ],\n",
       "       [5.8, 4. , 1.2, 0.2],\n",
       "       [5.8, 2.6, 4. , 1.2],\n",
       "       [5.8, 2.8, 5.1, 2.4],\n",
       "       [5.8, 2.7, 5.1, 1.9],\n",
       "       [5.8, 2.7, 3.9, 1.2],\n",
       "       [5.8, 2.7, 5.1, 1.9],\n",
       "       [5.9, 3. , 5.1, 1.8],\n",
       "       [5.9, 3. , 4.2, 1.5],\n",
       "       [5.9, 3.2, 4.8, 1.8],\n",
       "       [6. , 2.9, 4.5, 1.5],\n",
       "       [6. , 2.7, 5.1, 1.6],\n",
       "       [6. , 3. , 4.8, 1.8],\n",
       "       [6. , 3.4, 4.5, 1.6],\n",
       "       [6. , 2.2, 4. , 1. ],\n",
       "       [6. , 2.2, 5. , 1.5],\n",
       "       [6.1, 3. , 4.9, 1.8],\n",
       "       [6.1, 2.6, 5.6, 1.4],\n",
       "       [6.1, 2.8, 4. , 1.3],\n",
       "       [6.1, 2.9, 4.7, 1.4],\n",
       "       [6.1, 2.8, 4.7, 1.2],\n",
       "       [6.1, 3. , 4.6, 1.4],\n",
       "       [6.2, 2.2, 4.5, 1.5],\n",
       "       [6.2, 2.9, 4.3, 1.3],\n",
       "       [6.2, 3.4, 5.4, 2.3],\n",
       "       [6.2, 2.8, 4.8, 1.8],\n",
       "       [6.3, 2.5, 4.9, 1.5],\n",
       "       [6.3, 2.7, 4.9, 1.8],\n",
       "       [6.3, 2.5, 5. , 1.9],\n",
       "       [6.3, 3.3, 4.7, 1.6],\n",
       "       [6.3, 2.8, 5.1, 1.5],\n",
       "       [6.3, 3.3, 6. , 2.5],\n",
       "       [6.3, 2.3, 4.4, 1.3],\n",
       "       [6.3, 3.4, 5.6, 2.4],\n",
       "       [6.3, 2.9, 5.6, 1.8],\n",
       "       [6.4, 2.8, 5.6, 2.2],\n",
       "       [6.4, 2.8, 5.6, 2.1],\n",
       "       [6.4, 3.1, 5.5, 1.8],\n",
       "       [6.4, 3.2, 4.5, 1.5],\n",
       "       [6.4, 3.2, 5.3, 2.3],\n",
       "       [6.4, 2.9, 4.3, 1.3],\n",
       "       [6.4, 2.7, 5.3, 1.9],\n",
       "       [6.5, 3. , 5.8, 2.2],\n",
       "       [6.5, 3. , 5.5, 1.8],\n",
       "       [6.5, 3. , 5.2, 2. ],\n",
       "       [6.5, 2.8, 4.6, 1.5],\n",
       "       [6.5, 3.2, 5.1, 2. ],\n",
       "       [6.6, 2.9, 4.6, 1.3],\n",
       "       [6.6, 3. , 4.4, 1.4],\n",
       "       [6.7, 3.1, 4.7, 1.5],\n",
       "       [6.7, 3.1, 5.6, 2.4],\n",
       "       [6.7, 2.5, 5.8, 1.8],\n",
       "       [6.7, 3. , 5. , 1.7],\n",
       "       [6.7, 3.1, 4.4, 1.4],\n",
       "       [6.7, 3.3, 5.7, 2.5],\n",
       "       [6.7, 3. , 5.2, 2.3],\n",
       "       [6.7, 3.3, 5.7, 2.1],\n",
       "       [6.8, 3.2, 5.9, 2.3],\n",
       "       [6.8, 2.8, 4.8, 1.4],\n",
       "       [6.8, 3. , 5.5, 2.1],\n",
       "       [6.9, 3.1, 5.4, 2.1],\n",
       "       [6.9, 3.1, 5.1, 2.3],\n",
       "       [6.9, 3.1, 4.9, 1.5],\n",
       "       [6.9, 3.2, 5.7, 2.3],\n",
       "       [7. , 3.2, 4.7, 1.4],\n",
       "       [7.1, 3. , 5.9, 2.1],\n",
       "       [7.2, 3. , 5.8, 1.6],\n",
       "       [7.2, 3.2, 6. , 1.8],\n",
       "       [7.2, 3.6, 6.1, 2.5],\n",
       "       [7.3, 2.9, 6.3, 1.8],\n",
       "       [7.4, 2.8, 6.1, 1.9],\n",
       "       [7.6, 3. , 6.6, 2.1],\n",
       "       [7.7, 2.8, 6.7, 2. ],\n",
       "       [7.7, 2.6, 6.9, 2.3],\n",
       "       [7.7, 3.8, 6.7, 2.2],\n",
       "       [7.7, 3. , 6.1, 2.3],\n",
       "       [7.9, 3.8, 6.4, 2. ]])"
      ]
     },
     "execution_count": 36,
     "metadata": {},
     "output_type": "execute_result"
    }
   ],
   "source": [
    "# 아이리스 데이터에서 첫번째 속성값(sepal length)으로 샘플들을 정렬하시오\n",
    "iris = np.loadtxt('iris.csv', delimiter=',', skiprows=1, usecols=range(4))\n",
    "iris2 = iris[np.argsort(iris[:,0])]\n",
    "iris2"
   ]
  },
  {
   "cell_type": "code",
   "execution_count": 42,
   "metadata": {},
   "outputs": [
    {
     "data": {
      "text/plain": [
       "array([[4.5, 2.3, 1.3, 0.3],\n",
       "       [4.3, 3. , 1.1, 0.1],\n",
       "       [4.4, 3. , 1.3, 0.2],\n",
       "       [4.4, 2.9, 1.4, 0.2],\n",
       "       [4.4, 3.2, 1.3, 0.2],\n",
       "       [4.8, 3. , 1.4, 0.1],\n",
       "       [4.6, 3.6, 1. , 0.2],\n",
       "       [4.6, 3.1, 1.5, 0.2],\n",
       "       [4.6, 3.2, 1.4, 0.2],\n",
       "       [4.7, 3.2, 1.3, 0.2],\n",
       "       [4.8, 3. , 1.4, 0.3],\n",
       "       [4.9, 3. , 1.4, 0.2],\n",
       "       [5. , 3.2, 1.2, 0.2],\n",
       "       [4.9, 3.1, 1.5, 0.1],\n",
       "       [4.9, 3.1, 1.5, 0.1],\n",
       "       [4.9, 3.1, 1.5, 0.1],\n",
       "       [4.7, 3.2, 1.6, 0.2],\n",
       "       [4.8, 3.1, 1.6, 0.2],\n",
       "       [4.6, 3.4, 1.4, 0.3],\n",
       "       [5. , 3. , 1.6, 0.2],\n",
       "       [5. , 3.3, 1.4, 0.2],\n",
       "       [4.8, 3.4, 1.6, 0.2],\n",
       "       [5. , 3.4, 1.5, 0.2],\n",
       "       [5. , 3.5, 1.3, 0.3],\n",
       "       [5.2, 3.4, 1.4, 0.2],\n",
       "       [5.1, 3.4, 1.5, 0.2],\n",
       "       [5.1, 3.5, 1.4, 0.2],\n",
       "       [5. , 3.6, 1.4, 0.2],\n",
       "       [4.8, 3.4, 1.9, 0.2],\n",
       "       [5.1, 3.5, 1.4, 0.3],\n",
       "       [5.2, 3.5, 1.5, 0.2],\n",
       "       [5. , 3.4, 1.6, 0.4],\n",
       "       [5.5, 3.5, 1.3, 0.2],\n",
       "       [5.1, 3.3, 1.7, 0.5],\n",
       "       [5.1, 3.8, 1.6, 0.2],\n",
       "       [5.4, 3.4, 1.7, 0.2],\n",
       "       [5.1, 3.8, 1.5, 0.3],\n",
       "       [5.3, 3.7, 1.5, 0.2],\n",
       "       [5. , 3.5, 1.6, 0.6],\n",
       "       [5.1, 3.7, 1.5, 0.4],\n",
       "       [5.4, 3.4, 1.5, 0.4],\n",
       "       [5.4, 3.7, 1.5, 0.2],\n",
       "       [5.2, 4.1, 1.5, 0.1],\n",
       "       [5.4, 3.9, 1.3, 0.4],\n",
       "       [5.1, 3.8, 1.9, 0.4],\n",
       "       [5.8, 4. , 1.2, 0.2],\n",
       "       [5.5, 4.2, 1.4, 0.2],\n",
       "       [5.4, 3.9, 1.7, 0.4],\n",
       "       [5. , 2. , 3.5, 1. ],\n",
       "       [5.7, 3.8, 1.7, 0.3],\n",
       "       [5. , 2.3, 3.3, 1. ],\n",
       "       [4.9, 2.4, 3.3, 1. ],\n",
       "       [5.1, 2.5, 3. , 1.1],\n",
       "       [5.7, 4.4, 1.5, 0.4],\n",
       "       [5.5, 2.4, 3.7, 1. ],\n",
       "       [5.5, 2.4, 3.8, 1.1],\n",
       "       [5.7, 2.6, 3.5, 1. ],\n",
       "       [5.6, 2.5, 3.9, 1.1],\n",
       "       [5.5, 2.3, 4. , 1.3],\n",
       "       [6. , 2.2, 4. , 1. ],\n",
       "       [5.2, 2.7, 3.9, 1.4],\n",
       "       [5.5, 2.5, 4. , 1.3],\n",
       "       [5.6, 2.9, 3.6, 1.3],\n",
       "       [4.9, 2.5, 4.5, 1.7],\n",
       "       [5.8, 2.6, 4. , 1.2],\n",
       "       [5.8, 2.7, 3.9, 1.2],\n",
       "       [5.8, 2.7, 4.1, 1. ],\n",
       "       [5.5, 2.6, 4.4, 1.2],\n",
       "       [5.6, 2.7, 4.2, 1.3],\n",
       "       [5.7, 2.8, 4.1, 1.3],\n",
       "       [5.6, 3. , 4.1, 1.3],\n",
       "       [5.7, 3. , 4.2, 1.2],\n",
       "       [5.7, 2.9, 4.2, 1.3],\n",
       "       [6.1, 2.8, 4. , 1.3],\n",
       "       [6.3, 2.3, 4.4, 1.3],\n",
       "       [5.7, 2.8, 4.5, 1.3],\n",
       "       [6.2, 2.2, 4.5, 1.5],\n",
       "       [5.4, 3. , 4.5, 1.5],\n",
       "       [5.6, 3. , 4.5, 1.5],\n",
       "       [5.9, 3. , 4.2, 1.5],\n",
       "       [6.2, 2.9, 4.3, 1.3],\n",
       "       [6. , 2.2, 5. , 1.5],\n",
       "       [6.1, 2.8, 4.7, 1.2],\n",
       "       [6. , 2.9, 4.5, 1.5],\n",
       "       [6.4, 2.9, 4.3, 1.3],\n",
       "       [6.1, 2.9, 4.7, 1.4],\n",
       "       [6.1, 3. , 4.6, 1.4],\n",
       "       [5.7, 2.5, 5. , 2. ],\n",
       "       [6.3, 2.5, 4.9, 1.5],\n",
       "       [5.6, 2.8, 4.9, 2. ],\n",
       "       [6. , 2.7, 5.1, 1.6],\n",
       "       [6.5, 2.8, 4.6, 1.5],\n",
       "       [6.6, 2.9, 4.6, 1.3],\n",
       "       [6.6, 3. , 4.4, 1.4],\n",
       "       [5.8, 2.7, 5.1, 1.9],\n",
       "       [5.8, 2.7, 5.1, 1.9],\n",
       "       [6. , 3.4, 4.5, 1.6],\n",
       "       [6.7, 3.1, 4.4, 1.4],\n",
       "       [6.4, 3.2, 4.5, 1.5],\n",
       "       [6.2, 2.8, 4.8, 1.8],\n",
       "       [6. , 3. , 4.8, 1.8],\n",
       "       [6.1, 2.6, 5.6, 1.4],\n",
       "       [6.3, 2.8, 5.1, 1.5],\n",
       "       [6.3, 2.7, 4.9, 1.8],\n",
       "       [6.3, 2.5, 5. , 1.9],\n",
       "       [5.9, 3.2, 4.8, 1.8],\n",
       "       [6.8, 2.8, 4.8, 1.4],\n",
       "       [6.1, 3. , 4.9, 1.8],\n",
       "       [5.9, 3. , 5.1, 1.8],\n",
       "       [6.3, 3.3, 4.7, 1.6],\n",
       "       [6.7, 3.1, 4.7, 1.5],\n",
       "       [5.8, 2.8, 5.1, 2.4],\n",
       "       [7. , 3.2, 4.7, 1.4],\n",
       "       [6.4, 2.7, 5.3, 1.9],\n",
       "       [6.7, 3. , 5. , 1.7],\n",
       "       [6.9, 3.1, 4.9, 1.5],\n",
       "       [6.3, 2.9, 5.6, 1.8],\n",
       "       [6.5, 3. , 5.2, 2. ],\n",
       "       [6.5, 3.2, 5.1, 2. ],\n",
       "       [6.5, 3. , 5.5, 1.8],\n",
       "       [6.7, 2.5, 5.8, 1.8],\n",
       "       [6.4, 3.1, 5.5, 1.8],\n",
       "       [6.4, 2.8, 5.6, 2.1],\n",
       "       [6.4, 2.8, 5.6, 2.2],\n",
       "       [6.7, 3. , 5.2, 2.3],\n",
       "       [6.4, 3.2, 5.3, 2.3],\n",
       "       [6.2, 3.4, 5.4, 2.3],\n",
       "       [6.9, 3.1, 5.1, 2.3],\n",
       "       [6.8, 3. , 5.5, 2.1],\n",
       "       [6.9, 3.1, 5.4, 2.1],\n",
       "       [6.5, 3. , 5.8, 2.2],\n",
       "       [7.2, 3. , 5.8, 1.6],\n",
       "       [6.3, 3.4, 5.6, 2.4],\n",
       "       [6.7, 3.3, 5.7, 2.1],\n",
       "       [6.7, 3.1, 5.6, 2.4],\n",
       "       [7.1, 3. , 5.9, 2.1],\n",
       "       [6.9, 3.2, 5.7, 2.3],\n",
       "       [6.3, 3.3, 6. , 2.5],\n",
       "       [7.4, 2.8, 6.1, 1.9],\n",
       "       [6.7, 3.3, 5.7, 2.5],\n",
       "       [7.2, 3.2, 6. , 1.8],\n",
       "       [6.8, 3.2, 5.9, 2.3],\n",
       "       [7.3, 2.9, 6.3, 1.8],\n",
       "       [7.7, 3. , 6.1, 2.3],\n",
       "       [7.7, 2.8, 6.7, 2. ],\n",
       "       [7.6, 3. , 6.6, 2.1],\n",
       "       [7.2, 3.6, 6.1, 2.5],\n",
       "       [7.7, 2.6, 6.9, 2.3],\n",
       "       [7.9, 3.8, 6.4, 2. ],\n",
       "       [7.7, 3.8, 6.7, 2.2]])"
      ]
     },
     "execution_count": 42,
     "metadata": {},
     "output_type": "execute_result"
    }
   ],
   "source": [
    "# 샘플당 평균값으로 샘플들을 정렬하시오.\n",
    "iris[np.argsort(iris.mean(axis=1))]"
   ]
  },
  {
   "cell_type": "code",
   "execution_count": null,
   "metadata": {},
   "outputs": [],
   "source": []
  },
  {
   "cell_type": "code",
   "execution_count": 38,
   "metadata": {},
   "outputs": [
    {
     "data": {
      "image/png": "[encoded data removed]",
      "text/plain": [
       "<matplotlib.figure.Figure at 0x2c6defab630>"
      ]
     },
     "metadata": {},
     "output_type": "display_data"
    }
   ],
   "source": [
    "plt.plot(iris)\n",
    "plt.legend(['sl','sw','pl','pw'])\n",
    "pass"
   ]
  },
  {
   "cell_type": "code",
   "execution_count": 43,
   "metadata": {},
   "outputs": [
    {
     "data": {
      "text/plain": [
       "<matplotlib.legend.Legend at 0x2c6e03220f0>"
      ]
     },
     "execution_count": 43,
     "metadata": {},
     "output_type": "execute_result"
    },
    {
     "data": {
      "image/png": "[encoded data removed]",
      "text/plain": [
       "<matplotlib.figure.Figure at 0x2c6df05a5f8>"
      ]
     },
     "metadata": {},
     "output_type": "display_data"
    }
   ],
   "source": [
    "iris2 = iris[np.argsort(iris[:,0])]\n",
    "\n",
    "plt.figure(figsize=[10,5])\n",
    "plt.subplot(1,2,1)\n",
    "plt.plot(iris)\n",
    "plt.legend(['sl','sw','pl','pw'])\n",
    "\n",
    "plt.subplot(1,2,2)\n",
    "plt.plot(iris2)\n",
    "plt.legend(['sl','sw','pl','pw'])"
   ]
  },
  {
   "cell_type": "code",
   "execution_count": 48,
   "metadata": {},
   "outputs": [
    {
     "data": {
      "text/plain": [
       "<matplotlib.legend.Legend at 0x27500571160>"
      ]
     },
     "execution_count": 48,
     "metadata": {},
     "output_type": "execute_result"
    },
    {
     "data": {
      "image/png": "[encoded data removed]",
      "text/plain": [
       "<matplotlib.figure.Figure at 0x27500525668>"
      ]
     },
     "metadata": {},
     "output_type": "display_data"
    }
   ],
   "source": [
    "iris2 = iris[np.argsort(iris[:,2])]\n",
    "plt.plot(iris2)\n",
    "plt.legend(['sl','sw','pl','pw'])"
   ]
  },
  {
   "cell_type": "code",
   "execution_count": null,
   "metadata": {},
   "outputs": [],
   "source": []
  },
  {
   "cell_type": "code",
   "execution_count": 53,
   "metadata": {},
   "outputs": [
    {
     "data": {
      "text/plain": [
       "array([[0.2, 1.4, 3.5, 5.1],\n",
       "       [0.2, 1.4, 3. , 4.9],\n",
       "       [0.2, 1.3, 3.2, 4.7],\n",
       "       [0.2, 1.5, 3.1, 4.6],\n",
       "       [0.2, 1.4, 3.6, 5. ],\n",
       "       [0.4, 1.7, 3.9, 5.4],\n",
       "       [0.3, 1.4, 3.4, 4.6],\n",
       "       [0.2, 1.5, 3.4, 5. ],\n",
       "       [0.2, 1.4, 2.9, 4.4],\n",
       "       [0.1, 1.5, 3.1, 4.9],\n",
       "       [0.2, 1.5, 3.7, 5.4],\n",
       "       [0.2, 1.6, 3.4, 4.8],\n",
       "       [0.1, 1.4, 3. , 4.8],\n",
       "       [0.1, 1.1, 3. , 4.3],\n",
       "       [0.2, 1.2, 4. , 5.8],\n",
       "       [0.4, 1.5, 4.4, 5.7],\n",
       "       [0.4, 1.3, 3.9, 5.4],\n",
       "       [0.3, 1.4, 3.5, 5.1],\n",
       "       [0.3, 1.7, 3.8, 5.7],\n",
       "       [0.3, 1.5, 3.8, 5.1],\n",
       "       [0.2, 1.7, 3.4, 5.4],\n",
       "       [0.4, 1.5, 3.7, 5.1],\n",
       "       [0.2, 1. , 3.6, 4.6],\n",
       "       [0.5, 1.7, 3.3, 5.1],\n",
       "       [0.2, 1.9, 3.4, 4.8],\n",
       "       [0.2, 1.6, 3. , 5. ],\n",
       "       [0.4, 1.6, 3.4, 5. ],\n",
       "       [0.2, 1.5, 3.5, 5.2],\n",
       "       [0.2, 1.4, 3.4, 5.2],\n",
       "       [0.2, 1.6, 3.2, 4.7],\n",
       "       [0.2, 1.6, 3.1, 4.8],\n",
       "       [0.4, 1.5, 3.4, 5.4],\n",
       "       [0.1, 1.5, 4.1, 5.2],\n",
       "       [0.2, 1.4, 4.2, 5.5],\n",
       "       [0.1, 1.5, 3.1, 4.9],\n",
       "       [0.2, 1.2, 3.2, 5. ],\n",
       "       [0.2, 1.3, 3.5, 5.5],\n",
       "       [0.1, 1.5, 3.1, 4.9],\n",
       "       [0.2, 1.3, 3. , 4.4],\n",
       "       [0.2, 1.5, 3.4, 5.1],\n",
       "       [0.3, 1.3, 3.5, 5. ],\n",
       "       [0.3, 1.3, 2.3, 4.5],\n",
       "       [0.2, 1.3, 3.2, 4.4],\n",
       "       [0.6, 1.6, 3.5, 5. ],\n",
       "       [0.4, 1.9, 3.8, 5.1],\n",
       "       [0.3, 1.4, 3. , 4.8],\n",
       "       [0.2, 1.6, 3.8, 5.1],\n",
       "       [0.2, 1.4, 3.2, 4.6],\n",
       "       [0.2, 1.5, 3.7, 5.3],\n",
       "       [0.2, 1.4, 3.3, 5. ],\n",
       "       [1.4, 4.7, 3.2, 7. ],\n",
       "       [1.5, 4.5, 3.2, 6.4],\n",
       "       [1.5, 4.9, 3.1, 6.9],\n",
       "       [1.3, 4. , 2.3, 5.5],\n",
       "       [1.5, 4.6, 2.8, 6.5],\n",
       "       [1.3, 4.5, 2.8, 5.7],\n",
       "       [1.6, 4.7, 3.3, 6.3],\n",
       "       [1. , 3.3, 2.4, 4.9],\n",
       "       [1.3, 4.6, 2.9, 6.6],\n",
       "       [1.4, 3.9, 2.7, 5.2],\n",
       "       [1. , 3.5, 2. , 5. ],\n",
       "       [1.5, 4.2, 3. , 5.9],\n",
       "       [1. , 4. , 2.2, 6. ],\n",
       "       [1.4, 4.7, 2.9, 6.1],\n",
       "       [1.3, 3.6, 2.9, 5.6],\n",
       "       [1.4, 4.4, 3.1, 6.7],\n",
       "       [1.5, 4.5, 3. , 5.6],\n",
       "       [1. , 4.1, 2.7, 5.8],\n",
       "       [1.5, 4.5, 2.2, 6.2],\n",
       "       [1.1, 3.9, 2.5, 5.6],\n",
       "       [1.8, 4.8, 3.2, 5.9],\n",
       "       [1.3, 4. , 2.8, 6.1],\n",
       "       [1.5, 4.9, 2.5, 6.3],\n",
       "       [1.2, 4.7, 2.8, 6.1],\n",
       "       [1.3, 4.3, 2.9, 6.4],\n",
       "       [1.4, 4.4, 3. , 6.6],\n",
       "       [1.4, 4.8, 2.8, 6.8],\n",
       "       [1.7, 5. , 3. , 6.7],\n",
       "       [1.5, 4.5, 2.9, 6. ],\n",
       "       [1. , 3.5, 2.6, 5.7],\n",
       "       [1.1, 3.8, 2.4, 5.5],\n",
       "       [1. , 3.7, 2.4, 5.5],\n",
       "       [1.2, 3.9, 2.7, 5.8],\n",
       "       [1.6, 5.1, 2.7, 6. ],\n",
       "       [1.5, 4.5, 3. , 5.4],\n",
       "       [1.6, 4.5, 3.4, 6. ],\n",
       "       [1.5, 4.7, 3.1, 6.7],\n",
       "       [1.3, 4.4, 2.3, 6.3],\n",
       "       [1.3, 4.1, 3. , 5.6],\n",
       "       [1.3, 4. , 2.5, 5.5],\n",
       "       [1.2, 4.4, 2.6, 5.5],\n",
       "       [1.4, 4.6, 3. , 6.1],\n",
       "       [1.2, 4. , 2.6, 5.8],\n",
       "       [1. , 3.3, 2.3, 5. ],\n",
       "       [1.3, 4.2, 2.7, 5.6],\n",
       "       [1.2, 4.2, 3. , 5.7],\n",
       "       [1.3, 4.2, 2.9, 5.7],\n",
       "       [1.3, 4.3, 2.9, 6.2],\n",
       "       [1.1, 3. , 2.5, 5.1],\n",
       "       [1.3, 4.1, 2.8, 5.7],\n",
       "       [2.5, 6. , 3.3, 6.3],\n",
       "       [1.9, 5.1, 2.7, 5.8],\n",
       "       [2.1, 5.9, 3. , 7.1],\n",
       "       [1.8, 5.6, 2.9, 6.3],\n",
       "       [2.2, 5.8, 3. , 6.5],\n",
       "       [2.1, 6.6, 3. , 7.6],\n",
       "       [1.7, 4.5, 2.5, 4.9],\n",
       "       [1.8, 6.3, 2.9, 7.3],\n",
       "       [1.8, 5.8, 2.5, 6.7],\n",
       "       [2.5, 6.1, 3.6, 7.2],\n",
       "       [2. , 5.1, 3.2, 6.5],\n",
       "       [1.9, 5.3, 2.7, 6.4],\n",
       "       [2.1, 5.5, 3. , 6.8],\n",
       "       [2. , 5. , 2.5, 5.7],\n",
       "       [2.4, 5.1, 2.8, 5.8],\n",
       "       [2.3, 5.3, 3.2, 6.4],\n",
       "       [1.8, 5.5, 3. , 6.5],\n",
       "       [2.2, 6.7, 3.8, 7.7],\n",
       "       [2.3, 6.9, 2.6, 7.7],\n",
       "       [1.5, 5. , 2.2, 6. ],\n",
       "       [2.3, 5.7, 3.2, 6.9],\n",
       "       [2. , 4.9, 2.8, 5.6],\n",
       "       [2. , 6.7, 2.8, 7.7],\n",
       "       [1.8, 4.9, 2.7, 6.3],\n",
       "       [2.1, 5.7, 3.3, 6.7],\n",
       "       [1.8, 6. , 3.2, 7.2],\n",
       "       [1.8, 4.8, 2.8, 6.2],\n",
       "       [1.8, 4.9, 3. , 6.1],\n",
       "       [2.1, 5.6, 2.8, 6.4],\n",
       "       [1.6, 5.8, 3. , 7.2],\n",
       "       [1.9, 6.1, 2.8, 7.4],\n",
       "       [2. , 6.4, 3.8, 7.9],\n",
       "       [2.2, 5.6, 2.8, 6.4],\n",
       "       [1.5, 5.1, 2.8, 6.3],\n",
       "       [1.4, 5.6, 2.6, 6.1],\n",
       "       [2.3, 6.1, 3. , 7.7],\n",
       "       [2.4, 5.6, 3.4, 6.3],\n",
       "       [1.8, 5.5, 3.1, 6.4],\n",
       "       [1.8, 4.8, 3. , 6. ],\n",
       "       [2.1, 5.4, 3.1, 6.9],\n",
       "       [2.4, 5.6, 3.1, 6.7],\n",
       "       [2.3, 5.1, 3.1, 6.9],\n",
       "       [1.9, 5.1, 2.7, 5.8],\n",
       "       [2.3, 5.9, 3.2, 6.8],\n",
       "       [2.5, 5.7, 3.3, 6.7],\n",
       "       [2.3, 5.2, 3. , 6.7],\n",
       "       [1.9, 5. , 2.5, 6.3],\n",
       "       [2. , 5.2, 3. , 6.5],\n",
       "       [2.3, 5.4, 3.4, 6.2],\n",
       "       [1.8, 5.1, 3. , 5.9]])"
      ]
     },
     "execution_count": 53,
     "metadata": {},
     "output_type": "execute_result"
    }
   ],
   "source": [
    "iris[:, np.argsort(iris[0])] # 열을 재정렬한다"
   ]
  },
  {
   "cell_type": "code",
   "execution_count": 48,
   "metadata": {},
   "outputs": [
    {
     "data": {
      "text/plain": [
       "array([5.1, 3.5, 1.4, 0.2])"
      ]
     },
     "execution_count": 48,
     "metadata": {},
     "output_type": "execute_result"
    }
   ],
   "source": [
    "iris[0]"
   ]
  },
  {
   "cell_type": "code",
   "execution_count": null,
   "metadata": {},
   "outputs": [],
   "source": []
  },
  {
   "cell_type": "markdown",
   "metadata": {},
   "source": [
    "#### 사례\n",
    "```\n",
    "X = wine[:,:-1]\n",
    "y = wine[:, -1]\n",
    "\n",
    "X[np.argsort(y)]\n",
    "```"
   ]
  },
  {
   "cell_type": "code",
   "execution_count": null,
   "metadata": {},
   "outputs": [],
   "source": [
    "# 와인 데이터에서 마지막 속성(quality) 기준으로 샘플을 정렬하시오."
   ]
  },
  {
   "cell_type": "code",
   "execution_count": 50,
   "metadata": {},
   "outputs": [
    {
     "data": {
      "text/plain": [
       "array([[ 7.4  ,  0.7  ,  0.   , ...,  0.56 ,  9.4  ,  5.   ],\n",
       "       [ 7.8  ,  0.88 ,  0.   , ...,  0.68 ,  9.8  ,  5.   ],\n",
       "       [ 7.8  ,  0.76 ,  0.04 , ...,  0.65 ,  9.8  ,  5.   ],\n",
       "       ...,\n",
       "       [ 6.3  ,  0.51 ,  0.13 , ...,  0.75 , 11.   ,  6.   ],\n",
       "       [ 5.9  ,  0.645,  0.12 , ...,  0.71 , 10.2  ,  5.   ],\n",
       "       [ 6.   ,  0.31 ,  0.47 , ...,  0.66 , 11.   ,  6.   ]])"
      ]
     },
     "execution_count": 50,
     "metadata": {},
     "output_type": "execute_result"
    }
   ],
   "source": [
    "wine = np.loadtxt('winequality-red.csv', delimiter=';', skiprows=1)\n",
    "wine"
   ]
  },
  {
   "cell_type": "code",
   "execution_count": 51,
   "metadata": {},
   "outputs": [
    {
     "data": {
      "text/plain": [
       "array([[ 7.1  ,  0.875,  0.05 , ...,  0.52 , 10.2  ,  3.   ],\n",
       "       [10.4  ,  0.44 ,  0.42 , ...,  0.86 ,  9.9  ,  3.   ],\n",
       "       [ 8.3  ,  1.02 ,  0.02 , ...,  0.49 , 11.   ,  3.   ],\n",
       "       ...,\n",
       "       [10.   ,  0.26 ,  0.54 , ...,  0.63 , 11.8  ,  8.   ],\n",
       "       [ 7.2  ,  0.38 ,  0.31 , ...,  0.76 , 11.3  ,  8.   ],\n",
       "       [ 7.4  ,  0.36 ,  0.3  , ...,  0.7  , 11.4  ,  8.   ]])"
      ]
     },
     "execution_count": 51,
     "metadata": {},
     "output_type": "execute_result"
    }
   ],
   "source": [
    "wine[np.argsort(wine[:,-1])]"
   ]
  },
  {
   "cell_type": "code",
   "execution_count": 54,
   "metadata": {},
   "outputs": [
    {
     "data": {
      "text/plain": [
       "array([[7.10e+00, 6.20e-01, 6.00e-02, ..., 4.80e-01, 9.80e+00, 5.00e+00],\n",
       "       [6.60e+00, 6.10e-01, 0.00e+00, ..., 3.70e-01, 1.04e+01, 4.00e+00],\n",
       "       [7.80e+00, 5.30e-01, 1.00e-02, ..., 4.60e-01, 9.80e+00, 5.00e+00],\n",
       "       ...,\n",
       "       [1.02e+01, 5.40e-01, 3.70e-01, ..., 7.70e-01, 9.00e+00, 6.00e+00],\n",
       "       [1.02e+01, 5.40e-01, 3.70e-01, ..., 7.70e-01, 9.00e+00, 6.00e+00],\n",
       "       [9.20e+00, 5.20e-01, 1.00e+00, ..., 2.00e+00, 9.40e+00, 4.00e+00]])"
      ]
     },
     "execution_count": 54,
     "metadata": {},
     "output_type": "execute_result"
    }
   ],
   "source": [
    "# 마지막 속성을 제외한 샘플평균을 기준으로 샘플들을 정렬하시오.\n",
    "wine_norm = (wine - wine.mean(axis=0))/wine.std(axis=0)\n",
    "wine[np.argsort(wine_norm[:,:-1].mean(axis=1))]"
   ]
  },
  {
   "cell_type": "code",
   "execution_count": null,
   "metadata": {},
   "outputs": [],
   "source": []
  },
  {
   "cell_type": "code",
   "execution_count": 3,
   "metadata": {},
   "outputs": [
    {
     "name": "stdout",
     "output_type": "stream",
     "text": [
      "[5. 5. 5. ... 6. 5. 6.]\n"
     ]
    }
   ],
   "source": [
    "X = wine[:,:-1]\n",
    "y = wine[:,-1]\n",
    "print(y)"
   ]
  },
  {
   "cell_type": "code",
   "execution_count": 28,
   "metadata": {
    "collapsed": true
   },
   "outputs": [
    {
     "data": {
      "text/plain": [
       "array([[ 7.1  ,  0.875,  0.05 , ...,  0.52 , 10.2  ,  3.   ],\n",
       "       [10.4  ,  0.44 ,  0.42 , ...,  0.86 ,  9.9  ,  3.   ],\n",
       "       [ 8.3  ,  1.02 ,  0.02 , ...,  0.49 , 11.   ,  3.   ],\n",
       "       ...,\n",
       "       [10.   ,  0.26 ,  0.54 , ...,  0.63 , 11.8  ,  8.   ],\n",
       "       [ 7.2  ,  0.38 ,  0.31 , ...,  0.76 , 11.3  ,  8.   ],\n",
       "       [ 7.4  ,  0.36 ,  0.3  , ...,  0.7  , 11.4  ,  8.   ]])"
      ]
     },
     "execution_count": 28,
     "metadata": {},
     "output_type": "execute_result"
    }
   ],
   "source": [
    "wine[np.argsort(y)]"
   ]
  },
  {
   "cell_type": "code",
   "execution_count": 3,
   "metadata": {},
   "outputs": [
    {
     "data": {
      "text/plain": [
       "array([[ 7.1  ,  0.875,  0.05 , ...,  0.52 , 10.2  ,  3.   ],\n",
       "       [10.4  ,  0.44 ,  0.42 , ...,  0.86 ,  9.9  ,  3.   ],\n",
       "       [ 8.3  ,  1.02 ,  0.02 , ...,  0.49 , 11.   ,  3.   ],\n",
       "       ...,\n",
       "       [10.   ,  0.26 ,  0.54 , ...,  0.63 , 11.8  ,  8.   ],\n",
       "       [ 7.2  ,  0.38 ,  0.31 , ...,  0.76 , 11.3  ,  8.   ],\n",
       "       [ 7.4  ,  0.36 ,  0.3  , ...,  0.7  , 11.4  ,  8.   ]])"
      ]
     },
     "execution_count": 3,
     "metadata": {},
     "output_type": "execute_result"
    }
   ],
   "source": [
    "wine[np.argsort(wine[:,-1])]"
   ]
  },
  {
   "cell_type": "code",
   "execution_count": 32,
   "metadata": {},
   "outputs": [
    {
     "data": {
      "text/plain": [
       "array([[ 4.6  ,  0.52 ,  0.15 , ...,  0.56 , 13.1  ,  4.   ],\n",
       "       [ 4.7  ,  0.6  ,  0.17 , ...,  0.6  , 12.9  ,  6.   ],\n",
       "       [ 4.9  ,  0.42 ,  0.   , ...,  0.74 , 14.   ,  7.   ],\n",
       "       ...,\n",
       "       [15.6  ,  0.645,  0.49 , ...,  0.74 , 11.1  ,  5.   ],\n",
       "       [15.9  ,  0.36 ,  0.65 , ...,  0.84 , 14.9  ,  5.   ],\n",
       "       [15.6  ,  0.685,  0.76 , ...,  0.68 , 11.2  ,  7.   ]])"
      ]
     },
     "execution_count": 32,
     "metadata": {},
     "output_type": "execute_result"
    }
   ],
   "source": [
    "wine[np.argsort(wine[:,0] + wine[:,1])]"
   ]
  },
  {
   "cell_type": "code",
   "execution_count": 33,
   "metadata": {},
   "outputs": [
    {
     "data": {
      "text/plain": [
       "array([[ 7.   ,  0.59 ,  0.   , ...,  0.47 , 10.3  ,  5.   ],\n",
       "       [ 6.6  ,  0.61 ,  0.   , ...,  0.37 , 10.4  ,  4.   ],\n",
       "       [ 7.9  ,  0.885,  0.03 , ...,  0.33 ,  9.1  ,  4.   ],\n",
       "       ...,\n",
       "       [ 5.9  ,  0.29 ,  0.25 , ...,  0.54 , 10.3  ,  6.   ],\n",
       "       [ 7.9  ,  0.3  ,  0.68 , ...,  0.51 , 12.3  ,  7.   ],\n",
       "       [ 7.9  ,  0.3  ,  0.68 , ...,  0.51 , 12.3  ,  7.   ]])"
      ]
     },
     "execution_count": 33,
     "metadata": {},
     "output_type": "execute_result"
    }
   ],
   "source": [
    "wine[np.argsort(X.mean(axis=1))]"
   ]
  },
  {
   "cell_type": "code",
   "execution_count": 8,
   "metadata": {},
   "outputs": [
    {
     "data": {
      "text/plain": [
       "(1599,)"
      ]
     },
     "execution_count": 8,
     "metadata": {},
     "output_type": "execute_result"
    }
   ],
   "source": [
    "X.mean(axis=1).shape"
   ]
  },
  {
   "cell_type": "code",
   "execution_count": 9,
   "metadata": {},
   "outputs": [
    {
     "data": {
      "text/plain": [
       "array([ 3.22890909,  3.27026909,  3.31456364, ..., 24.27947364,\n",
       "       31.77665091, 32.77665091])"
      ]
     },
     "execution_count": 9,
     "metadata": {},
     "output_type": "execute_result"
    }
   ],
   "source": [
    "np.sort(X.mean(axis=1))"
   ]
  },
  {
   "cell_type": "code",
   "execution_count": 10,
   "metadata": {},
   "outputs": [
    {
     "data": {
      "text/plain": [
       "array([1438, 1369,  170, ..., 1244, 1079, 1081], dtype=int64)"
      ]
     },
     "execution_count": 10,
     "metadata": {},
     "output_type": "execute_result"
    }
   ],
   "source": [
    "np.argsort(X.mean(axis=1))"
   ]
  },
  {
   "cell_type": "code",
   "execution_count": 11,
   "metadata": {},
   "outputs": [
    {
     "data": {
      "text/plain": [
       "array([[ 7.   ,  0.59 ,  0.   , ...,  0.47 , 10.3  ,  5.   ],\n",
       "       [ 6.6  ,  0.61 ,  0.   , ...,  0.37 , 10.4  ,  4.   ],\n",
       "       [ 7.9  ,  0.885,  0.03 , ...,  0.33 ,  9.1  ,  4.   ],\n",
       "       ...,\n",
       "       [ 5.9  ,  0.29 ,  0.25 , ...,  0.54 , 10.3  ,  6.   ],\n",
       "       [ 7.9  ,  0.3  ,  0.68 , ...,  0.51 , 12.3  ,  7.   ],\n",
       "       [ 7.9  ,  0.3  ,  0.68 , ...,  0.51 , 12.3  ,  7.   ]])"
      ]
     },
     "execution_count": 11,
     "metadata": {},
     "output_type": "execute_result"
    }
   ],
   "source": [
    "wine[ np.argsort(X.mean(axis=1))  ]"
   ]
  },
  {
   "cell_type": "markdown",
   "metadata": {},
   "source": [
    "- 와인데이터를 정렬하고 다시 섞어보자"
   ]
  },
  {
   "cell_type": "code",
   "execution_count": 4,
   "metadata": {},
   "outputs": [],
   "source": [
    "wine_sorted = wine[np.argsort(wine[:,-1])]"
   ]
  },
  {
   "cell_type": "code",
   "execution_count": 6,
   "metadata": {},
   "outputs": [
    {
     "data": {
      "text/plain": [
       "(1599, 12)"
      ]
     },
     "execution_count": 6,
     "metadata": {},
     "output_type": "execute_result"
    }
   ],
   "source": [
    "wine_sorted.shape"
   ]
  },
  {
   "cell_type": "code",
   "execution_count": 7,
   "metadata": {},
   "outputs": [],
   "source": [
    "idx = np.random.permutation(range(1599))"
   ]
  },
  {
   "cell_type": "code",
   "execution_count": 8,
   "metadata": {},
   "outputs": [
    {
     "data": {
      "text/plain": [
       "array([ 716,  576, 1318, ...,  804, 1138,  631])"
      ]
     },
     "execution_count": 8,
     "metadata": {},
     "output_type": "execute_result"
    }
   ],
   "source": [
    "idx"
   ]
  },
  {
   "cell_type": "code",
   "execution_count": 11,
   "metadata": {
    "scrolled": true
   },
   "outputs": [
    {
     "data": {
      "text/plain": [
       "array([[10.3 ,  0.44,  0.5 , ...,  0.83, 11.5 ,  5.  ],\n",
       "       [ 7.3 ,  0.38,  0.21, ...,  0.47,  9.5 ,  5.  ],\n",
       "       [ 9.3 ,  0.38,  0.48, ...,  0.57, 13.2 ,  6.  ],\n",
       "       ...,\n",
       "       [10.2 ,  0.29,  0.65, ...,  0.63, 11.8 ,  6.  ],\n",
       "       [ 8.8 ,  0.55,  0.04, ...,  0.6 , 10.9 ,  6.  ],\n",
       "       [ 6.7 ,  0.58,  0.08, ...,  0.54,  9.2 ,  5.  ]])"
      ]
     },
     "execution_count": 11,
     "metadata": {},
     "output_type": "execute_result"
    }
   ],
   "source": [
    "wine2 = wine_sorted[idx]\n",
    "wine2"
   ]
  },
  {
   "cell_type": "code",
   "execution_count": 13,
   "metadata": {},
   "outputs": [
    {
     "data": {
      "text/plain": [
       "array([5., 5., 6., 7., 5., 7., 5., 6., 6., 6., 6., 7., 5., 6., 5., 7., 6.,\n",
       "       5., 6., 5.])"
      ]
     },
     "execution_count": 13,
     "metadata": {},
     "output_type": "execute_result"
    }
   ],
   "source": [
    "wine2[:,-1][:20]"
   ]
  },
  {
   "cell_type": "markdown",
   "metadata": {},
   "source": [
    "- 와인 데이터에서 10000개로 샘플을 늘려보자"
   ]
  },
  {
   "cell_type": "code",
   "execution_count": 15,
   "metadata": {},
   "outputs": [
    {
     "data": {
      "text/plain": [
       "array([ 905, 1302,  531, ..., 1499,  935,  365])"
      ]
     },
     "execution_count": 15,
     "metadata": {},
     "output_type": "execute_result"
    }
   ],
   "source": [
    "idx = np.random.randint(1599, size=10000)\n",
    "idx"
   ]
  },
  {
   "cell_type": "code",
   "execution_count": 17,
   "metadata": {},
   "outputs": [
    {
     "data": {
      "text/plain": [
       "array([[ 9.2 ,  0.58,  0.2 , ...,  0.59,  9.5 ,  5.  ],\n",
       "       [ 9.1 ,  0.37,  0.32, ...,  0.8 , 11.2 ,  6.  ],\n",
       "       [11.9 ,  0.38,  0.49, ...,  0.61, 10.3 ,  5.  ],\n",
       "       ...,\n",
       "       [ 6.9 ,  0.74,  0.03, ...,  0.63, 11.5 ,  6.  ],\n",
       "       [ 8.8 ,  0.3 ,  0.38, ...,  0.72, 11.8 ,  6.  ],\n",
       "       [10.  ,  0.42,  0.5 , ...,  0.93, 11.8 ,  6.  ]])"
      ]
     },
     "execution_count": 17,
     "metadata": {},
     "output_type": "execute_result"
    }
   ],
   "source": [
    "wine[idx]"
   ]
  },
  {
   "cell_type": "markdown",
   "metadata": {},
   "source": [
    "- 와인 품질 값의 비밀"
   ]
  },
  {
   "cell_type": "code",
   "execution_count": 19,
   "metadata": {},
   "outputs": [
    {
     "name": "stdout",
     "output_type": "stream",
     "text": [
      "[5. 5. 5. 6. 5. 5. 5. 7. 7. 5. 5. 5. 5. 5. 5. 5. 7. 5. 4. 6. 6. 5. 5. 5.\n",
      " 6. 5. 5. 5. 5. 6. 5. 6. 5. 6. 5. 6. 6. 7. 4. 5. 5. 4. 6. 5. 5. 4. 5. 5.\n",
      " 5. 5. 5. 6. 6. 5. 6. 5. 5. 5. 5. 6. 5. 5. 7. 5. 5. 5. 5. 5. 5. 6. 6. 5.\n",
      " 5. 4. 5. 5. 5. 6. 5. 4. 5. 5. 5. 5. 6. 5. 6. 5. 5. 5. 5. 6. 5. 5. 4. 6.\n",
      " 5. 5. 5. 6.]\n"
     ]
    }
   ],
   "source": [
    "print(wine[:100,-1])"
   ]
  },
  {
   "cell_type": "code",
   "execution_count": 22,
   "metadata": {},
   "outputs": [
    {
     "data": {
      "text/plain": [
       "array([7., 7., 7., 7., 7., 7., 7., 7., 7., 7., 7., 7., 7., 7., 7., 7., 7.,\n",
       "       7., 7., 7., 7., 7., 7., 7., 7., 7., 7., 7., 7., 7., 7., 7., 7., 7.,\n",
       "       7., 7., 7., 7., 7., 7., 7., 7., 7., 7., 7., 7., 7., 7., 7., 7., 7.,\n",
       "       7., 7., 7., 7., 7., 7., 7., 7., 7., 7., 7., 7., 7., 7., 7., 7., 7.,\n",
       "       7., 7., 7., 7., 7., 7., 7., 7., 7., 7., 7., 7., 7., 7., 8., 8., 8.,\n",
       "       8., 8., 8., 8., 8., 8., 8., 8., 8., 8., 8., 8., 8., 8., 8.])"
      ]
     },
     "execution_count": 22,
     "metadata": {},
     "output_type": "execute_result"
    }
   ],
   "source": [
    "np.sort(wine[:,-1])[-100:]"
   ]
  },
  {
   "cell_type": "code",
   "execution_count": 32,
   "metadata": {},
   "outputs": [
    {
     "data": {
      "text/plain": [
       "[10, 53, 681, 638, 199, 18]"
      ]
     },
     "execution_count": 32,
     "metadata": {},
     "output_type": "execute_result"
    }
   ],
   "source": [
    "q = wine[:,-1]\n",
    "cnt = []\n",
    "for i in range(3,9):\n",
    "    cnt.append((q==i).sum())\n",
    "cnt"
   ]
  },
  {
   "cell_type": "code",
   "execution_count": 33,
   "metadata": {},
   "outputs": [
    {
     "data": {
      "text/plain": [
       "[10, 53, 681, 638, 199, 18]"
      ]
     },
     "execution_count": 33,
     "metadata": {},
     "output_type": "execute_result"
    }
   ],
   "source": [
    "cnt = [(q==i).sum() for i in range(3,9)]\n",
    "cnt"
   ]
  },
  {
   "cell_type": "code",
   "execution_count": 34,
   "metadata": {},
   "outputs": [
    {
     "data": {
      "text/plain": [
       "{3: 10, 4: 53, 5: 681, 6: 638, 7: 199, 8: 18}"
      ]
     },
     "execution_count": 34,
     "metadata": {},
     "output_type": "execute_result"
    }
   ],
   "source": [
    "cnt2 = {i: (q==i).sum() for i in range(3,9)}\n",
    "cnt2"
   ]
  },
  {
   "cell_type": "code",
   "execution_count": 35,
   "metadata": {},
   "outputs": [
    {
     "data": {
      "text/plain": [
       "{3: 10, 4: 53, 5: 681, 6: 638, 7: 199, 8: 18}"
      ]
     },
     "execution_count": 35,
     "metadata": {},
     "output_type": "execute_result"
    }
   ],
   "source": [
    "cnt2 = {}\n",
    "for i in range(3,9):\n",
    "    cnt2[i] = (q==i).sum()\n",
    "cnt2"
   ]
  },
  {
   "cell_type": "code",
   "execution_count": 36,
   "metadata": {},
   "outputs": [
    {
     "data": {
      "text/plain": [
       "array([5., 5., 5., ..., 6., 5., 6.])"
      ]
     },
     "execution_count": 36,
     "metadata": {},
     "output_type": "execute_result"
    }
   ],
   "source": [
    "q"
   ]
  },
  {
   "cell_type": "code",
   "execution_count": 37,
   "metadata": {},
   "outputs": [
    {
     "data": {
      "text/plain": [
       "{3.0: 10, 4.0: 53, 5.0: 681, 6.0: 638, 7.0: 199, 8.0: 18}"
      ]
     },
     "execution_count": 37,
     "metadata": {},
     "output_type": "execute_result"
    }
   ],
   "source": [
    "cnt3 = {}\n",
    "for i in q:\n",
    "    if i in cnt3:\n",
    "        cnt3[i] += 1\n",
    "    else:\n",
    "        cnt3[i] = 1\n",
    "cnt3"
   ]
  },
  {
   "cell_type": "code",
   "execution_count": 41,
   "metadata": {},
   "outputs": [
    {
     "data": {
      "text/plain": [
       "array([  0,   0,   0,  10,  53, 681, 638, 199,  18], dtype=int64)"
      ]
     },
     "execution_count": 41,
     "metadata": {},
     "output_type": "execute_result"
    }
   ],
   "source": [
    "np.bincount(q.astype(int))"
   ]
  },
  {
   "cell_type": "code",
   "execution_count": 42,
   "metadata": {},
   "outputs": [
    {
     "data": {
      "text/plain": [
       "[<matplotlib.lines.Line2D at 0x18dc698c4a8>]"
      ]
     },
     "execution_count": 42,
     "metadata": {},
     "output_type": "execute_result"
    },
    {
     "data": {
      "image/png": "[encoded data removed]",
      "text/plain": [
       "<matplotlib.figure.Figure at 0x18dc67e9710>"
      ]
     },
     "metadata": {},
     "output_type": "display_data"
    }
   ],
   "source": [
    "plt.plot(q)"
   ]
  },
  {
   "cell_type": "code",
   "execution_count": 43,
   "metadata": {},
   "outputs": [
    {
     "data": {
      "text/plain": [
       "[<matplotlib.lines.Line2D at 0x18dc7c04d68>]"
      ]
     },
     "execution_count": 43,
     "metadata": {},
     "output_type": "execute_result"
    },
    {
     "data": {
      "image/png": "[encoded data removed]",
      "text/plain": [
       "<matplotlib.figure.Figure at 0x18dc67e9a90>"
      ]
     },
     "metadata": {},
     "output_type": "display_data"
    }
   ],
   "source": [
    "plt.plot(np.sort(q))"
   ]
  },
  {
   "cell_type": "code",
   "execution_count": 46,
   "metadata": {},
   "outputs": [
    {
     "data": {
      "text/plain": [
       "(array([ 10.,  53., 681., 638., 199.,  18.]),\n",
       " array([3.        , 3.83333333, 4.66666667, 5.5       , 6.33333333,\n",
       "        7.16666667, 8.        ]),\n",
       " <a list of 6 Patch objects>)"
      ]
     },
     "execution_count": 46,
     "metadata": {},
     "output_type": "execute_result"
    },
    {
     "data": {
      "image/png": "[encoded data removed]",
      "text/plain": [
       "<matplotlib.figure.Figure at 0x18dc7c24f28>"
      ]
     },
     "metadata": {},
     "output_type": "display_data"
    }
   ],
   "source": [
    "plt.hist(q, bins=6)"
   ]
  },
  {
   "cell_type": "code",
   "execution_count": null,
   "metadata": {},
   "outputs": [],
   "source": []
  },
  {
   "cell_type": "code",
   "execution_count": 57,
   "metadata": {},
   "outputs": [
    {
     "data": {
      "text/plain": [
       "array([[6, 1, 3],\n",
       "       [7, 1, 6],\n",
       "       [8, 7, 4],\n",
       "       [4, 2, 2],\n",
       "       [2, 8, 7]])"
      ]
     },
     "execution_count": 57,
     "metadata": {},
     "output_type": "execute_result"
    }
   ],
   "source": [
    "a = np.random.randint(10, size=(5, 3))\n",
    "a"
   ]
  },
  {
   "cell_type": "code",
   "execution_count": 58,
   "metadata": {},
   "outputs": [],
   "source": [
    "names = ['홍길동', '장길산', '이순신', '김유신', '한음'] # 각 줄에 이름을 단다"
   ]
  },
  {
   "cell_type": "code",
   "execution_count": 59,
   "metadata": {},
   "outputs": [
    {
     "data": {
      "text/plain": [
       "array([3, 2, 1, 4, 0], dtype=int64)"
      ]
     },
     "execution_count": 59,
     "metadata": {},
     "output_type": "execute_result"
    }
   ],
   "source": [
    "# 이름 순으로 데이터를 정렬하시오\n",
    "np.argsort(names)"
   ]
  },
  {
   "cell_type": "code",
   "execution_count": 57,
   "metadata": {},
   "outputs": [
    {
     "data": {
      "text/plain": [
       "array([[0, 7, 2],\n",
       "       [1, 0, 6],\n",
       "       [7, 5, 6],\n",
       "       [1, 6, 5],\n",
       "       [0, 8, 5]])"
      ]
     },
     "execution_count": 57,
     "metadata": {},
     "output_type": "execute_result"
    }
   ],
   "source": [
    "a[np.argsort(names)]"
   ]
  },
  {
   "cell_type": "code",
   "execution_count": 58,
   "metadata": {},
   "outputs": [
    {
     "data": {
      "text/plain": [
       "array([[0, 8, 5],\n",
       "       [1, 6, 5],\n",
       "       [7, 5, 6],\n",
       "       [1, 0, 6],\n",
       "       [0, 7, 2]])"
      ]
     },
     "execution_count": 58,
     "metadata": {},
     "output_type": "execute_result"
    }
   ],
   "source": [
    "a[np.argsort(names)[::-1]]"
   ]
  },
  {
   "cell_type": "code",
   "execution_count": 59,
   "metadata": {},
   "outputs": [
    {
     "data": {
      "text/plain": [
       "array([[0, 8, 5],\n",
       "       [1, 6, 5],\n",
       "       [7, 5, 6],\n",
       "       [1, 0, 6],\n",
       "       [0, 7, 2]])"
      ]
     },
     "execution_count": 59,
     "metadata": {},
     "output_type": "execute_result"
    }
   ],
   "source": [
    "a[np.argsort(names)][::-1]"
   ]
  },
  {
   "cell_type": "code",
   "execution_count": null,
   "metadata": {},
   "outputs": [],
   "source": []
  },
  {
   "cell_type": "code",
   "execution_count": 19,
   "metadata": {},
   "outputs": [],
   "source": [
    "# 나이 순으로 정렬하시오 (한 줄은 한 사람을 나타낸다)\n",
    "np.random.seed(20190604)\n",
    "a = np.random.randint(10, size=(5, 3))\n",
    "\n",
    "ages = [99,37,23,85,1000]"
   ]
  },
  {
   "cell_type": "code",
   "execution_count": 20,
   "metadata": {},
   "outputs": [
    {
     "data": {
      "text/plain": [
       "array([2, 1, 3, 0, 4], dtype=int64)"
      ]
     },
     "execution_count": 20,
     "metadata": {},
     "output_type": "execute_result"
    }
   ],
   "source": [
    "np.argsort(ages)"
   ]
  },
  {
   "cell_type": "code",
   "execution_count": 22,
   "metadata": {},
   "outputs": [
    {
     "data": {
      "text/plain": [
       "array([[7, 5, 1],\n",
       "       [2, 2, 1],\n",
       "       [4, 9, 7],\n",
       "       [8, 7, 7],\n",
       "       [3, 4, 7]])"
      ]
     },
     "execution_count": 22,
     "metadata": {},
     "output_type": "execute_result"
    }
   ],
   "source": [
    "a[  np.argsort(ages) ]"
   ]
  },
  {
   "cell_type": "code",
   "execution_count": null,
   "metadata": {},
   "outputs": [],
   "source": []
  },
  {
   "cell_type": "markdown",
   "metadata": {},
   "source": [
    "### lexsort()\n",
    "- 동점자 처리\n",
    "- lexsort() 는 뒤의 인자를 먼저 기준을 잡아 정렬한다\n",
    "- 정렬된 인덱스를 반환한다\n",
    "- lexsort([기준2, 기준1])"
   ]
  },
  {
   "cell_type": "code",
   "execution_count": 45,
   "metadata": {},
   "outputs": [
    {
     "data": {
      "text/plain": [
       "array([[3, 3, 0, 0, 4],\n",
       "       [4, 4, 2, 4, 4],\n",
       "       [2, 3, 0, 0, 0],\n",
       "       [2, 0, 1, 2, 2],\n",
       "       [2, 3, 3, 1, 3]])"
      ]
     },
     "execution_count": 45,
     "metadata": {},
     "output_type": "execute_result"
    }
   ],
   "source": [
    "a = np.random.randint(5, size=[5,5])\n",
    "a"
   ]
  },
  {
   "cell_type": "code",
   "execution_count": 49,
   "metadata": {},
   "outputs": [
    {
     "data": {
      "text/plain": [
       "array([3, 2, 4, 0, 1], dtype=int64)"
      ]
     },
     "execution_count": 49,
     "metadata": {},
     "output_type": "execute_result"
    }
   ],
   "source": [
    "np.lexsort([a[:,2], a[:,1], a[:,0]])"
   ]
  },
  {
   "cell_type": "code",
   "execution_count": 48,
   "metadata": {},
   "outputs": [
    {
     "data": {
      "text/plain": [
       "array([[2, 0, 1, 2, 2],\n",
       "       [2, 3, 0, 0, 0],\n",
       "       [2, 3, 3, 1, 3],\n",
       "       [3, 3, 0, 0, 4],\n",
       "       [4, 4, 2, 4, 4]])"
      ]
     },
     "execution_count": 48,
     "metadata": {},
     "output_type": "execute_result"
    }
   ],
   "source": [
    "a[np.lexsort([a[:,1], a[:,0]])]"
   ]
  },
  {
   "cell_type": "code",
   "execution_count": null,
   "metadata": {},
   "outputs": [],
   "source": []
  },
  {
   "cell_type": "code",
   "execution_count": 60,
   "metadata": {},
   "outputs": [],
   "source": [
    "a = np.array([-3,-2,-1,0,1,2,3])\n",
    "# [0,1,-1,2,-2,3,-3]"
   ]
  },
  {
   "cell_type": "code",
   "execution_count": 61,
   "metadata": {},
   "outputs": [
    {
     "data": {
      "text/plain": [
       "array([3, 4, 2, 5, 1, 6, 0], dtype=int64)"
      ]
     },
     "execution_count": 61,
     "metadata": {},
     "output_type": "execute_result"
    }
   ],
   "source": [
    "np.lexsort([-np.sign(a),np.abs(a)])"
   ]
  },
  {
   "cell_type": "code",
   "execution_count": 62,
   "metadata": {},
   "outputs": [
    {
     "data": {
      "text/plain": [
       "array([3, 4, 2, 5, 1, 6, 0], dtype=int64)"
      ]
     },
     "execution_count": 62,
     "metadata": {},
     "output_type": "execute_result"
    }
   ],
   "source": [
    "np.lexsort([-a,np.abs(a)])"
   ]
  },
  {
   "cell_type": "code",
   "execution_count": 63,
   "metadata": {},
   "outputs": [
    {
     "data": {
      "text/plain": [
       "array([ 0,  1, -1,  2, -2,  3, -3])"
      ]
     },
     "execution_count": 63,
     "metadata": {},
     "output_type": "execute_result"
    }
   ],
   "source": [
    "a[[3, 4, 2, 5, 1, 6, 0]]"
   ]
  },
  {
   "cell_type": "code",
   "execution_count": null,
   "metadata": {},
   "outputs": [],
   "source": []
  },
  {
   "cell_type": "code",
   "execution_count": 64,
   "metadata": {},
   "outputs": [
    {
     "name": "stdout",
     "output_type": "stream",
     "text": [
      "[[1 1 0 4]\n",
      " [2 2 0 0]\n",
      " [1 0 0 2]\n",
      " [0 2 4 4]\n",
      " [4 2 0 2]\n",
      " [3 2 2 0]\n",
      " [2 2 1 4]\n",
      " [4 2 3 3]\n",
      " [3 1 0 3]\n",
      " [1 3 0 4]]\n"
     ]
    },
    {
     "data": {
      "text/plain": [
       "array([3, 2, 0, 9, 1, 6, 8, 5, 4, 7], dtype=int64)"
      ]
     },
     "execution_count": 64,
     "metadata": {},
     "output_type": "execute_result"
    }
   ],
   "source": [
    "a = np.random.randint(5, size=[10,4])\n",
    "print(a)\n",
    "np.lexsort([a[:,1],a[:,0]]) # 칼럼0 -> 칼럼1 순으로 정렬한 인덱스를 반환한다"
   ]
  },
  {
   "cell_type": "code",
   "execution_count": null,
   "metadata": {},
   "outputs": [],
   "source": [
    "np.random.permutation(range(10))"
   ]
  },
  {
   "cell_type": "code",
   "execution_count": 67,
   "metadata": {},
   "outputs": [
    {
     "data": {
      "text/plain": [
       "array([[0, 2, 4, 4],\n",
       "       [1, 0, 0, 2],\n",
       "       [1, 1, 0, 4],\n",
       "       [1, 3, 0, 4],\n",
       "       [2, 2, 1, 4],\n",
       "       [2, 2, 0, 0],\n",
       "       [3, 1, 0, 3],\n",
       "       [3, 2, 2, 0],\n",
       "       [4, 2, 0, 2],\n",
       "       [4, 2, 3, 3]])"
      ]
     },
     "execution_count": 67,
     "metadata": {},
     "output_type": "execute_result"
    }
   ],
   "source": [
    "a[ np.lexsort( [np.random.permutation(range(10)),a[:,1],a[:,0]] ) ]"
   ]
  },
  {
   "cell_type": "markdown",
   "metadata": {},
   "source": [
    "- 열단위 정렬"
   ]
  },
  {
   "cell_type": "code",
   "execution_count": 27,
   "metadata": {},
   "outputs": [
    {
     "data": {
      "text/plain": [
       "array([[5.1, 3.5],\n",
       "       [4.9, 3. ],\n",
       "       [4.7, 3.2],\n",
       "       [4.6, 3.1],\n",
       "       [5. , 3.6],\n",
       "       [5.4, 3.9],\n",
       "       [4.6, 3.4],\n",
       "       [5. , 3.4],\n",
       "       [4.4, 2.9],\n",
       "       [4.9, 3.1],\n",
       "       [5.4, 3.7],\n",
       "       [4.8, 3.4],\n",
       "       [4.8, 3. ],\n",
       "       [4.3, 3. ],\n",
       "       [5.8, 4. ],\n",
       "       [5.7, 4.4],\n",
       "       [5.4, 3.9],\n",
       "       [5.1, 3.5],\n",
       "       [5.7, 3.8],\n",
       "       [5.1, 3.8],\n",
       "       [5.4, 3.4],\n",
       "       [5.1, 3.7],\n",
       "       [4.6, 3.6],\n",
       "       [5.1, 3.3],\n",
       "       [4.8, 3.4],\n",
       "       [5. , 3. ],\n",
       "       [5. , 3.4],\n",
       "       [5.2, 3.5],\n",
       "       [5.2, 3.4],\n",
       "       [4.7, 3.2],\n",
       "       [4.8, 3.1],\n",
       "       [5.4, 3.4],\n",
       "       [5.2, 4.1],\n",
       "       [5.5, 4.2],\n",
       "       [4.9, 3.1],\n",
       "       [5. , 3.2],\n",
       "       [5.5, 3.5],\n",
       "       [4.9, 3.1],\n",
       "       [4.4, 3. ],\n",
       "       [5.1, 3.4],\n",
       "       [5. , 3.5],\n",
       "       [4.5, 2.3],\n",
       "       [4.4, 3.2],\n",
       "       [5. , 3.5],\n",
       "       [5.1, 3.8],\n",
       "       [4.8, 3. ],\n",
       "       [5.1, 3.8],\n",
       "       [4.6, 3.2],\n",
       "       [5.3, 3.7],\n",
       "       [5. , 3.3],\n",
       "       [7. , 3.2],\n",
       "       [6.4, 3.2],\n",
       "       [6.9, 3.1],\n",
       "       [5.5, 2.3],\n",
       "       [6.5, 2.8],\n",
       "       [5.7, 2.8],\n",
       "       [6.3, 3.3],\n",
       "       [4.9, 2.4],\n",
       "       [6.6, 2.9],\n",
       "       [5.2, 2.7],\n",
       "       [5. , 2. ],\n",
       "       [5.9, 3. ],\n",
       "       [6. , 2.2],\n",
       "       [6.1, 2.9],\n",
       "       [5.6, 2.9],\n",
       "       [6.7, 3.1],\n",
       "       [5.6, 3. ],\n",
       "       [5.8, 2.7],\n",
       "       [6.2, 2.2],\n",
       "       [5.6, 2.5],\n",
       "       [5.9, 3.2],\n",
       "       [6.1, 2.8],\n",
       "       [6.3, 2.5],\n",
       "       [6.1, 2.8],\n",
       "       [6.4, 2.9],\n",
       "       [6.6, 3. ],\n",
       "       [6.8, 2.8],\n",
       "       [6.7, 3. ],\n",
       "       [6. , 2.9],\n",
       "       [5.7, 2.6],\n",
       "       [5.5, 2.4],\n",
       "       [5.5, 2.4],\n",
       "       [5.8, 2.7],\n",
       "       [6. , 2.7],\n",
       "       [5.4, 3. ],\n",
       "       [6. , 3.4],\n",
       "       [6.7, 3.1],\n",
       "       [6.3, 2.3],\n",
       "       [5.6, 3. ],\n",
       "       [5.5, 2.5],\n",
       "       [5.5, 2.6],\n",
       "       [6.1, 3. ],\n",
       "       [5.8, 2.6],\n",
       "       [5. , 2.3],\n",
       "       [5.6, 2.7],\n",
       "       [5.7, 3. ],\n",
       "       [5.7, 2.9],\n",
       "       [6.2, 2.9],\n",
       "       [5.1, 2.5],\n",
       "       [5.7, 2.8],\n",
       "       [6.3, 3.3],\n",
       "       [5.8, 2.7],\n",
       "       [7.1, 3. ],\n",
       "       [6.3, 2.9],\n",
       "       [6.5, 3. ],\n",
       "       [7.6, 3. ],\n",
       "       [4.9, 2.5],\n",
       "       [7.3, 2.9],\n",
       "       [6.7, 2.5],\n",
       "       [7.2, 3.6],\n",
       "       [6.5, 3.2],\n",
       "       [6.4, 2.7],\n",
       "       [6.8, 3. ],\n",
       "       [5.7, 2.5],\n",
       "       [5.8, 2.8],\n",
       "       [6.4, 3.2],\n",
       "       [6.5, 3. ],\n",
       "       [7.7, 3.8],\n",
       "       [7.7, 2.6],\n",
       "       [6. , 2.2],\n",
       "       [6.9, 3.2],\n",
       "       [5.6, 2.8],\n",
       "       [7.7, 2.8],\n",
       "       [6.3, 2.7],\n",
       "       [6.7, 3.3],\n",
       "       [7.2, 3.2],\n",
       "       [6.2, 2.8],\n",
       "       [6.1, 3. ],\n",
       "       [6.4, 2.8],\n",
       "       [7.2, 3. ],\n",
       "       [7.4, 2.8],\n",
       "       [7.9, 3.8],\n",
       "       [6.4, 2.8],\n",
       "       [6.3, 2.8],\n",
       "       [6.1, 2.6],\n",
       "       [7.7, 3. ],\n",
       "       [6.3, 3.4],\n",
       "       [6.4, 3.1],\n",
       "       [6. , 3. ],\n",
       "       [6.9, 3.1],\n",
       "       [6.7, 3.1],\n",
       "       [6.9, 3.1],\n",
       "       [5.8, 2.7],\n",
       "       [6.8, 3.2],\n",
       "       [6.7, 3.3],\n",
       "       [6.7, 3. ],\n",
       "       [6.3, 2.5],\n",
       "       [6.5, 3. ],\n",
       "       [6.2, 3.4],\n",
       "       [5.9, 3. ]])"
      ]
     },
     "execution_count": 27,
     "metadata": {},
     "output_type": "execute_result"
    }
   ],
   "source": [
    "features = np.array(['SL','SW','PL','PW']) # columns\n",
    "iris[:, [0,1] ]"
   ]
  },
  {
   "cell_type": "code",
   "execution_count": 29,
   "metadata": {},
   "outputs": [
    {
     "data": {
      "text/plain": [
       "array(['SL', 'PL', 'SW', 'PW'], dtype='<U2')"
      ]
     },
     "execution_count": 29,
     "metadata": {},
     "output_type": "execute_result"
    }
   ],
   "source": [
    "idxes = [0,2,1,3]\n",
    "\n",
    "iris2 = iris[:, idxes]\n",
    "#features2 = ['SL','PL','SW','PW']\n",
    "features2 = features[idxes]\n",
    "features2"
   ]
  },
  {
   "cell_type": "code",
   "execution_count": null,
   "metadata": {},
   "outputs": [],
   "source": [
    "iris[:,[2,3,0,1]]"
   ]
  },
  {
   "cell_type": "markdown",
   "metadata": {},
   "source": [
    "- np.argmax(), np.argmin() 함수도 있다"
   ]
  },
  {
   "cell_type": "code",
   "execution_count": 54,
   "metadata": {},
   "outputs": [
    {
     "data": {
      "text/plain": [
       "array([4, 3, 5, 2, 5, 1])"
      ]
     },
     "execution_count": 54,
     "metadata": {},
     "output_type": "execute_result"
    }
   ],
   "source": [
    "a = np.array([4,3,5,2,5,1])\n",
    "a"
   ]
  },
  {
   "cell_type": "code",
   "execution_count": 55,
   "metadata": {},
   "outputs": [
    {
     "data": {
      "text/plain": [
       "(array([2, 4], dtype=int64),)"
      ]
     },
     "execution_count": 55,
     "metadata": {},
     "output_type": "execute_result"
    }
   ],
   "source": [
    "np.where(a==a.max())"
   ]
  },
  {
   "cell_type": "code",
   "execution_count": 57,
   "metadata": {},
   "outputs": [
    {
     "data": {
      "text/plain": [
       "(2, 5)"
      ]
     },
     "execution_count": 57,
     "metadata": {},
     "output_type": "execute_result"
    }
   ],
   "source": [
    "a.argmax(), a.argmin()"
   ]
  },
  {
   "cell_type": "code",
   "execution_count": null,
   "metadata": {},
   "outputs": [],
   "source": []
  },
  {
   "cell_type": "code",
   "execution_count": 68,
   "metadata": {},
   "outputs": [
    {
     "data": {
      "text/plain": [
       "1"
      ]
     },
     "execution_count": 68,
     "metadata": {},
     "output_type": "execute_result"
    }
   ],
   "source": [
    "np.argmax([3,5,0,2,5,0,1])"
   ]
  },
  {
   "cell_type": "code",
   "execution_count": 72,
   "metadata": {},
   "outputs": [
    {
     "data": {
      "text/plain": [
       "3"
      ]
     },
     "execution_count": 72,
     "metadata": {},
     "output_type": "execute_result"
    }
   ],
   "source": [
    "np.argmin([3,5,2,0,1])"
   ]
  },
  {
   "cell_type": "code",
   "execution_count": null,
   "metadata": {},
   "outputs": [],
   "source": []
  },
  {
   "cell_type": "code",
   "execution_count": 62,
   "metadata": {},
   "outputs": [
    {
     "data": {
      "text/plain": [
       "array([[37, 54, 79],\n",
       "       [77, 56, 86],\n",
       "       [49,  0, 79],\n",
       "       [55, 79, 84],\n",
       "       [18, 52, 18],\n",
       "       [40, 77, 20],\n",
       "       [75, 89, 23],\n",
       "       [16, 20, 64],\n",
       "       [86, 76, 66],\n",
       "       [24, 20, 88]])"
      ]
     },
     "execution_count": 62,
     "metadata": {},
     "output_type": "execute_result"
    }
   ],
   "source": [
    "a = np.random.randint(100, size=[10,3])\n",
    "a"
   ]
  },
  {
   "cell_type": "code",
   "execution_count": 63,
   "metadata": {},
   "outputs": [
    {
     "data": {
      "text/plain": [
       "array([8, 6, 9], dtype=int64)"
      ]
     },
     "execution_count": 63,
     "metadata": {},
     "output_type": "execute_result"
    }
   ],
   "source": [
    "a.argmax(axis=0)"
   ]
  },
  {
   "cell_type": "code",
   "execution_count": 64,
   "metadata": {},
   "outputs": [
    {
     "data": {
      "text/plain": [
       "array([7, 2, 4], dtype=int64)"
      ]
     },
     "execution_count": 64,
     "metadata": {},
     "output_type": "execute_result"
    }
   ],
   "source": [
    "a.argmin(axis=0)"
   ]
  },
  {
   "cell_type": "code",
   "execution_count": 65,
   "metadata": {},
   "outputs": [
    {
     "data": {
      "text/plain": [
       "array([2, 2, 2, 2, 1, 1, 1, 2, 0, 2], dtype=int64)"
      ]
     },
     "execution_count": 65,
     "metadata": {},
     "output_type": "execute_result"
    }
   ],
   "source": [
    "a.argmax(axis=1)"
   ]
  },
  {
   "cell_type": "code",
   "execution_count": null,
   "metadata": {},
   "outputs": [],
   "source": []
  },
  {
   "cell_type": "code",
   "execution_count": 73,
   "metadata": {},
   "outputs": [
    {
     "data": {
      "text/plain": [
       "array([7, 5, 0, 3, 9])"
      ]
     },
     "execution_count": 73,
     "metadata": {},
     "output_type": "execute_result"
    }
   ],
   "source": [
    "# 마지막 속성의 값이 최대인 샘플 하나를 고르시오\n",
    "a[np.argmax(a[:,-1])]"
   ]
  },
  {
   "cell_type": "code",
   "execution_count": null,
   "metadata": {},
   "outputs": [],
   "source": []
  },
  {
   "cell_type": "code",
   "execution_count": 74,
   "metadata": {},
   "outputs": [
    {
     "data": {
      "text/plain": [
       "24"
      ]
     },
     "execution_count": 74,
     "metadata": {},
     "output_type": "execute_result"
    }
   ],
   "source": [
    "np.argmax(a)"
   ]
  },
  {
   "cell_type": "code",
   "execution_count": 75,
   "metadata": {},
   "outputs": [
    {
     "data": {
      "text/plain": [
       "6"
      ]
     },
     "execution_count": 75,
     "metadata": {},
     "output_type": "execute_result"
    }
   ],
   "source": [
    "np.argmin(a)"
   ]
  },
  {
   "cell_type": "code",
   "execution_count": 76,
   "metadata": {},
   "outputs": [
    {
     "data": {
      "text/plain": [
       "array([4, 2, 2, 1, 4], dtype=int64)"
      ]
     },
     "execution_count": 76,
     "metadata": {},
     "output_type": "execute_result"
    }
   ],
   "source": [
    "np.argmax(a,axis=0)"
   ]
  },
  {
   "cell_type": "code",
   "execution_count": 77,
   "metadata": {},
   "outputs": [
    {
     "data": {
      "text/plain": [
       "array([2, 1, 4, 0, 2], dtype=int64)"
      ]
     },
     "execution_count": 77,
     "metadata": {},
     "output_type": "execute_result"
    }
   ],
   "source": [
    "np.argmin(a, axis=0)"
   ]
  },
  {
   "cell_type": "code",
   "execution_count": null,
   "metadata": {},
   "outputs": [],
   "source": []
  },
  {
   "cell_type": "code",
   "execution_count": 78,
   "metadata": {},
   "outputs": [
    {
     "data": {
      "text/plain": [
       "array([131,  15, 118, 100], dtype=int64)"
      ]
     },
     "execution_count": 78,
     "metadata": {},
     "output_type": "execute_result"
    }
   ],
   "source": [
    "np.argmax(iris, axis=0)"
   ]
  },
  {
   "cell_type": "code",
   "execution_count": 79,
   "metadata": {},
   "outputs": [
    {
     "data": {
      "text/plain": [
       "array([13, 60, 22,  9], dtype=int64)"
      ]
     },
     "execution_count": 79,
     "metadata": {},
     "output_type": "execute_result"
    }
   ],
   "source": [
    "np.argmin(iris, axis=0)"
   ]
  },
  {
   "cell_type": "code",
   "execution_count": null,
   "metadata": {},
   "outputs": [],
   "source": []
  },
  {
   "cell_type": "markdown",
   "metadata": {},
   "source": [
    "### np.where() 함수\n",
    "- 조건에 맞는 인덱스를 반환한다\n",
    "- 또는, 조건에 따라 값을 할당한다\n",
    "> 교재 140쪽"
   ]
  },
  {
   "cell_type": "code",
   "execution_count": 91,
   "metadata": {},
   "outputs": [
    {
     "data": {
      "text/plain": [
       "array([[1, 1],\n",
       "       [5, 6],\n",
       "       [2, 5],\n",
       "       [1, 3],\n",
       "       [3, 1],\n",
       "       [5, 1],\n",
       "       [6, 3],\n",
       "       [5, 5],\n",
       "       [1, 2],\n",
       "       [2, 1]])"
      ]
     },
     "execution_count": 91,
     "metadata": {},
     "output_type": "execute_result"
    }
   ],
   "source": [
    "a = np.random.randint(1,7, size=[10,2])\n",
    "a"
   ]
  },
  {
   "cell_type": "code",
   "execution_count": 92,
   "metadata": {},
   "outputs": [
    {
     "data": {
      "text/plain": [
       "(array([1, 1, 2, 5, 6, 7, 7], dtype=int64),\n",
       " array([0, 1, 1, 0, 0, 0, 1], dtype=int64))"
      ]
     },
     "execution_count": 92,
     "metadata": {},
     "output_type": "execute_result"
    }
   ],
   "source": [
    "np.where(a>4)"
   ]
  },
  {
   "cell_type": "code",
   "execution_count": 95,
   "metadata": {},
   "outputs": [
    {
     "data": {
      "text/plain": [
       "array([[5, 6],\n",
       "       [2, 5],\n",
       "       [5, 1],\n",
       "       [6, 3],\n",
       "       [5, 5]])"
      ]
     },
     "execution_count": 95,
     "metadata": {},
     "output_type": "execute_result"
    }
   ],
   "source": [
    "a[list(set([1,1,2,5,6,7,7]))]"
   ]
  },
  {
   "cell_type": "code",
   "execution_count": 97,
   "metadata": {},
   "outputs": [
    {
     "data": {
      "text/plain": [
       "array([[5, 6],\n",
       "       [5, 6],\n",
       "       [2, 5],\n",
       "       [5, 1],\n",
       "       [6, 3],\n",
       "       [5, 5],\n",
       "       [5, 5]])"
      ]
     },
     "execution_count": 97,
     "metadata": {},
     "output_type": "execute_result"
    }
   ],
   "source": [
    "a[np.where(a>4)[0]]"
   ]
  },
  {
   "cell_type": "code",
   "execution_count": 96,
   "metadata": {},
   "outputs": [
    {
     "data": {
      "text/plain": [
       "array([[5, 6],\n",
       "       [2, 5],\n",
       "       [5, 1],\n",
       "       [6, 3],\n",
       "       [5, 5]])"
      ]
     },
     "execution_count": 96,
     "metadata": {},
     "output_type": "execute_result"
    }
   ],
   "source": [
    "a[list(set(np.where(a>4)[0]))]"
   ]
  },
  {
   "cell_type": "code",
   "execution_count": 98,
   "metadata": {},
   "outputs": [
    {
     "data": {
      "text/plain": [
       "array([[5, 6],\n",
       "       [2, 5],\n",
       "       [5, 1],\n",
       "       [6, 3],\n",
       "       [5, 5]])"
      ]
     },
     "execution_count": 98,
     "metadata": {},
     "output_type": "execute_result"
    }
   ],
   "source": [
    "a[np.unique(np.where(a>4)[0])] # 일반적인 중복 제거 방법"
   ]
  },
  {
   "cell_type": "code",
   "execution_count": null,
   "metadata": {},
   "outputs": [],
   "source": []
  },
  {
   "cell_type": "code",
   "execution_count": 80,
   "metadata": {},
   "outputs": [
    {
     "data": {
      "text/plain": [
       "array([[5, 1, 2],\n",
       "       [2, 7, 3],\n",
       "       [4, 5, 0]])"
      ]
     },
     "execution_count": 80,
     "metadata": {},
     "output_type": "execute_result"
    }
   ],
   "source": [
    "a = np.array([[5,1,2], [2,7,3], [4,5,0]])\n",
    "a"
   ]
  },
  {
   "cell_type": "code",
   "execution_count": 81,
   "metadata": {},
   "outputs": [
    {
     "data": {
      "text/plain": [
       "(array([0, 1, 2, 2], dtype=int64), array([0, 1, 0, 1], dtype=int64))"
      ]
     },
     "execution_count": 81,
     "metadata": {},
     "output_type": "execute_result"
    }
   ],
   "source": [
    "np.where(a>3)"
   ]
  },
  {
   "cell_type": "code",
   "execution_count": 82,
   "metadata": {},
   "outputs": [
    {
     "data": {
      "text/plain": [
       "array([0, 1, 2, 2], dtype=int64)"
      ]
     },
     "execution_count": 82,
     "metadata": {},
     "output_type": "execute_result"
    }
   ],
   "source": [
    "np.where(a>3)[0]"
   ]
  },
  {
   "cell_type": "code",
   "execution_count": 83,
   "metadata": {},
   "outputs": [
    {
     "data": {
      "text/plain": [
       "array([[5, 1, 2],\n",
       "       [2, 7, 3],\n",
       "       [4, 5, 0],\n",
       "       [4, 5, 0]])"
      ]
     },
     "execution_count": 83,
     "metadata": {},
     "output_type": "execute_result"
    }
   ],
   "source": [
    "a[np.where(a>3)[0]]"
   ]
  },
  {
   "cell_type": "code",
   "execution_count": 84,
   "metadata": {},
   "outputs": [
    {
     "data": {
      "text/plain": [
       "array([0, 1, 0, 1], dtype=int64)"
      ]
     },
     "execution_count": 84,
     "metadata": {},
     "output_type": "execute_result"
    }
   ],
   "source": [
    "np.where(a>3)[1]"
   ]
  },
  {
   "cell_type": "code",
   "execution_count": 85,
   "metadata": {},
   "outputs": [
    {
     "data": {
      "text/plain": [
       "array([5, 7, 4, 5])"
      ]
     },
     "execution_count": 85,
     "metadata": {},
     "output_type": "execute_result"
    }
   ],
   "source": [
    "a[  np.where(a>3)   ]"
   ]
  },
  {
   "cell_type": "code",
   "execution_count": 86,
   "metadata": {},
   "outputs": [
    {
     "data": {
      "text/plain": [
       "3"
      ]
     },
     "execution_count": 86,
     "metadata": {},
     "output_type": "execute_result"
    }
   ],
   "source": [
    "a[1,2]"
   ]
  },
  {
   "cell_type": "code",
   "execution_count": null,
   "metadata": {},
   "outputs": [],
   "source": [
    "a[ [0,1], [1,2]   ]"
   ]
  },
  {
   "cell_type": "code",
   "execution_count": 46,
   "metadata": {},
   "outputs": [
    {
     "data": {
      "text/plain": [
       "array([5, 3, 4, 5, 0])"
      ]
     },
     "execution_count": 46,
     "metadata": {},
     "output_type": "execute_result"
    }
   ],
   "source": [
    "a[ np.where(np.sin(a)<0.5) ]"
   ]
  },
  {
   "cell_type": "code",
   "execution_count": null,
   "metadata": {},
   "outputs": [],
   "source": [
    "a[ np.sin(a)<0.5 ]"
   ]
  },
  {
   "cell_type": "code",
   "execution_count": 47,
   "metadata": {},
   "outputs": [
    {
     "data": {
      "text/plain": [
       "(array([0, 1, 2, 2], dtype=int64), array([0, 1, 0, 1], dtype=int64))"
      ]
     },
     "execution_count": 47,
     "metadata": {},
     "output_type": "execute_result"
    }
   ],
   "source": [
    "np.where(a>3)"
   ]
  },
  {
   "cell_type": "code",
   "execution_count": 48,
   "metadata": {},
   "outputs": [
    {
     "data": {
      "text/plain": [
       "array([5, 7, 4, 5])"
      ]
     },
     "execution_count": 48,
     "metadata": {},
     "output_type": "execute_result"
    }
   ],
   "source": [
    " a[np.where(a>3)]"
   ]
  },
  {
   "cell_type": "code",
   "execution_count": 50,
   "metadata": {},
   "outputs": [
    {
     "data": {
      "text/plain": [
       "(array([0, 1, 2], dtype=int64),)"
      ]
     },
     "execution_count": 50,
     "metadata": {},
     "output_type": "execute_result"
    }
   ],
   "source": [
    "b = np.array([2,1,0, 4, 3])\n",
    "np.where(b<3)"
   ]
  },
  {
   "cell_type": "code",
   "execution_count": 51,
   "metadata": {},
   "outputs": [
    {
     "data": {
      "text/plain": [
       "array([0, 1, 2], dtype=int64)"
      ]
     },
     "execution_count": 51,
     "metadata": {},
     "output_type": "execute_result"
    }
   ],
   "source": [
    "np.where(b<3)[0]"
   ]
  },
  {
   "cell_type": "code",
   "execution_count": null,
   "metadata": {},
   "outputs": [],
   "source": []
  },
  {
   "cell_type": "code",
   "execution_count": 12,
   "metadata": {},
   "outputs": [
    {
     "data": {
      "text/plain": [
       "array([[0, 2, 3, 8, 3],\n",
       "       [4, 5, 7, 3, 4],\n",
       "       [8, 7, 1, 6, 3],\n",
       "       [4, 0, 4, 6, 8],\n",
       "       [2, 4, 7, 8, 9]])"
      ]
     },
     "execution_count": 12,
     "metadata": {},
     "output_type": "execute_result"
    }
   ],
   "source": [
    "a = np.random.randint(10, size=[5,5])\n",
    "a"
   ]
  },
  {
   "cell_type": "code",
   "execution_count": 13,
   "metadata": {},
   "outputs": [
    {
     "data": {
      "text/plain": [
       "(array([0, 0, 0, 0, 1, 1, 1, 2, 2, 3, 3, 3, 4, 4], dtype=int64),\n",
       " array([0, 1, 2, 4, 0, 3, 4, 2, 4, 0, 1, 2, 0, 1], dtype=int64))"
      ]
     },
     "execution_count": 13,
     "metadata": {},
     "output_type": "execute_result"
    }
   ],
   "source": [
    "np.where(a<5)\n",
    "# ((0,2), (0,4), (1,0), ....)"
   ]
  },
  {
   "cell_type": "markdown",
   "metadata": {},
   "source": [
    "- 위와 같이, np.where() 는 어레이가 2개인 튜플로 결과값을 넘긴다. 튜플의 첫번째 어레이는 **행번호**, 두번째 어레이는 **열번호** 이다."
   ]
  },
  {
   "cell_type": "code",
   "execution_count": 14,
   "metadata": {
    "scrolled": true
   },
   "outputs": [
    {
     "data": {
      "text/plain": [
       "array([0, 2, 3, 3, 4, 3, 4, 1, 3, 4, 0, 4, 2, 4])"
      ]
     },
     "execution_count": 14,
     "metadata": {},
     "output_type": "execute_result"
    }
   ],
   "source": [
    "a[np.where(a<5)]"
   ]
  },
  {
   "cell_type": "code",
   "execution_count": 15,
   "metadata": {},
   "outputs": [
    {
     "data": {
      "text/plain": [
       "array([0, 2, 3, 3, 4, 3, 4, 1, 3, 4, 0, 4, 2, 4])"
      ]
     },
     "execution_count": 15,
     "metadata": {},
     "output_type": "execute_result"
    }
   ],
   "source": [
    "a[   ([0, 0, 0, 0, 1, 1, 1, 2, 2, 3, 3, 3, 4, 4],\n",
    " [0, 1, 2, 4, 0, 3, 4, 2, 4, 0, 1, 2, 0, 1])  ]"
   ]
  },
  {
   "cell_type": "code",
   "execution_count": null,
   "metadata": {},
   "outputs": [],
   "source": []
  },
  {
   "cell_type": "code",
   "execution_count": 16,
   "metadata": {},
   "outputs": [
    {
     "data": {
      "text/plain": [
       "array([[0, 2, 3, 8, 3],\n",
       "       [4, 5, 7, 3, 4],\n",
       "       [8, 7, 1, 6, 3],\n",
       "       [4, 0, 4, 6, 8],\n",
       "       [2, 4, 7, 8, 9]])"
      ]
     },
     "execution_count": 16,
     "metadata": {},
     "output_type": "execute_result"
    }
   ],
   "source": [
    "a"
   ]
  },
  {
   "cell_type": "code",
   "execution_count": 17,
   "metadata": {},
   "outputs": [
    {
     "data": {
      "text/plain": [
       "(array([0, 1, 2], dtype=int64),)"
      ]
     },
     "execution_count": 17,
     "metadata": {},
     "output_type": "execute_result"
    }
   ],
   "source": [
    "# 마지막 칼럼에서 5보다 작은 줄번호를 알아낸다\n",
    "np.where(a[:,-1]<5)"
   ]
  },
  {
   "cell_type": "code",
   "execution_count": 18,
   "metadata": {},
   "outputs": [
    {
     "data": {
      "text/plain": [
       "array([0, 1, 2], dtype=int64)"
      ]
     },
     "execution_count": 18,
     "metadata": {},
     "output_type": "execute_result"
    }
   ],
   "source": [
    "np.where(a[:,-1]<5)[0]"
   ]
  },
  {
   "cell_type": "code",
   "execution_count": 19,
   "metadata": {},
   "outputs": [
    {
     "data": {
      "text/plain": [
       "array([[0, 2, 3, 8, 3],\n",
       "       [4, 5, 7, 3, 4],\n",
       "       [8, 7, 1, 6, 3]])"
      ]
     },
     "execution_count": 19,
     "metadata": {},
     "output_type": "execute_result"
    }
   ],
   "source": [
    "a[np.where(a[:,-1]<5)[0]]"
   ]
  },
  {
   "cell_type": "code",
   "execution_count": 22,
   "metadata": {
    "scrolled": true
   },
   "outputs": [
    {
     "data": {
      "text/plain": [
       "array([[7. , 3.2, 4.7, 1.4, 1. ],\n",
       "       [6.4, 3.2, 4.5, 1.5, 1. ],\n",
       "       [6.9, 3.1, 4.9, 1.5, 1. ],\n",
       "       [5.5, 2.3, 4. , 1.3, 1. ],\n",
       "       [6.5, 2.8, 4.6, 1.5, 1. ],\n",
       "       [5.7, 2.8, 4.5, 1.3, 1. ],\n",
       "       [6.3, 3.3, 4.7, 1.6, 1. ],\n",
       "       [4.9, 2.4, 3.3, 1. , 1. ],\n",
       "       [6.6, 2.9, 4.6, 1.3, 1. ],\n",
       "       [5.2, 2.7, 3.9, 1.4, 1. ],\n",
       "       [5. , 2. , 3.5, 1. , 1. ],\n",
       "       [5.9, 3. , 4.2, 1.5, 1. ],\n",
       "       [6. , 2.2, 4. , 1. , 1. ],\n",
       "       [6.1, 2.9, 4.7, 1.4, 1. ],\n",
       "       [5.6, 2.9, 3.6, 1.3, 1. ],\n",
       "       [6.7, 3.1, 4.4, 1.4, 1. ],\n",
       "       [5.6, 3. , 4.5, 1.5, 1. ],\n",
       "       [5.8, 2.7, 4.1, 1. , 1. ],\n",
       "       [6.2, 2.2, 4.5, 1.5, 1. ],\n",
       "       [5.6, 2.5, 3.9, 1.1, 1. ],\n",
       "       [5.9, 3.2, 4.8, 1.8, 1. ],\n",
       "       [6.1, 2.8, 4. , 1.3, 1. ],\n",
       "       [6.3, 2.5, 4.9, 1.5, 1. ],\n",
       "       [6.1, 2.8, 4.7, 1.2, 1. ],\n",
       "       [6.4, 2.9, 4.3, 1.3, 1. ],\n",
       "       [6.6, 3. , 4.4, 1.4, 1. ],\n",
       "       [6.8, 2.8, 4.8, 1.4, 1. ],\n",
       "       [6.7, 3. , 5. , 1.7, 1. ],\n",
       "       [6. , 2.9, 4.5, 1.5, 1. ],\n",
       "       [5.7, 2.6, 3.5, 1. , 1. ],\n",
       "       [5.5, 2.4, 3.8, 1.1, 1. ],\n",
       "       [5.5, 2.4, 3.7, 1. , 1. ],\n",
       "       [5.8, 2.7, 3.9, 1.2, 1. ],\n",
       "       [6. , 2.7, 5.1, 1.6, 1. ],\n",
       "       [5.4, 3. , 4.5, 1.5, 1. ],\n",
       "       [6. , 3.4, 4.5, 1.6, 1. ],\n",
       "       [6.7, 3.1, 4.7, 1.5, 1. ],\n",
       "       [6.3, 2.3, 4.4, 1.3, 1. ],\n",
       "       [5.6, 3. , 4.1, 1.3, 1. ],\n",
       "       [5.5, 2.5, 4. , 1.3, 1. ],\n",
       "       [5.5, 2.6, 4.4, 1.2, 1. ],\n",
       "       [6.1, 3. , 4.6, 1.4, 1. ],\n",
       "       [5.8, 2.6, 4. , 1.2, 1. ],\n",
       "       [5. , 2.3, 3.3, 1. , 1. ],\n",
       "       [5.6, 2.7, 4.2, 1.3, 1. ],\n",
       "       [5.7, 3. , 4.2, 1.2, 1. ],\n",
       "       [5.7, 2.9, 4.2, 1.3, 1. ],\n",
       "       [6.2, 2.9, 4.3, 1.3, 1. ],\n",
       "       [5.1, 2.5, 3. , 1.1, 1. ],\n",
       "       [5.7, 2.8, 4.1, 1.3, 1. ]])"
      ]
     },
     "execution_count": 22,
     "metadata": {},
     "output_type": "execute_result"
    }
   ],
   "source": [
    "iris[ iris[:,-1]==1 ]"
   ]
  },
  {
   "cell_type": "code",
   "execution_count": 17,
   "metadata": {},
   "outputs": [
    {
     "data": {
      "text/plain": [
       "array([[2, 2, 4, 9, 5],\n",
       "       [8, 0, 2, 6, 7],\n",
       "       [8, 7, 7, 6, 1],\n",
       "       [2, 2, 8, 1, 6],\n",
       "       [7, 3, 7, 2, 9]])"
      ]
     },
     "execution_count": 17,
     "metadata": {},
     "output_type": "execute_result"
    }
   ],
   "source": [
    "a"
   ]
  },
  {
   "cell_type": "markdown",
   "metadata": {},
   "source": [
    "- np.where() 에서 두번째, 세번째 인자로 값을 설정할 수 있다."
   ]
  },
  {
   "cell_type": "code",
   "execution_count": 99,
   "metadata": {},
   "outputs": [
    {
     "data": {
      "text/plain": [
       "array([[9, 9, 6, 7, 8],\n",
       "       [0, 2, 5, 4, 5],\n",
       "       [4, 2, 5, 8, 8],\n",
       "       [9, 5, 6, 5, 6],\n",
       "       [3, 6, 3, 9, 5]])"
      ]
     },
     "execution_count": 99,
     "metadata": {},
     "output_type": "execute_result"
    }
   ],
   "source": [
    "a = np.random.randint(10, size=[5,5])\n",
    "a"
   ]
  },
  {
   "cell_type": "code",
   "execution_count": 100,
   "metadata": {},
   "outputs": [
    {
     "data": {
      "text/plain": [
       "array([[1, 1, 1, 1, 1],\n",
       "       [0, 0, 1, 0, 1],\n",
       "       [0, 0, 1, 1, 1],\n",
       "       [1, 1, 1, 1, 1],\n",
       "       [0, 1, 0, 1, 1]])"
      ]
     },
     "execution_count": 100,
     "metadata": {},
     "output_type": "execute_result"
    }
   ],
   "source": [
    "np.where(a<5, 0, 1)"
   ]
  },
  {
   "cell_type": "code",
   "execution_count": 105,
   "metadata": {},
   "outputs": [
    {
     "data": {
      "text/plain": [
       "array([[18. , 18. , 12. , 14. , 16. ],\n",
       "       [ 0. ,  1. , 10. ,  2. , 10. ],\n",
       "       [ 2. ,  1. , 10. , 16. , 16. ],\n",
       "       [18. , 10. , 12. , 10. , 12. ],\n",
       "       [ 1.5, 12. ,  1.5, 18. , 10. ]])"
      ]
     },
     "execution_count": 105,
     "metadata": {},
     "output_type": "execute_result"
    }
   ],
   "source": [
    "np.where(a<5, a/2, a*2)"
   ]
  },
  {
   "cell_type": "code",
   "execution_count": 54,
   "metadata": {},
   "outputs": [
    {
     "data": {
      "text/plain": [
       "array([[0, 0, 0, 9, 0],\n",
       "       [6, 6, 7, 0, 8],\n",
       "       [6, 5, 7, 0, 0],\n",
       "       [6, 5, 0, 0, 0],\n",
       "       [0, 0, 7, 5, 0]])"
      ]
     },
     "execution_count": 54,
     "metadata": {},
     "output_type": "execute_result"
    }
   ],
   "source": [
    "np.where(a<5, 0, a)"
   ]
  },
  {
   "cell_type": "code",
   "execution_count": 106,
   "metadata": {},
   "outputs": [
    {
     "data": {
      "text/plain": [
       "array([[9, 9, 6, 7, 8],\n",
       "       [1, 2, 5, 4, 5],\n",
       "       [1, 2, 5, 8, 8],\n",
       "       [9, 5, 6, 5, 6],\n",
       "       [1, 6, 3, 9, 5]])"
      ]
     },
     "execution_count": 106,
     "metadata": {},
     "output_type": "execute_result"
    }
   ],
   "source": [
    "np.where(a<5, [1,2,3,4,5], a)"
   ]
  },
  {
   "cell_type": "code",
   "execution_count": null,
   "metadata": {},
   "outputs": [],
   "source": []
  },
  {
   "cell_type": "code",
   "execution_count": 20,
   "metadata": {},
   "outputs": [
    {
     "data": {
      "text/plain": [
       "array([[5, 5, 5, 9, 5],\n",
       "       [8, 5, 5, 6, 7],\n",
       "       [8, 7, 7, 6, 5],\n",
       "       [5, 5, 8, 5, 6],\n",
       "       [7, 5, 7, 5, 9]])"
      ]
     },
     "execution_count": 20,
     "metadata": {},
     "output_type": "execute_result"
    }
   ],
   "source": [
    "np.where(a<5, 5, a)"
   ]
  },
  {
   "cell_type": "code",
   "execution_count": 55,
   "metadata": {},
   "outputs": [
    {
     "data": {
      "text/plain": [
       "array([[2, 2, 4, 7, 2],\n",
       "       [6, 6, 7, 4, 7],\n",
       "       [6, 5, 7, 2, 2],\n",
       "       [6, 5, 2, 4, 2],\n",
       "       [4, 2, 7, 5, 2]])"
      ]
     },
     "execution_count": 55,
     "metadata": {},
     "output_type": "execute_result"
    }
   ],
   "source": [
    "np.where(a<2, 2, np.where(a>7, 7, a)) # np.where 을 중첩해서 사용할 수 있다."
   ]
  },
  {
   "cell_type": "code",
   "execution_count": 26,
   "metadata": {},
   "outputs": [
    {
     "name": "stdout",
     "output_type": "stream",
     "text": [
      "1\n"
     ]
    }
   ],
   "source": [
    "n = 999\n",
    "print(-1 if n<0 else (1 if n>0 else 0))"
   ]
  },
  {
   "cell_type": "code",
   "execution_count": 109,
   "metadata": {},
   "outputs": [
    {
     "data": {
      "text/plain": [
       "(array([1., 3., 1., 4., 3., 4., 5., 1., 2., 1.]),\n",
       " array([-2.        , -1.64711345, -1.29422691, -0.94134036, -0.58845381,\n",
       "        -0.23556727,  0.11731928,  0.47020582,  0.82309237,  1.17597892,\n",
       "         1.52886546]),\n",
       " <a list of 10 Patch objects>)"
      ]
     },
     "execution_count": 109,
     "metadata": {},
     "output_type": "execute_result"
    },
    {
     "data": {
      "image/png": "[encoded data removed]",
      "text/plain": [
       "<matplotlib.figure.Figure at 0x275005de780>"
      ]
     },
     "metadata": {},
     "output_type": "display_data"
    }
   ],
   "source": [
    "# 표준정규분포로 5*5 배열을 만들고 절대값이 2보다 큰 수들을 2 나 -2 로 바꾸시오\n",
    "a = np.random.randn(5,5)\n",
    "a = np.where(a>2, 2, np.where(a<-2,-2, a))\n",
    "#a[a>2]=2\n",
    "#a[a<-2]=2\n",
    "plt.hist(a.ravel())"
   ]
  },
  {
   "cell_type": "code",
   "execution_count": null,
   "metadata": {},
   "outputs": [],
   "source": []
  },
  {
   "cell_type": "markdown",
   "metadata": {},
   "source": [
    "- np.maximum() 은 어레이나 숫자 두 가지를 비교하여 큰 값으로 값을 설정한다."
   ]
  },
  {
   "cell_type": "code",
   "execution_count": 111,
   "metadata": {},
   "outputs": [],
   "source": [
    "a = np.random.randint(10, size=[5,5])"
   ]
  },
  {
   "cell_type": "code",
   "execution_count": 112,
   "metadata": {},
   "outputs": [
    {
     "name": "stdout",
     "output_type": "stream",
     "text": [
      "[[5 3 8 2 1]\n",
      " [7 1 2 7 4]\n",
      " [7 5 7 8 6]\n",
      " [1 3 9 0 7]\n",
      " [3 3 1 8 9]]\n"
     ]
    }
   ],
   "source": [
    "print(a)"
   ]
  },
  {
   "cell_type": "code",
   "execution_count": 113,
   "metadata": {},
   "outputs": [
    {
     "data": {
      "text/plain": [
       "array([[5, 5, 8, 5, 5],\n",
       "       [7, 5, 5, 7, 5],\n",
       "       [7, 5, 7, 8, 6],\n",
       "       [5, 5, 9, 5, 7],\n",
       "       [5, 5, 5, 8, 9]])"
      ]
     },
     "execution_count": 113,
     "metadata": {},
     "output_type": "execute_result"
    }
   ],
   "source": [
    "np.maximum(a,5)"
   ]
  },
  {
   "cell_type": "code",
   "execution_count": 117,
   "metadata": {},
   "outputs": [
    {
     "data": {
      "text/plain": [
       "<matplotlib.colorbar.Colorbar at 0x27501ae8f60>"
      ]
     },
     "execution_count": 117,
     "metadata": {},
     "output_type": "execute_result"
    },
    {
     "data": {
      "image/png": "[encoded data removed]",
      "text/plain": [
       "<matplotlib.figure.Figure at 0x2750050d358>"
      ]
     },
     "metadata": {},
     "output_type": "display_data"
    }
   ],
   "source": [
    "plt.imshow(a, vmin=0, vmax=9, cmap='gray_r')\n",
    "plt.colorbar()"
   ]
  },
  {
   "cell_type": "code",
   "execution_count": 118,
   "metadata": {},
   "outputs": [
    {
     "data": {
      "text/plain": [
       "<matplotlib.colorbar.Colorbar at 0x27501b9b8d0>"
      ]
     },
     "execution_count": 118,
     "metadata": {},
     "output_type": "execute_result"
    },
    {
     "data": {
      "image/png": "[encoded data removed]",
      "text/plain": [
       "<matplotlib.figure.Figure at 0x27500788400>"
      ]
     },
     "metadata": {},
     "output_type": "display_data"
    }
   ],
   "source": [
    "plt.imshow(np.maximum(a,5), vmin=0, vmax=9, cmap='gray_r')\n",
    "plt.colorbar()"
   ]
  },
  {
   "cell_type": "code",
   "execution_count": null,
   "metadata": {},
   "outputs": [],
   "source": []
  }
 ],
 "metadata": {
  "kernelspec": {
   "display_name": "Python 3",
   "language": "python",
   "name": "python3"
  },
  "language_info": {
   "codemirror_mode": {
    "name": "ipython",
    "version": 3
   },
   "file_extension": ".py",
   "mimetype": "text/x-python",
   "name": "python",
   "nbconvert_exporter": "python",
   "pygments_lexer": "ipython3",
   "version": "3.6.4"
  }
 },
 "nbformat": 4,
 "nbformat_minor": 2
}
